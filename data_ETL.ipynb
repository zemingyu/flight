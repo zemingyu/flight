{
 "cells": [
  {
   "cell_type": "code",
   "execution_count": 1,
   "metadata": {
    "collapsed": false
   },
   "outputs": [
    {
     "data": {
      "text/plain": [
       "'2.1.1'"
      ]
     },
     "metadata": {},
     "output_type": "display_data"
    }
   ],
   "source": [
    "import h2o\n",
    "import zipfile\n",
    "import os\n",
    "import sys\n",
    "from pyspark.sql import SparkSession\n",
    "from IPython.display import display\n",
    "from pyspark.sql.functions import regexp_extract, col, split, udf, \\\n",
    "                                 trim, when, from_unixtime, unix_timestamp, minute, hour, datediff, lit, array\n",
    "from pyspark.sql import functions as F\n",
    "from pyspark.sql.types import IntegerType, StringType, BooleanType, ArrayType, StructType, StructField, LongType, TimestampType\n",
    "import datetime\n",
    "import argparse\n",
    "import json\n",
    "import glob, os, shutil\n",
    "import pandas as pd\n",
    "from pandas.io.json import json_normalize\n",
    "from pyspark import SparkContext\n",
    "\n",
    "pd.options.display.max_columns = 99\n",
    "\n",
    "sc = SparkContext()\n",
    "\n",
    "spark = SparkSession \\\n",
    "        .builder \\\n",
    "        .appName(\"Data ETL\") \\\n",
    "        .config(\"spark.some.config.option\", \"some-value\") \\\n",
    "        .getOrCreate()\n",
    "        \n",
    "display(spark.version)"
   ]
  },
  {
   "cell_type": "markdown",
   "metadata": {},
   "source": [
    "# Load Data"
   ]
  },
  {
   "cell_type": "code",
   "execution_count": 2,
   "metadata": {
    "collapsed": false
   },
   "outputs": [
    {
     "data": {
      "text/plain": [
       "2288103"
      ]
     },
     "metadata": {},
     "output_type": "display_data"
    },
    {
     "name": "stdout",
     "output_type": "stream",
     "text": [
      "+--------------+----------+---------+----------------+-------+------------+----+-------+------------+-------------+--------------------+-------------+--------------------+--------------------+--------+-----------+-------------+-----+--------------------+-----+------+----------+-----------+---------+----+-------------------+-----------+-----+----+\n",
      "|from_city_name|start_date|stay_days|      table_name|task_id|to_city_name|trip|version|airline_code|airline_codes|            arr_time|check_bag_inc|             company|            dep_time|duration|flight_code|flight_number|index|               plane|power| price|price_code|search_date|span_days|stop|          stop_info|ticket_left|video|wifi|\n",
      "+--------------+----------+---------+----------------+-------+------------+----+-------+------------+-------------+--------------------+-------------+--------------------+--------------------+--------+-----------+-------------+-----+--------------------+-----+------+----------+-----------+---------+----+-------------------+-----------+-----+----+\n",
      "|        sydney|2017-09-09|       28|flight_1_5_price|    620|     beijing|   2|    1.0|          QF|     [QF, CA]|2017-09-10T04:10:...|        false|      Qantas Airways|2017-09-09T11:15:...|  18h55m|      QF145|          145|   55|BOEING 737-800 (W...| null|   0.0|          | 2017-05-08|        0|   1|Auckland(AKL):2h35m|          0| null|null|\n",
      "|        sydney|2017-09-09|       28|flight_1_5_price|    620|     beijing|   2|    1.0|          MU|     [MU, MU]|2017-09-10T17:25:...|        false|China Eastern Air...|2017-09-09T20:50:...|  22h35m|      MU778|          778|    4|AIRBUS INDUSTRIE ...| null|472.14|       AUD| 2017-05-08|        0|   1| Kunming(KMG):8h30m|          4| null|null|\n",
      "+--------------+----------+---------+----------------+-------+------------+----+-------+------------+-------------+--------------------+-------------+--------------------+--------------------+--------+-----------+-------------+-----+--------------------+-----+------+----------+-----------+---------+----+-------------------+-----------+-----+----+\n",
      "only showing top 2 rows\n",
      "\n"
     ]
    },
    {
     "data": {
      "text/plain": [
       "None"
      ]
     },
     "metadata": {},
     "output_type": "display_data"
    },
    {
     "name": "stdout",
     "output_type": "stream",
     "text": [
      "/home/ubuntu/s3/comb/txt_exception/\n"
     ]
    },
    {
     "data": {
      "text/plain": [
       "74603"
      ]
     },
     "metadata": {},
     "output_type": "display_data"
    },
    {
     "name": "stdout",
     "output_type": "stream",
     "text": [
      "+------------+----------+--------------------+--------------------+--------+-----+----------+--------+------------------+-------+--------------------+--------------------+--------+----+--------------------+-------+\n",
      "|currencyCode|   depDate|         flight_leg1|         flight_leg2|fromCity|price|searchDate|stayDays|         tableName|task_id|       timeline_leg1|       timeline_leg2|  toCity|trip|                 url|version|\n",
      "+------------+----------+--------------------+--------------------+--------+-----+----------+--------+------------------+-------+--------------------+--------------------+--------+----+--------------------+-------+\n",
      "|         AUD|2017-05-18|[[Hangzhou,HGH],2...|[[Bangkok,BKK],20...| Bangkok|401.3|2017-05-11|       7|flight_15_13_price|  16232|[[[Macau, Macau,M...|[[[Macau, Macau,M...|Hangzhou|   2|https://www.exped...|    1.1|\n",
      "+------------+----------+--------------------+--------------------+--------+-----+----------+--------+------------------+-------+--------------------+--------------------+--------+----+--------------------+-------+\n",
      "only showing top 1 row\n",
      "\n"
     ]
    },
    {
     "data": {
      "text/plain": [
       "None"
      ]
     },
     "metadata": {},
     "output_type": "display_data"
    }
   ],
   "source": [
    "# Version 1.0\n",
    "flight = spark.read.parquet(\"/home/ubuntu/s3/comb/flight_v1_0.pq\")\n",
    "display(flight.count())\n",
    "display(flight.show(2))\n",
    "\n",
    "txt_exception_folder = '/home/ubuntu/s3/comb/txt_exception/'\n",
    "print(txt_exception_folder)\n",
    "\n",
    "# Version 1.1\n",
    "flightv1_1 = spark.read.json(os.path.join(txt_exception_folder, \"flight_15_13_price_2017-05-11*.txt\"))\n",
    "display(flightv1_1.count())\n",
    "display(flightv1_1.show(1))"
   ]
  },
  {
   "cell_type": "markdown",
   "metadata": {},
   "source": [
    "# Modify version 1.0"
   ]
  },
  {
   "cell_type": "code",
   "execution_count": 3,
   "metadata": {
    "collapsed": false
   },
   "outputs": [
    {
     "name": "stdout",
     "output_type": "stream",
     "text": [
      "+------+-------+----------+----------------+-------+------------+--------+-------+----+----------+-------+--------+--------------------+--------------------+--------------+----------+-----------+----------------+-----+---------------+------------+-------------+--------------------+---------+-----+-----+-----+\n",
      "| price|version|searchDate|       tableName|task_id|currencyCode|fromCity| toCity|trip|   depDate|retDate|stayDays|       departureTime|         arrivalTime|   airlineName|duration_m|flight_code|           plane|stops|noOfTicketsLeft|airline_code|airline_codes|           stop_info|span_days|power|video| wifi|\n",
      "+------+-------+----------+----------------+-------+------------+--------+-------+----+----------+-------+--------+--------------------+--------------------+--------------+----------+-----------+----------------+-----+---------------+------------+-------------+--------------------+---------+-----+-----+-----+\n",
      "|605.72|    1.0|2017-05-01|flight_1_5_price|    676|         AUD|  sydney|beijing|   1|2017-09-14|   null|    null|2017-09-14T21:55:...|2017-09-15T18:20:...|Cathay Pacific|    1345.0|      CX138|BOEING 777-300ER|    1|              9|          CX|     [CX, CX]|[Hong Kong(HKG):9...|        0| true| true|false|\n",
      "+------+-------+----------+----------------+-------+------------+--------+-------+----+----------+-------+--------+--------------------+--------------------+--------------+----------+-----------+----------------+-----+---------------+------------+-------------+--------------------+---------+-----+-----+-----+\n",
      "only showing top 1 row\n",
      "\n"
     ]
    },
    {
     "data": {
      "text/plain": [
       "None"
      ]
     },
     "metadata": {},
     "output_type": "display_data"
    },
    {
     "name": "stdout",
     "output_type": "stream",
     "text": [
      "+-----+-------+----------+----------------+-------+------------+--------+-------+----+----------+----------+--------+-----------------------------+-----------------------------+--------------+----------+-----------+-----------------------------------+-----+---------------+------------+-------------+---------------------+---------+-----+-----+----+\n",
      "|price|version|searchDate|tableName       |task_id|currencyCode|fromCity|toCity |trip|depDate   |retDate   |stayDays|departureTime                |arrivalTime                  |airlineName   |duration_m|flight_code|plane                              |stops|noOfTicketsLeft|airline_code|airline_codes|stop_info            |span_days|power|video|wifi|\n",
      "+-----+-------+----------+----------------+-------+------------+--------+-------+----+----------+----------+--------+-----------------------------+-----------------------------+--------------+----------+-----------+-----------------------------------+-----+---------------+------------+-------------+---------------------+---------+-----+-----+----+\n",
      "|0.0  |1.0    |2017-05-08|flight_1_5_price|620    |            |sydney  |beijing|2   |2017-09-09|2017-10-07|28      |2017-09-09T11:15:00.000+10:00|2017-09-10T04:10:00.000+08:00|Qantas Airways|1135.0    |QF145      |BOEING 737-800 (WINGLETS) PASSENGER|1    |999            |QF          |[QF, CA]     |[Auckland(AKL):2h35m]|0        |null |null |null|\n",
      "+-----+-------+----------+----------------+-------+------------+--------+-------+----+----------+----------+--------+-----------------------------+-----------------------------+--------------+----------+-----------+-----------------------------------+-----+---------------+------------+-------------+---------------------+---------+-----+-----+----+\n",
      "only showing top 1 row\n",
      "\n"
     ]
    },
    {
     "data": {
      "text/plain": [
       "None"
      ]
     },
     "metadata": {},
     "output_type": "display_data"
    },
    {
     "name": "stdout",
     "output_type": "stream",
     "text": [
      "root\n",
      " |-- price: double (nullable = true)\n",
      " |-- version: string (nullable = true)\n",
      " |-- searchDate: string (nullable = true)\n",
      " |-- tableName: string (nullable = true)\n",
      " |-- task_id: string (nullable = true)\n",
      " |-- currencyCode: string (nullable = true)\n",
      " |-- fromCity: string (nullable = true)\n",
      " |-- toCity: string (nullable = true)\n",
      " |-- trip: string (nullable = true)\n",
      " |-- depDate: string (nullable = true)\n",
      " |-- retDate: date (nullable = true)\n",
      " |-- stayDays: integer (nullable = true)\n",
      " |-- departureTime: string (nullable = true)\n",
      " |-- arrivalTime: string (nullable = true)\n",
      " |-- airlineName: string (nullable = true)\n",
      " |-- duration_m: double (nullable = true)\n",
      " |-- flight_code: string (nullable = true)\n",
      " |-- plane: string (nullable = true)\n",
      " |-- stops: long (nullable = true)\n",
      " |-- noOfTicketsLeft: integer (nullable = true)\n",
      " |-- airline_code: string (nullable = true)\n",
      " |-- airline_codes: array (nullable = true)\n",
      " |    |-- element: string (containsNull = true)\n",
      " |-- stop_info: array (nullable = true)\n",
      " |    |-- element: string (containsNull = true)\n",
      " |-- span_days: long (nullable = true)\n",
      " |-- power: boolean (nullable = true)\n",
      " |-- video: boolean (nullable = true)\n",
      " |-- wifi: boolean (nullable = true)\n",
      "\n"
     ]
    }
   ],
   "source": [
    "# for one way trips, display None in stay_days\n",
    "def correct_stay_days(trip, stay_days):\n",
    "    if trip == '1':\n",
    "        return None\n",
    "    else:\n",
    "        return int(stay_days)\n",
    "\n",
    "correct_stay_days_UDF = udf(correct_stay_days, IntegerType())\n",
    "\n",
    "def correct_tickets_left(noOfTicketsLeft):\n",
    "    if noOfTicketsLeft == 0:\n",
    "        return 999\n",
    "    else:\n",
    "        return noOfTicketsLeft\n",
    "    \n",
    "correct_tickets_left_UDF = udf(correct_tickets_left, IntegerType())\n",
    "\n",
    "\n",
    "flight2 = (flight.withColumn('stayDays', correct_stay_days_UDF(col('trip'), col('stay_days')))\n",
    "                 .drop('stay_days')\n",
    "                 .withColumnRenamed('start_date', 'depDate')                 \n",
    "                 .selectExpr('*', 'date_add(depDate, stayDays) as retDate')# this is when the return trip starts, might arrive a day later\n",
    "                 .withColumnRenamed('from_city_name', 'fromCity')\n",
    "                 .withColumnRenamed('to_city_name', 'toCity')                 \n",
    "                 .withColumnRenamed('search_date', 'searchDate')                 \n",
    "                 .withColumnRenamed('company', 'airlineName')                 \n",
    "                 .withColumnRenamed('dep_time', 'departureTime')                                  \n",
    "                 .withColumnRenamed('arr_time', 'arrivalTime')                                                   \n",
    "                 .withColumn('duration_h', split(flight.duration,'h').getItem(0))\n",
    "                 .withColumn('duration_m', F.substring_index(split(flight.duration,'h').getItem(1), 'm', 1))\n",
    "#                  .withColumn('duration', F.struct(col('duration_h'), col('duration_m')))\n",
    "                 .withColumn('duration_m', (col('duration_h')*60 + col('duration_m')))\n",
    "                 .drop('duration', 'duration_h', 'flight_number')\n",
    "                 .withColumnRenamed('price_code', 'currencyCode')                                  \n",
    "                 .withColumnRenamed('stop', 'stops')                                  \n",
    "                 .withColumn('stop_info', split(col('stop_info'), ';'))\n",
    "                 .withColumn('noOfTicketsLeft', correct_tickets_left_UDF('ticket_left'))\n",
    "                .drop('ticket_left')\n",
    "               .withColumnRenamed('table_name', 'tableName')\n",
    "                .select('price', 'version', 'searchDate', 'tableName', 'task_id', 'currencyCode', \n",
    "                        'fromCity', 'toCity', 'trip', 'depDate', 'retDate',\n",
    "                        'stayDays', \n",
    "                       'departureTime', 'arrivalTime', \n",
    "                        'airlineName',  'duration_m', \n",
    "                        'flight_code', 'plane', 'stops', 'noOfTicketsLeft',\n",
    "                       'airline_code', 'airline_codes',\n",
    "                       'stop_info', 'span_days', 'power', 'video', 'wifi')                \n",
    "          )\n",
    "# varaibles added in v1.1: 'departureTime_leg2', 'arrivalTime_leg2', 'airlineName_leg2','duration_m_leg2','stops_leg2'\n",
    "#  'noOfTicketsLeft_leg2','airline_codes_leg2', \n",
    "# 'stop_list', 'url'\n",
    "\n",
    "# variables dropped in v1.1:\n",
    "# 'span_days', 'power', 'video', 'wifi', 'stop_info'\n",
    "\n",
    "display(flight2.where(col('trip') == 1).show(1))\n",
    "display(flight2.where(col('trip') == 2).show(1, truncate=False))\n",
    "flight2.printSchema()\n",
    "\n",
    "# flight2.select('flight_code', 'flight_number').distinct().show(1000)\n",
    "# flight2.select('stop_info').distinct().show()\n",
    "# flight2.select('stop_list').distinct().show(100, truncate=False)"
   ]
  },
  {
   "cell_type": "markdown",
   "metadata": {},
   "source": [
    "# Modify Version 1.1"
   ]
  },
  {
   "cell_type": "code",
   "execution_count": 4,
   "metadata": {
    "collapsed": false
   },
   "outputs": [
    {
     "name": "stdout",
     "output_type": "stream",
     "text": [
      "+------------+----------+--------------------+--------------------+--------+-----+----------+--------+------------------+-------+--------------------+--------------------+--------+----+--------------------+-------+\n",
      "|currencyCode|   depDate|         flight_leg1|         flight_leg2|fromCity|price|searchDate|stayDays|         tableName|task_id|       timeline_leg1|       timeline_leg2|  toCity|trip|                 url|version|\n",
      "+------------+----------+--------------------+--------------------+--------+-----+----------+--------+------------------+-------+--------------------+--------------------+--------+----+--------------------+-------+\n",
      "|         AUD|2017-05-18|[[Hangzhou,HGH],2...|[[Bangkok,BKK],20...| Bangkok|401.3|2017-05-11|       7|flight_15_13_price|  16232|[[[Macau, Macau,M...|[[[Macau, Macau,M...|Hangzhou|   2|https://www.exped...|    1.1|\n",
      "|         AUD|2017-05-18|[[Hangzhou,HGH],2...|[[Bangkok,BKK],20...| Bangkok|401.3|2017-05-11|       7|flight_15_13_price|  16232|[[[Macau, Macau,M...|[[[Macau, Macau,M...|Hangzhou|   2|https://www.exped...|    1.1|\n",
      "+------------+----------+--------------------+--------------------+--------+-----+----------+--------+------------------+-------+--------------------+--------------------+--------+----+--------------------+-------+\n",
      "only showing top 2 rows\n",
      "\n"
     ]
    }
   ],
   "source": [
    "flightv1_1.show(2)"
   ]
  },
  {
   "cell_type": "code",
   "execution_count": 6,
   "metadata": {
    "collapsed": false
   },
   "outputs": [],
   "source": [
    "\n",
    "# # take_all_level1_str = udf(lambda rows, a: [row[a] for row in rows], ArrayType(StringType()))\n",
    "# take_all_level2_str = udf(lambda rows, a, b:  [None if row is None else row[a][b] for row in rows], ArrayType(StringType()))\n",
    "# # take_all = udf(lambda rows, a: [row[a]['city'] for row in rows], ArrayType(StringType()))\n",
    "\n",
    "\n",
    "# flightv1_1.withColumn(\"city\", take_all_level2_str(flightv1_1.timeline_leg1, lit('arrivalAirport'), lit('city')))\\\n",
    "#                       .select('airports').show(10)\n",
    "# # flightv1_1.withColumn(\"airports\", take_all_level1_str(flightv1_1.timeline_leg1, 'type')).select('airports').show(10)\n",
    "# # flightv1_1.withColumn(\"airports\", take_all(flightv1_1.timeline_leg1, lit('arrivalAirport'))).select('airports').show(10)\n",
    "\n",
    "# # display(flightv1_1.select('timeline_leg1').show(100, truncate=False))\n",
    "\n"
   ]
  },
  {
   "cell_type": "code",
   "execution_count": null,
   "metadata": {
    "collapsed": false
   },
   "outputs": [],
   "source": [
    "# df.selectExpr(\"explode(check) as e\").select(\"e.*\").show()\n",
    "\n",
    "# flightv1_1.selectExpr('explode(timeline_leg1) as e').select('e.*').show(truncate=False)"
   ]
  },
  {
   "cell_type": "code",
   "execution_count": 7,
   "metadata": {
    "collapsed": false
   },
   "outputs": [
    {
     "name": "stdout",
     "output_type": "stream",
     "text": [
      "+------+-------+----------+------------------+-------+------------+--------+--------+----+----------+-------+--------+--------------------+--------------------+------------------+----------------+------------+----------------+----------+---------------+-----------+-----+-----+----------+---------+--------------+---------------+--------------------+------------+-------------+------------------+--------------------+-------------------+-----------------+------------------------+----------------------+--------------------+---------------------------+----------------------+----------------+---------------------+-------------------------+--------------------------------+---------------------------+---------------------+--------------------------+-----------------------------------+------------------------------+------------------------------+-----------------------------------+----------------------------------+------------------------------+----------------------+---------------------------------+----------------------------+----------------------------+---------------------------------+--------------------------------+----------------------------+--------------------+-----------------+--------------+------------------------+-------------+----------------------------------------+-----------------------------------+-----------------------------------+----------------------------------------+---------------------------------------+-----------------------------------+---------------------------+--------------------------------------+---------------------------------+---------------------------------+--------------------------------------+-------------------------------------+---------------------------------+-------------------------+----------------------+-------------------+-----------------------------+------------------+\n",
      "| price|version|searchDate|         tableName|task_id|currencyCode|fromCity|  toCity|trip|   depDate|retDate|stayDays|       departureTime|         arrivalTime|departureTime_leg2|arrivalTime_leg2| airlineName|airlineName_leg2|duration_m|duration_m_leg2|flight_code|plane|stops|stops_leg2|stop_list|stop_list_leg2|noOfTicketsLeft|noOfTicketsLeft_leg2|airline_code|airline_codes|airline_codes_leg2|                 url|fromCityAirportCode|toCityAirportCode|fromCityAirportCode_leg2|toCityAirportCode_leg2|carrierAirProviderId|carrierAirlineImageFileName|carrierMixedCabinClass|carrierMultiStop|carrierNextDayArrival|carrierAirProviderId_leg2|carrierAirlineImageFileName_leg2|carrierMixedCabinClass_leg2|carrierMultiStop_leg2|carrierNextDayArrival_leg2|timeline_departureAirport_cityState|timeline_departureAirport_city|timeline_departureAirport_code|timeline_departureAirport_localName|timeline_departureAirport_longName|timeline_departureAirport_name|timeline_departureTime|timeline_arrivalAirport_cityState|timeline_arrivalAirport_city|timeline_arrivalAirport_code|timeline_arrivalAirport_localName|timeline_arrivalAirport_longName|timeline_arrivalAirport_name|timeline_arrivalTime|timeline_distance|timeline_plane|timeline_brandedFareName|timeline_type|timeline_departureAirport_cityState_leg2|timeline_departureAirport_city_leg2|timeline_departureAirport_code_leg2|timeline_departureAirport_localName_leg2|timeline_departureAirport_longName_leg2|timeline_departureAirport_name_leg2|timeline_departureTime_leg2|timeline_arrivalAirport_cityState_leg2|timeline_arrivalAirport_city_leg2|timeline_arrivalAirport_code_leg2|timeline_arrivalAirport_localName_leg2|timeline_arrivalAirport_longName_leg2|timeline_arrivalAirport_name_leg2|timeline_arrivalTime_leg2|timeline_distance_leg2|timeline_plane_leg2|timeline_brandedFareName_leg2|timeline_type_leg2|\n",
      "+------+-------+----------+------------------+-------+------------+--------+--------+----+----------+-------+--------+--------------------+--------------------+------------------+----------------+------------+----------------+----------+---------------+-----------+-----+-----+----------+---------+--------------+---------------+--------------------+------------+-------------+------------------+--------------------+-------------------+-----------------+------------------------+----------------------+--------------------+---------------------------+----------------------+----------------+---------------------+-------------------------+--------------------------------+---------------------------+---------------------+--------------------------+-----------------------------------+------------------------------+------------------------------+-----------------------------------+----------------------------------+------------------------------+----------------------+---------------------------------+----------------------------+----------------------------+---------------------------------+--------------------------------+----------------------------+--------------------+-----------------+--------------+------------------------+-------------+----------------------------------------+-----------------------------------+-----------------------------------+----------------------------------------+---------------------------------------+-----------------------------------+---------------------------+--------------------------------------+---------------------------------+---------------------------------+--------------------------------------+-------------------------------------+---------------------------------+-------------------------+----------------------+-------------------+-----------------------------+------------------+\n",
      "|192.91|    1.1|2017-05-11|flight_15_13_price|  17016|         AUD| Bangkok|Hangzhou|   1|2017-10-22|   null|    null|2017-10-22T07:10:...|2017-10-22T11:35:...|              null|            null|Thai AirAsia|            null|     265.0|           null|      FD566|     |    0|      null|       []|            []|            999|                null|          FD|         [FD]|              null|https://www.exped...|                DMK|              HGH|                    null|                  null|                  75|                     FD.gif|                 false|           false|                false|                     null|                            null|                       null|                 null|                      null|                [Bangkok, Thailand]|                     [Bangkok]|                         [DMK]|                 [Don Mueang Intl.]|              [Bangkok, Thailan...|               [Bangkok (DMK)]|  [2017-10-22T07:10...|                [Hangzhou, China]|                  [Hangzhou]|                       [HGH]|                 [Xiaoshan Intl.]|            [Hangzhou, China ...|            [Hangzhou (HGH)]|[2017-10-22T11:35...|              [0]|            []|                      []|    [Segment]|                                    null|                               null|                               null|                                    null|                                   null|                               null|                       null|                                  null|                             null|                             null|                                  null|                                 null|                             null|                     null|                  null|               null|                         null|              null|\n",
      "+------+-------+----------+------------------+-------+------------+--------+--------+----+----------+-------+--------+--------------------+--------------------+------------------+----------------+------------+----------------+----------+---------------+-----------+-----+-----+----------+---------+--------------+---------------+--------------------+------------+-------------+------------------+--------------------+-------------------+-----------------+------------------------+----------------------+--------------------+---------------------------+----------------------+----------------+---------------------+-------------------------+--------------------------------+---------------------------+---------------------+--------------------------+-----------------------------------+------------------------------+------------------------------+-----------------------------------+----------------------------------+------------------------------+----------------------+---------------------------------+----------------------------+----------------------------+---------------------------------+--------------------------------+----------------------------+--------------------+-----------------+--------------+------------------------+-------------+----------------------------------------+-----------------------------------+-----------------------------------+----------------------------------------+---------------------------------------+-----------------------------------+---------------------------+--------------------------------------+---------------------------------+---------------------------------+--------------------------------------+-------------------------------------+---------------------------------+-------------------------+----------------------+-------------------+-----------------------------+------------------+\n",
      "only showing top 1 row\n",
      "\n"
     ]
    },
    {
     "data": {
      "text/plain": [
       "None"
      ]
     },
     "metadata": {},
     "output_type": "display_data"
    },
    {
     "name": "stdout",
     "output_type": "stream",
     "text": [
      "+-----+-------+----------+------------------+-------+------------+--------+--------+----+----------+----------+--------+--------------------+--------------------+--------------------+--------------------+-----------------+-----------------+----------+---------------+-----------+-----------+-----+----------+--------------------+--------------------+---------------+--------------------+------------+-------------+------------------+--------------------+-------------------+-----------------+------------------------+----------------------+--------------------+---------------------------+----------------------+----------------+---------------------+-------------------------+--------------------------------+---------------------------+---------------------+--------------------------+-----------------------------------+------------------------------+------------------------------+-----------------------------------+----------------------------------+------------------------------+----------------------+---------------------------------+----------------------------+----------------------------+---------------------------------+--------------------------------+----------------------------+--------------------+-----------------+--------------------+------------------------+------------------+----------------------------------------+-----------------------------------+-----------------------------------+----------------------------------------+---------------------------------------+-----------------------------------+---------------------------+--------------------------------------+---------------------------------+---------------------------------+--------------------------------------+-------------------------------------+---------------------------------+-------------------------+----------------------+--------------------+-----------------------------+------------------+\n",
      "|price|version|searchDate|         tableName|task_id|currencyCode|fromCity|  toCity|trip|   depDate|   retDate|stayDays|       departureTime|         arrivalTime|  departureTime_leg2|    arrivalTime_leg2|      airlineName| airlineName_leg2|duration_m|duration_m_leg2|flight_code|      plane|stops|stops_leg2|           stop_list|      stop_list_leg2|noOfTicketsLeft|noOfTicketsLeft_leg2|airline_code|airline_codes|airline_codes_leg2|                 url|fromCityAirportCode|toCityAirportCode|fromCityAirportCode_leg2|toCityAirportCode_leg2|carrierAirProviderId|carrierAirlineImageFileName|carrierMixedCabinClass|carrierMultiStop|carrierNextDayArrival|carrierAirProviderId_leg2|carrierAirlineImageFileName_leg2|carrierMixedCabinClass_leg2|carrierMultiStop_leg2|carrierNextDayArrival_leg2|timeline_departureAirport_cityState|timeline_departureAirport_city|timeline_departureAirport_code|timeline_departureAirport_localName|timeline_departureAirport_longName|timeline_departureAirport_name|timeline_departureTime|timeline_arrivalAirport_cityState|timeline_arrivalAirport_city|timeline_arrivalAirport_code|timeline_arrivalAirport_localName|timeline_arrivalAirport_longName|timeline_arrivalAirport_name|timeline_arrivalTime|timeline_distance|      timeline_plane|timeline_brandedFareName|     timeline_type|timeline_departureAirport_cityState_leg2|timeline_departureAirport_city_leg2|timeline_departureAirport_code_leg2|timeline_departureAirport_localName_leg2|timeline_departureAirport_longName_leg2|timeline_departureAirport_name_leg2|timeline_departureTime_leg2|timeline_arrivalAirport_cityState_leg2|timeline_arrivalAirport_city_leg2|timeline_arrivalAirport_code_leg2|timeline_arrivalAirport_localName_leg2|timeline_arrivalAirport_longName_leg2|timeline_arrivalAirport_name_leg2|timeline_arrivalTime_leg2|timeline_distance_leg2| timeline_plane_leg2|timeline_brandedFareName_leg2|timeline_type_leg2|\n",
      "+-----+-------+----------+------------------+-------+------------+--------+--------+----+----------+----------+--------+--------------------+--------------------+--------------------+--------------------+-----------------+-----------------+----------+---------------+-----------+-----------+-----+----------+--------------------+--------------------+---------------+--------------------+------------+-------------+------------------+--------------------+-------------------+-----------------+------------------------+----------------------+--------------------+---------------------------+----------------------+----------------+---------------------+-------------------------+--------------------------------+---------------------------+---------------------+--------------------------+-----------------------------------+------------------------------+------------------------------+-----------------------------------+----------------------------------+------------------------------+----------------------+---------------------------------+----------------------------+----------------------------+---------------------------------+--------------------------------+----------------------------+--------------------+-----------------+--------------------+------------------------+------------------+----------------------------------------+-----------------------------------+-----------------------------------+----------------------------------------+---------------------------------------+-----------------------------------+---------------------------+--------------------------------------+---------------------------------+---------------------------------+--------------------------------------+-------------------------------------+---------------------------------+-------------------------+----------------------+--------------------+-----------------------------+------------------+\n",
      "|401.3|    1.1|2017-05-11|flight_15_13_price|  16232|         AUD| Bangkok|Hangzhou|   2|2017-05-18|2017-05-25|       7|2017-05-18T12:15:...|2017-05-18T22:50:...|2017-05-25T09:00:...|2017-05-25T21:00:...|Air Macau Company|Air Macau Company|     635.0|          720.0|      NX885|Airbus A320|    1|         1|[[Macau, Macau (M...|[[Macau, Macau (M...|              4|                   4|          NX|     [NX, NX]|          [NX, NX]|https://www.exped...|                BKK|              HGH|                     HGH|                   BKK|                   7|                     NX.gif|                 false|            true|                false|                        7|                          NX.gif|                      false|                 true|                     false|               [Bangkok, Thailan...|              [Bangkok, Macau]|                    [BKK, MFM]|               [Suvarnabhumi Int...|              [Bangkok, Thailan...|          [Bangkok (Suvarna...|  [2017-05-18T12:15...|             [Macau, Macau, Ha...|           [Macau, Hangzhou]|                  [MFM, HGH]|             [Macau Intl., Xia...|            [Macau, Macau (MF...|        [Macau (MFM), Han...|[2017-05-18T16:00...|           [0, 0]|[Airbus A320, Air...|                    [, ]|[Segment, Segment]|                    [Hangzhou, China,...|                  [Hangzhou, Macau]|                         [HGH, MFM]|                    [Xiaoshan Intl., ...|                   [Hangzhou, China ...|               [Hangzhou (HGH), ...|       [2017-05-25T09:00...|                  [Macau, Macau, Ba...|                 [Macau, Bangkok]|                       [MFM, BKK]|                  [Macau Intl., Suv...|                 [Macau, Macau (MF...|             [Macau (MFM), Ban...|     [2017-05-25T11:30...|                [0, 0]|[Airbus A321, Air...|                         [, ]|[Segment, Segment]|\n",
      "+-----+-------+----------+------------------+-------+------------+--------+--------+----+----------+----------+--------+--------------------+--------------------+--------------------+--------------------+-----------------+-----------------+----------+---------------+-----------+-----------+-----+----------+--------------------+--------------------+---------------+--------------------+------------+-------------+------------------+--------------------+-------------------+-----------------+------------------------+----------------------+--------------------+---------------------------+----------------------+----------------+---------------------+-------------------------+--------------------------------+---------------------------+---------------------+--------------------------+-----------------------------------+------------------------------+------------------------------+-----------------------------------+----------------------------------+------------------------------+----------------------+---------------------------------+----------------------------+----------------------------+---------------------------------+--------------------------------+----------------------------+--------------------+-----------------+--------------------+------------------------+------------------+----------------------------------------+-----------------------------------+-----------------------------------+----------------------------------------+---------------------------------------+-----------------------------------+---------------------------+--------------------------------------+---------------------------------+---------------------------------+--------------------------------------+-------------------------------------+---------------------------------+-------------------------+----------------------+--------------------+-----------------------------+------------------+\n",
      "only showing top 1 row\n",
      "\n"
     ]
    },
    {
     "data": {
      "text/plain": [
       "None"
      ]
     },
     "metadata": {},
     "output_type": "display_data"
    },
    {
     "name": "stdout",
     "output_type": "stream",
     "text": [
      "root\n",
      " |-- price: double (nullable = true)\n",
      " |-- version: string (nullable = true)\n",
      " |-- searchDate: string (nullable = true)\n",
      " |-- tableName: string (nullable = true)\n",
      " |-- task_id: long (nullable = true)\n",
      " |-- currencyCode: string (nullable = true)\n",
      " |-- fromCity: string (nullable = true)\n",
      " |-- toCity: string (nullable = true)\n",
      " |-- trip: string (nullable = true)\n",
      " |-- depDate: string (nullable = true)\n",
      " |-- retDate: date (nullable = true)\n",
      " |-- stayDays: integer (nullable = true)\n",
      " |-- departureTime: string (nullable = true)\n",
      " |-- arrivalTime: string (nullable = true)\n",
      " |-- departureTime_leg2: string (nullable = true)\n",
      " |-- arrivalTime_leg2: string (nullable = true)\n",
      " |-- airlineName: string (nullable = true)\n",
      " |-- airlineName_leg2: string (nullable = true)\n",
      " |-- duration_m: double (nullable = true)\n",
      " |-- duration_m_leg2: double (nullable = true)\n",
      " |-- flight_code: string (nullable = true)\n",
      " |-- plane: string (nullable = true)\n",
      " |-- stops: long (nullable = true)\n",
      " |-- stops_leg2: long (nullable = true)\n",
      " |-- stop_list: array (nullable = true)\n",
      " |    |-- element: struct (containsNull = true)\n",
      " |    |    |-- airport: string (nullable = true)\n",
      " |    |    |-- duration: string (nullable = true)\n",
      " |-- stop_list_leg2: array (nullable = true)\n",
      " |    |-- element: struct (containsNull = true)\n",
      " |    |    |-- airport: string (nullable = true)\n",
      " |    |    |-- duration: string (nullable = true)\n",
      " |-- noOfTicketsLeft: integer (nullable = true)\n",
      " |-- noOfTicketsLeft_leg2: integer (nullable = true)\n",
      " |-- airline_code: string (nullable = true)\n",
      " |-- airline_codes: array (nullable = true)\n",
      " |    |-- element: string (containsNull = true)\n",
      " |-- airline_codes_leg2: array (nullable = true)\n",
      " |    |-- element: string (containsNull = true)\n",
      " |-- url: string (nullable = true)\n",
      " |-- fromCityAirportCode: string (nullable = true)\n",
      " |-- toCityAirportCode: string (nullable = true)\n",
      " |-- fromCityAirportCode_leg2: string (nullable = true)\n",
      " |-- toCityAirportCode_leg2: string (nullable = true)\n",
      " |-- carrierAirProviderId: long (nullable = true)\n",
      " |-- carrierAirlineImageFileName: string (nullable = true)\n",
      " |-- carrierMixedCabinClass: boolean (nullable = true)\n",
      " |-- carrierMultiStop: boolean (nullable = true)\n",
      " |-- carrierNextDayArrival: boolean (nullable = true)\n",
      " |-- carrierAirProviderId_leg2: long (nullable = true)\n",
      " |-- carrierAirlineImageFileName_leg2: string (nullable = true)\n",
      " |-- carrierMixedCabinClass_leg2: boolean (nullable = true)\n",
      " |-- carrierMultiStop_leg2: boolean (nullable = true)\n",
      " |-- carrierNextDayArrival_leg2: boolean (nullable = true)\n",
      " |-- timeline_departureAirport_cityState: array (nullable = true)\n",
      " |    |-- element: string (containsNull = true)\n",
      " |-- timeline_departureAirport_city: array (nullable = true)\n",
      " |    |-- element: string (containsNull = true)\n",
      " |-- timeline_departureAirport_code: array (nullable = true)\n",
      " |    |-- element: string (containsNull = true)\n",
      " |-- timeline_departureAirport_localName: array (nullable = true)\n",
      " |    |-- element: string (containsNull = true)\n",
      " |-- timeline_departureAirport_longName: array (nullable = true)\n",
      " |    |-- element: string (containsNull = true)\n",
      " |-- timeline_departureAirport_name: array (nullable = true)\n",
      " |    |-- element: string (containsNull = true)\n",
      " |-- timeline_departureTime: array (nullable = true)\n",
      " |    |-- element: string (containsNull = true)\n",
      " |-- timeline_arrivalAirport_cityState: array (nullable = true)\n",
      " |    |-- element: string (containsNull = true)\n",
      " |-- timeline_arrivalAirport_city: array (nullable = true)\n",
      " |    |-- element: string (containsNull = true)\n",
      " |-- timeline_arrivalAirport_code: array (nullable = true)\n",
      " |    |-- element: string (containsNull = true)\n",
      " |-- timeline_arrivalAirport_localName: array (nullable = true)\n",
      " |    |-- element: string (containsNull = true)\n",
      " |-- timeline_arrivalAirport_longName: array (nullable = true)\n",
      " |    |-- element: string (containsNull = true)\n",
      " |-- timeline_arrivalAirport_name: array (nullable = true)\n",
      " |    |-- element: string (containsNull = true)\n",
      " |-- timeline_arrivalTime: array (nullable = true)\n",
      " |    |-- element: string (containsNull = true)\n",
      " |-- timeline_distance: array (nullable = true)\n",
      " |    |-- element: string (containsNull = true)\n",
      " |-- timeline_plane: array (nullable = true)\n",
      " |    |-- element: string (containsNull = true)\n",
      " |-- timeline_brandedFareName: array (nullable = true)\n",
      " |    |-- element: string (containsNull = true)\n",
      " |-- timeline_type: array (nullable = true)\n",
      " |    |-- element: string (containsNull = true)\n",
      " |-- timeline_departureAirport_cityState_leg2: array (nullable = true)\n",
      " |    |-- element: string (containsNull = true)\n",
      " |-- timeline_departureAirport_city_leg2: array (nullable = true)\n",
      " |    |-- element: string (containsNull = true)\n",
      " |-- timeline_departureAirport_code_leg2: array (nullable = true)\n",
      " |    |-- element: string (containsNull = true)\n",
      " |-- timeline_departureAirport_localName_leg2: array (nullable = true)\n",
      " |    |-- element: string (containsNull = true)\n",
      " |-- timeline_departureAirport_longName_leg2: array (nullable = true)\n",
      " |    |-- element: string (containsNull = true)\n",
      " |-- timeline_departureAirport_name_leg2: array (nullable = true)\n",
      " |    |-- element: string (containsNull = true)\n",
      " |-- timeline_departureTime_leg2: array (nullable = true)\n",
      " |    |-- element: string (containsNull = true)\n",
      " |-- timeline_arrivalAirport_cityState_leg2: array (nullable = true)\n",
      " |    |-- element: string (containsNull = true)\n",
      " |-- timeline_arrivalAirport_city_leg2: array (nullable = true)\n",
      " |    |-- element: string (containsNull = true)\n",
      " |-- timeline_arrivalAirport_code_leg2: array (nullable = true)\n",
      " |    |-- element: string (containsNull = true)\n",
      " |-- timeline_arrivalAirport_localName_leg2: array (nullable = true)\n",
      " |    |-- element: string (containsNull = true)\n",
      " |-- timeline_arrivalAirport_longName_leg2: array (nullable = true)\n",
      " |    |-- element: string (containsNull = true)\n",
      " |-- timeline_arrivalAirport_name_leg2: array (nullable = true)\n",
      " |    |-- element: string (containsNull = true)\n",
      " |-- timeline_arrivalTime_leg2: array (nullable = true)\n",
      " |    |-- element: string (containsNull = true)\n",
      " |-- timeline_distance_leg2: array (nullable = true)\n",
      " |    |-- element: string (containsNull = true)\n",
      " |-- timeline_plane_leg2: array (nullable = true)\n",
      " |    |-- element: string (containsNull = true)\n",
      " |-- timeline_brandedFareName_leg2: array (nullable = true)\n",
      " |    |-- element: string (containsNull = true)\n",
      " |-- timeline_type_leg2: array (nullable = true)\n",
      " |    |-- element: string (containsNull = true)\n",
      "\n"
     ]
    },
    {
     "data": {
      "text/plain": [
       "None"
      ]
     },
     "metadata": {},
     "output_type": "display_data"
    }
   ],
   "source": [
    "# print(\n",
    "#     datetime.datetime.fromtimestamp(\n",
    "#         int(\"1284101485\")\n",
    "#     ).strftime('%Y-%m-%d %H:%M:%S')\n",
    "# )\n",
    "\n",
    "timeFmt = \"yyyy-MM-dd'T'HH:mm:ss.SSS\"\n",
    "\n",
    "take_all_level2_str = udf(lambda rows, a, b: None if rows is None else [None if row is None else row[a][b] for row in rows], ArrayType(StringType()))\n",
    "take_all_level1_str = udf(lambda rows, a: None if rows is None else [None if row is None else row[a] for row in rows], ArrayType(StringType()))\n",
    "# take_all_level2_long = udf(lambda rows, a, b: None if rows is None else [None if row is None else datetime.datetime.fromtimestamp(row[a][b]) for row in rows], ArrayType(TimestampType()))\n",
    "\n",
    "# airport = ArrayType(StructType([\n",
    "#                                 StructField(\"airportCityState\", StringType()),\n",
    "#                                 StructField(\"city\", StringType()),\n",
    "#                                 StructField(\"code\", StringType()),\n",
    "#                                 StructField(\"localName\", StringType()),\n",
    "#                                 StructField(\"longName\", StringType()),\n",
    "#                                 StructField(\"name\", StringType()),              \n",
    "#           ]))\n",
    "\n",
    "# take_all_airport = udf(lambda rows, a:  [None if row is None else row[a] for row in rows], ArrayType(airport))\n",
    "\n",
    "\n",
    "flightv1_1_2 = (flightv1_1.withColumn('trip', col('trip').cast('string'))\n",
    "                    .withColumn('stayDays', correct_stay_days_UDF(col('trip'), col('stayDays')))                    \n",
    "                    .selectExpr('*', 'date_add(depDate, stayDays) as retDate')# this is when the return trip starts, might arrive a day later\n",
    "                    .withColumn('airline_code', flightv1_1.flight_leg1.carrierSummary.airlineCodes.getItem(0))                   \n",
    "                    .withColumn('airline_codes', flightv1_1.flight_leg1.carrierSummary.airlineCodes)                    \n",
    "                    .withColumn('airline_codes_leg2', flightv1_1.flight_leg2.carrierSummary.airlineCodes)                    \n",
    "                    .withColumn('departureTime', flightv1_1.flight_leg1.departureTime)\n",
    "                    .withColumn('departureTime_leg2', flightv1_1.flight_leg2.departureTime)\n",
    "                    .withColumn('arrivalTime', flightv1_1.flight_leg1.arrivalTime)\n",
    "                    .withColumn('arrivalTime_leg2', flightv1_1.flight_leg2.arrivalTime)\n",
    "#                 .withColumn('check_bag_inc', flightv1_1.flight_leg1.arrivalTime)\n",
    "                    .withColumn('airlineName', flightv1_1.flight_leg1.carrierSummary.airlineName)\n",
    "                    .withColumn('airlineName_leg2', flightv1_1.flight_leg2.carrierSummary.airlineName)\n",
    "                    .withColumn('duration_m', (F.unix_timestamp('arrivalTime', format=timeFmt) - \n",
    "                                               F.unix_timestamp('departureTime', format=timeFmt))/60)                    \n",
    "                .withColumn('duration_m_leg2', (F.unix_timestamp('arrivalTime_leg2', format=timeFmt) - \n",
    "                                               F.unix_timestamp('departureTime_leg2', format=timeFmt))/60)                    \n",
    "#                     .withColumn('duration', flightv1_1.timeline_leg1.getItem(1).duration)\n",
    "                .withColumn('airlineCode', flightv1_1.timeline_leg1.getItem(0).carrier.airlineCode)\n",
    "                .withColumn('flightNumber', flightv1_1.timeline_leg1.getItem(0).carrier.flightNumber.cast('string'))                \n",
    "                .select('*', F.concat(col('airlineCode'), col('flightNumber')).alias('flight_code'))\n",
    "                .drop('airlineCode', 'flightNumber')\n",
    "                .withColumn('plane', flightv1_1.timeline_leg1.getItem(0).carrier.plane)                \n",
    "                .withColumn('stops', flightv1_1.flight_leg1.stops)                \n",
    "                .withColumn('stops_leg2', flightv1_1.flight_leg2.stops)                \n",
    "                .withColumn('stop_list', flightv1_1.flight_leg1.stop_list)# need to do more work                \n",
    "                .withColumn('stop_list_leg2', flightv1_1.flight_leg1.stop_list)\n",
    "                .withColumn('noOfTicketsLeft', correct_tickets_left_UDF(flightv1_1.flight_leg1.carrierSummary.noOfTicketsLeft))\n",
    "                .withColumn('noOfTicketsLeft_leg2', correct_tickets_left_UDF(flightv1_1.flight_leg2.carrierSummary.noOfTicketsLeft))\n",
    "                \n",
    "                .withColumn('fromCityAirportCode', flightv1_1.flight_leg1.departureLocation.airportCode)                \n",
    "                .withColumn('toCityAirportCode', flightv1_1.flight_leg1.arrivalLocation.airportCode)\n",
    "                .withColumn('fromCityAirportCode_leg2', flightv1_1.flight_leg2.departureLocation.airportCode)\n",
    "                .withColumn('toCityAirportCode_leg2', flightv1_1.flight_leg2.arrivalLocation.airportCode)\n",
    "                \n",
    "                # carrier leg 1\n",
    "                .withColumn('carrierAirProviderId', flightv1_1.flight_leg1.carrierSummary.airProviderId)\n",
    "                .withColumn('carrierAirlineImageFileName', flightv1_1.flight_leg1.carrierSummary.airlineImageFileName)\n",
    "                .withColumn('carrierMixedCabinClass', flightv1_1.flight_leg1.carrierSummary.mixedCabinClass)\n",
    "                .withColumn('carrierMultiStop', flightv1_1.flight_leg1.carrierSummary.multiStop)\n",
    "                .withColumn('carrierNextDayArrival', flightv1_1.flight_leg1.carrierSummary.nextDayArrival)\n",
    "                \n",
    "                # carrier leg 2\n",
    "                .withColumn('carrierAirProviderId_leg2', flightv1_1.flight_leg2.carrierSummary.airProviderId)\n",
    "                .withColumn('carrierAirlineImageFileName_leg2', flightv1_1.flight_leg2.carrierSummary.airlineImageFileName)\n",
    "                .withColumn('carrierMixedCabinClass_leg2', flightv1_1.flight_leg2.carrierSummary.mixedCabinClass)\n",
    "                .withColumn('carrierMultiStop_leg2', flightv1_1.flight_leg2.carrierSummary.multiStop)\n",
    "                .withColumn('carrierNextDayArrival_leg2', flightv1_1.flight_leg2.carrierSummary.nextDayArrival)\n",
    "                \n",
    "                ### Leg 1\n",
    "                ## Leg 1 departure\n",
    "#                 .withColumn('timeline_departureAirport', take_all_airport(flightv1_1.timeline_leg1, lit('departureAirport')))                               \n",
    "                .withColumn('timeline_departureAirport_cityState', take_all_level2_str(flightv1_1.timeline_leg1, lit('departureAirport'), lit('airportCityState')))\n",
    "                .withColumn('timeline_departureAirport_city', take_all_level2_str(flightv1_1.timeline_leg1, lit('departureAirport'), lit('city')))\n",
    "                .withColumn('timeline_departureAirport_code', take_all_level2_str(flightv1_1.timeline_leg1, lit('departureAirport'), lit('code')))\n",
    "                .withColumn('timeline_departureAirport_localName', take_all_level2_str(flightv1_1.timeline_leg1, lit('departureAirport'), lit('localName')))\n",
    "                .withColumn('timeline_departureAirport_longName', take_all_level2_str(flightv1_1.timeline_leg1, lit('departureAirport'), lit('longName')))\n",
    "                .withColumn('timeline_departureAirport_name', take_all_level2_str(flightv1_1.timeline_leg1, lit('departureAirport'), lit('name')))\n",
    "                \n",
    "                .withColumn('timeline_departureTime', take_all_level2_str(flightv1_1.timeline_leg1, lit('departureTime'), lit('isoStr')))\n",
    "                \n",
    "                \n",
    "\n",
    "                ## Leg 1 arrival\n",
    "                .withColumn('timeline_arrivalAirport_cityState', take_all_level2_str(flightv1_1.timeline_leg1, lit('arrivalAirport'), lit('airportCityState')))\n",
    "                .withColumn('timeline_arrivalAirport_city', take_all_level2_str(flightv1_1.timeline_leg1, lit('arrivalAirport'), lit('city')))\n",
    "                .withColumn('timeline_arrivalAirport_code', take_all_level2_str(flightv1_1.timeline_leg1, lit('arrivalAirport'), lit('code')))\n",
    "                .withColumn('timeline_arrivalAirport_localName', take_all_level2_str(flightv1_1.timeline_leg1, lit('arrivalAirport'), lit('localName')))\n",
    "                .withColumn('timeline_arrivalAirport_longName', take_all_level2_str(flightv1_1.timeline_leg1, lit('arrivalAirport'), lit('longName')))\n",
    "                .withColumn('timeline_arrivalAirport_name', take_all_level2_str(flightv1_1.timeline_leg1, lit('arrivalAirport'), lit('name')))                \n",
    "                \n",
    "                .withColumn('timeline_arrivalTime', take_all_level2_str(flightv1_1.timeline_leg1, lit('arrivalTime'), lit('isoStr')))\n",
    "                \n",
    "                # distance\n",
    "                .withColumn('timeline_distance', take_all_level2_str(flightv1_1.timeline_leg1, lit('distance'), lit('formattedTotal')))\n",
    "                \n",
    "                # carrier\n",
    "                .withColumn('timeline_plane', take_all_level2_str(flightv1_1.timeline_leg1, lit('carrier'), lit('plane')))\n",
    "                \n",
    "                # brandedFareName\n",
    "                .withColumn('timeline_brandedFareName', take_all_level1_str(flightv1_1.timeline_leg1, lit('brandedFareName')))                               \n",
    "                \n",
    "                # type\n",
    "                .withColumn('timeline_type', take_all_level1_str(flightv1_1.timeline_leg1, lit('type')))                               \n",
    "                \n",
    "                ### Leg 2\n",
    "                ## Leg 2 departure\n",
    "                .withColumn('timeline_departureAirport_cityState_leg2', take_all_level2_str(flightv1_1.timeline_leg2, lit('departureAirport'), lit('airportCityState')))\n",
    "                .withColumn('timeline_departureAirport_city_leg2', take_all_level2_str(flightv1_1.timeline_leg2, lit('departureAirport'), lit('city')))\n",
    "                .withColumn('timeline_departureAirport_code_leg2', take_all_level2_str(flightv1_1.timeline_leg2, lit('departureAirport'), lit('code')))\n",
    "                .withColumn('timeline_departureAirport_localName_leg2', take_all_level2_str(flightv1_1.timeline_leg2, lit('departureAirport'), lit('localName')))\n",
    "                .withColumn('timeline_departureAirport_longName_leg2', take_all_level2_str(flightv1_1.timeline_leg2, lit('departureAirport'), lit('longName')))\n",
    "                .withColumn('timeline_departureAirport_name_leg2', take_all_level2_str(flightv1_1.timeline_leg2, lit('departureAirport'), lit('name')))\n",
    "                \n",
    "                .withColumn('timeline_departureTime_leg2', take_all_level2_str(flightv1_1.timeline_leg2, lit('departureTime'), lit('isoStr')))                \n",
    "                \n",
    "\n",
    "                ## Leg 2 arrival\n",
    "                .withColumn('timeline_arrivalAirport_cityState_leg2', take_all_level2_str(flightv1_1.timeline_leg2, lit('arrivalAirport'), lit('airportCityState')))\n",
    "                .withColumn('timeline_arrivalAirport_city_leg2', take_all_level2_str(flightv1_1.timeline_leg2, lit('arrivalAirport'), lit('city')))\n",
    "                .withColumn('timeline_arrivalAirport_code_leg2', take_all_level2_str(flightv1_1.timeline_leg2, lit('arrivalAirport'), lit('code')))\n",
    "                .withColumn('timeline_arrivalAirport_localName_leg2', take_all_level2_str(flightv1_1.timeline_leg2, lit('arrivalAirport'), lit('localName')))\n",
    "                .withColumn('timeline_arrivalAirport_longName_leg2', take_all_level2_str(flightv1_1.timeline_leg2, lit('arrivalAirport'), lit('longName')))\n",
    "                .withColumn('timeline_arrivalAirport_name_leg2', take_all_level2_str(flightv1_1.timeline_leg2, lit('arrivalAirport'), lit('name')))                \n",
    "                \n",
    "                .withColumn('timeline_arrivalTime_leg2', take_all_level2_str(flightv1_1.timeline_leg2, lit('arrivalTime'), lit('isoStr')))\n",
    "                \n",
    "                # distance\n",
    "                .withColumn('timeline_distance_leg2', take_all_level2_str(flightv1_1.timeline_leg2, lit('distance'), lit('formattedTotal')))\n",
    "               \n",
    "                # carrier\n",
    "                .withColumn('timeline_plane_leg2', take_all_level2_str(flightv1_1.timeline_leg2, lit('carrier'), lit('plane')))\n",
    "                \n",
    "                # brandedFareName\n",
    "                .withColumn('timeline_brandedFareName_leg2', take_all_level1_str(flightv1_1.timeline_leg2, lit('brandedFareName')))                           \n",
    "                \n",
    "                # type\n",
    "                .withColumn('timeline_type_leg2', take_all_level1_str(flightv1_1.timeline_leg2, lit('type')))                               \n",
    "                \n",
    "\n",
    "                \n",
    "                .select('price', 'version', 'searchDate', 'tableName', 'task_id', 'currencyCode', \n",
    "                        'fromCity', 'toCity', 'trip', 'depDate', 'retDate',\n",
    "                        'stayDays', \n",
    "                       'departureTime', 'arrivalTime', 'departureTime_leg2', 'arrivalTime_leg2',\n",
    "                        'airlineName', 'airlineName_leg2', 'duration_m', 'duration_m_leg2',                \n",
    "                        'flight_code', 'plane', 'stops', 'stops_leg2', 'stop_list', 'stop_list_leg2',\n",
    "                        'noOfTicketsLeft', 'noOfTicketsLeft_leg2',\n",
    "                       'airline_code', 'airline_codes', 'airline_codes_leg2', \n",
    "                        'url', 'fromCityAirportCode', 'toCityAirportCode', 'fromCityAirportCode_leg2', 'toCityAirportCode_leg2',\n",
    "                       'carrierAirProviderId', 'carrierAirlineImageFileName', 'carrierMixedCabinClass', 'carrierMultiStop', 'carrierNextDayArrival',\n",
    "                        'carrierAirProviderId_leg2', 'carrierAirlineImageFileName_leg2', 'carrierMixedCabinClass_leg2', 'carrierMultiStop_leg2', 'carrierNextDayArrival_leg2',\n",
    "\n",
    "                        ## leg 1\n",
    "                        # departure\n",
    "                        'timeline_departureAirport_cityState', 'timeline_departureAirport_city', 'timeline_departureAirport_code', 'timeline_departureAirport_localName', \n",
    "                        'timeline_departureAirport_longName', 'timeline_departureAirport_name',\n",
    "                        \n",
    "                        'timeline_departureTime',\n",
    "\n",
    "                        # arrival\n",
    "                        'timeline_arrivalAirport_cityState', 'timeline_arrivalAirport_city', 'timeline_arrivalAirport_code', 'timeline_arrivalAirport_localName', \n",
    "                        'timeline_arrivalAirport_longName', 'timeline_arrivalAirport_name',\n",
    "                        \n",
    "                        'timeline_arrivalTime',\n",
    "                        \n",
    "                        'timeline_distance',\n",
    "                        'timeline_plane',\n",
    "                        'timeline_brandedFareName',\n",
    "                        'timeline_type',\n",
    "                        \n",
    "                        ## leg 2                        \n",
    "                        # departure\n",
    "                        'timeline_departureAirport_cityState_leg2', 'timeline_departureAirport_city_leg2', 'timeline_departureAirport_code_leg2', 'timeline_departureAirport_localName_leg2', \n",
    "                        'timeline_departureAirport_longName_leg2', 'timeline_departureAirport_name_leg2',\n",
    "                        \n",
    "                        'timeline_departureTime_leg2',\n",
    "\n",
    "                        # arrival\n",
    "                        'timeline_arrivalAirport_cityState_leg2', 'timeline_arrivalAirport_city_leg2', 'timeline_arrivalAirport_code_leg2', 'timeline_arrivalAirport_localName_leg2', \n",
    "                        'timeline_arrivalAirport_longName_leg2', 'timeline_arrivalAirport_name_leg2',\n",
    "                        \n",
    "                        'timeline_arrivalTime_leg2',\n",
    "                        \n",
    "                        'timeline_distance_leg2',\n",
    "                        'timeline_plane_leg2',\n",
    "                        'timeline_brandedFareName_leg2',\n",
    "                        'timeline_type_leg2'\n",
    "                       )                \n",
    "               )\n",
    "\n",
    "display(flightv1_1_2.where(col('trip')=='1').show(1))\n",
    "display(flightv1_1_2.where(col('trip')=='2').show(1))\n",
    "display(flightv1_1_2.printSchema())\n",
    "\n",
    "# display(flightv1_1.select(\"flight_leg1.stop_list.airport\").show(100, truncate=False))\n",
    "        \n",
    "#      |         flight_leg1|flight_leg2|| |||   airline_code      ||       timeline_leg1|timeline_leg2|  |                 |||||       ||\n",
    "               \n",
    "\n",
    "# flightv1_1_2.show(3)\n",
    "\n",
    "# temp = flightv1_1.select(\"flight_leg1.stop_list\").show(100, truncate=False)\n",
    "# flightv1_1_2.printSchema()         \n",
    "# flightv1_1_2.crosstab('noOfTicketsLeft', 'noOfTicketsLeft_leg2')\n",
    "# flightv1_1_2.cube('trip', flightv1_1_2.noOfTicketsLeft, flightv1_1_2.noOfTicketsLeft_leg2).count().orderBy('trip', \"noOfTicketsLeft\", \"noOfTicketsLeft_leg2\").show(truncate=False)"
   ]
  },
  {
   "cell_type": "code",
   "execution_count": null,
   "metadata": {
    "collapsed": false
   },
   "outputs": [],
   "source": [
    "# flightv1_1_2.select('timeline_departureTime', 'departureTime', 'departureTime_leg2').show(2, truncate=False)\n"
   ]
  },
  {
   "cell_type": "code",
   "execution_count": null,
   "metadata": {
    "collapsed": false
   },
   "outputs": [],
   "source": [
    "# flightv1_1.select('timeline_leg1').show(truncate=False)"
   ]
  },
  {
   "cell_type": "code",
   "execution_count": null,
   "metadata": {
    "collapsed": false
   },
   "outputs": [],
   "source": [
    "# datetime.datetime.fromtimestamp(1495084500000/3600)"
   ]
  },
  {
   "cell_type": "code",
   "execution_count": null,
   "metadata": {
    "collapsed": false
   },
   "outputs": [],
   "source": [
    "# from datetime import datetime\n",
    "# dt = datetime.now()\n",
    "# dt.microsecond"
   ]
  },
  {
   "cell_type": "code",
   "execution_count": null,
   "metadata": {
    "collapsed": false
   },
   "outputs": [],
   "source": [
    "# import datetime\n",
    "# print(\n",
    "#     datetime.datetime.fromtimestamp(\n",
    "#         int(\"1495084500\")\n",
    "#     ).strftime('%d/%b/%Y:%H:%M:%S %z')\n",
    "# )\n"
   ]
  }
 ],
 "metadata": {
  "anaconda-cloud": {},
  "kernelspec": {
   "display_name": "Python [Root]",
   "language": "python",
   "name": "Python [Root]"
  },
  "language_info": {
   "codemirror_mode": {
    "name": "ipython",
    "version": 3
   },
   "file_extension": ".py",
   "mimetype": "text/x-python",
   "name": "python",
   "nbconvert_exporter": "python",
   "pygments_lexer": "ipython3",
   "version": "3.5.2"
  }
 },
 "nbformat": 4,
 "nbformat_minor": 0
}
