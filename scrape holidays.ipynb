{
 "cells": [
  {
   "cell_type": "code",
   "execution_count": 2,
   "metadata": {
    "collapsed": true
   },
   "outputs": [],
   "source": [
    "from urllib.request import urlopen as uReq\n",
    "from bs4 import BeautifulSoup as soup"
   ]
  },
  {
   "cell_type": "code",
   "execution_count": 4,
   "metadata": {
    "collapsed": true
   },
   "outputs": [],
   "source": [
    "my_url = 'https://www.timeanddate.com/holidays/china/'"
   ]
  },
  {
   "cell_type": "code",
   "execution_count": 8,
   "metadata": {},
   "outputs": [],
   "source": [
    "uClient = uReq(my_url)\n",
    "page_html = uClient.read()\n",
    "uClient.close()"
   ]
  },
  {
   "cell_type": "code",
   "execution_count": 10,
   "metadata": {},
   "outputs": [],
   "source": [
    "page_soup = soup(page_html, \"html.parser\")"
   ]
  },
  {
   "cell_type": "code",
   "execution_count": 18,
   "metadata": {},
   "outputs": [
    {
     "data": {
      "text/plain": [
       "<tr class=\"head\"><th rowspan=\"2\">Date</th><th class=\"sep\" rowspan=\"2\">Weekday</th><th class=\"sep\" rowspan=\"2\">Holiday Name</th><th class=\"sep\" rowspan=\"2\">Holiday Type</th></tr>"
      ]
     },
     "execution_count": 18,
     "metadata": {},
     "output_type": "execute_result"
    }
   ],
   "source": [
    "page_soup.find('tr')"
   ]
  },
  {
   "cell_type": "code",
   "execution_count": 20,
   "metadata": {},
   "outputs": [
    {
     "name": "stdout",
     "output_type": "stream",
     "text": [
      "['Sunday', \"New Year's Day\", 'National holiday']\n",
      "['Monday', \"New Year's weekend\", 'Common Local holidays']\n",
      "['Sunday', 'Special Working Day', 'Weekend']\n",
      "['Friday', 'Spring Festival Eve', 'National holiday']\n",
      "['Saturday', 'Chinese New Year', 'National holiday']\n",
      "['Sunday', 'Spring Festival Golden Week holiday', 'National holiday']\n",
      "['Monday', 'Spring Festival Golden Week holiday', 'Common Local holidays']\n",
      "['Tuesday', 'Spring Festival Golden Week holiday', 'Common Local holidays']\n",
      "['Wednesday', 'Spring Festival Golden Week holiday', 'Common Local holidays']\n",
      "['Thursday', 'Spring Festival Golden Week holiday', 'Common Local holidays']\n",
      "['Saturday', 'Special Working Day', 'Weekend']\n",
      "['Saturday', 'Lantern Festival', 'Observance']\n",
      "['Monday', 'Zhonghe Festival', 'Observance']\n",
      "['Wednesday', \"International Women's Day\", 'Observance']\n",
      "['Sunday', 'Arbor Day', 'Observance']\n",
      "['Monday', 'March equinox', 'Season']\n",
      "['Saturday', 'Special Working Day', 'Weekend']\n",
      "['Sunday', 'Qing Ming Jie holiday', 'National holiday']\n",
      "['Monday', 'Qing Ming Jie holiday', 'National holiday']\n",
      "['Tuesday', 'Qing Ming Jie', 'National holiday']\n",
      "['Saturday', 'Labour Day Holiday', 'National holiday']\n",
      "['Sunday', 'Labour Day Holiday', 'National holiday']\n",
      "['Monday', 'Labour Day', 'National holiday']\n",
      "['Thursday', 'Youth Day', 'Observance']\n",
      "['Saturday', 'Special Working Day', 'Weekend']\n",
      "['Sunday', 'Dragon Boat Festival holiday', 'National holiday']\n",
      "['Monday', 'Dragon Boat Festival holiday', 'National holiday']\n",
      "['Tuesday', 'Dragon Boat Festival', 'National holiday']\n",
      "['Thursday', \"Children's Day\", 'Observance']\n",
      "['Wednesday', 'June Solstice', 'Season']\n",
      "['Saturday', 'CPC Founding Day', 'Observance']\n",
      "['Tuesday', 'Maritime Day', 'Observance']\n",
      "['Tuesday', 'Army Day', 'Observance']\n",
      "['Monday', \"Chinese Valentine's Day\", 'Observance']\n",
      "['Tuesday', 'Spirit Festival', 'Observance']\n",
      "['Sunday', \"Teachers' Day\", 'Observance']\n",
      "['Friday', 'September equinox', 'Season']\n",
      "['Saturday', 'Special Working Day', 'Weekend']\n",
      "['Sunday', 'National Day', 'National holiday']\n",
      "['Monday', 'National Day Golden Week holiday', 'National holiday']\n",
      "['Tuesday', 'National Day Golden Week holiday', 'National holiday']\n",
      "['Wednesday', 'National Day Golden Week holiday', 'Common Local holidays']\n",
      "['Wednesday', 'Mid-Autumn Festival', 'National holiday']\n",
      "['Thursday', 'National Day Golden Week holiday', 'Common Local holidays']\n",
      "['Friday', 'National Day Golden Week holiday', 'Common Local holidays']\n",
      "['Saturday', 'National Day Golden Week holiday', 'Common Local holidays']\n",
      "['Sunday', 'National Day Golden Week holiday', 'Common Local holidays']\n",
      "['Saturday', 'Double Ninth Festival', 'Observance']\n",
      "['Wednesday', \"Journalists' Day\", 'Observance']\n",
      "['Thursday', 'December Solstice', 'Season']\n",
      "['Monday', 'Christmas Day', 'Observance']\n"
     ]
    }
   ],
   "source": [
    "table_body=page_soup.find('tbody')\n",
    "rows = table_body.find_all('tr')\n",
    "for row in rows:\n",
    "    cols=row.find_all('td')\n",
    "    cols=[x.text.strip() for x in cols]\n",
    "    print(cols)"
   ]
  },
  {
   "cell_type": "code",
   "execution_count": 16,
   "metadata": {},
   "outputs": [
    {
     "data": {
      "text/plain": [
       "[<div class=\"tb-scroll\"><span>Scroll right to see more</span><table class=\"zebra fw tb-cl tb-hover\"><thead><tr class=\"head\"><th rowspan=\"2\">Date</th><th class=\"sep\" rowspan=\"2\">Weekday</th><th class=\"sep\" rowspan=\"2\">Holiday Name</th><th class=\"sep\" rowspan=\"2\">Holiday Type</th></tr><tr class=\"head\"></tr></thead><tbody><tr class=\"c0\" id=\"tr0\"><th class=\"nw\">Jan 1</th><td class=\"nw\">Sunday</td><td><a href=\"/holidays/china/new-year-day\">New Year's Day</a></td><td>National holiday</td></tr><tr class=\"c1\" id=\"tr1\"><th class=\"nw\">Jan 2</th><td class=\"nw\">Monday</td><td><a href=\"/holidays/china/new-year-day-moved-weekend\">New Year's weekend</a></td><td>Common Local holidays</td></tr><tr class=\"c0\" id=\"tr2\"><th class=\"nw\">Jan 22</th><td class=\"nw\">Sunday</td><td><a href=\"/holidays/china/new-year-day-moved-weekend\">Special Working Day</a></td><td>Weekend</td></tr><tr class=\"c1\" id=\"tr3\"><th class=\"nw\">Jan 27</th><td class=\"nw\">Friday</td><td><a href=\"/holidays/china/spring-festival-golden-week\">Spring Festival Eve</a></td><td>National holiday</td></tr><tr class=\"c0\" id=\"tr4\"><th class=\"nw\">Jan 28</th><td class=\"nw\">Saturday</td><td><a href=\"/holidays/china/spring-festival\">Chinese New Year</a></td><td>National holiday</td></tr><tr class=\"c1\" id=\"tr5\"><th class=\"nw\">Jan 29</th><td class=\"nw\">Sunday</td><td><a href=\"/holidays/china/spring-festival-golden-week\">Spring Festival Golden Week holiday</a></td><td>National holiday</td></tr><tr class=\"c0\" id=\"tr6\"><th class=\"nw\">Jan 30</th><td class=\"nw\">Monday</td><td><a href=\"/holidays/china/spring-festival-golden-week\">Spring Festival Golden Week holiday</a></td><td>Common Local holidays</td></tr><tr class=\"c1\" id=\"tr7\"><th class=\"nw\">Jan 31</th><td class=\"nw\">Tuesday</td><td><a href=\"/holidays/china/spring-festival-golden-week\">Spring Festival Golden Week holiday</a></td><td>Common Local holidays</td></tr><tr class=\"c0\" id=\"tr8\"><th class=\"nw\">Feb 1</th><td class=\"nw\">Wednesday</td><td><a href=\"/holidays/china/spring-festival-golden-week\">Spring Festival Golden Week holiday</a></td><td>Common Local holidays</td></tr><tr class=\"c1\" id=\"tr9\"><th class=\"nw\">Feb 2</th><td class=\"nw\">Thursday</td><td><a href=\"/holidays/china/spring-festival-golden-week\">Spring Festival Golden Week holiday</a></td><td>Common Local holidays</td></tr><tr class=\"c0\" id=\"tr10\"><th class=\"nw\">Feb 4</th><td class=\"nw\">Saturday</td><td><a href=\"/holidays/china/new-year-day-moved-weekends\">Special Working Day</a></td><td>Weekend</td></tr><tr class=\"c1\" id=\"tr11\"><th class=\"nw\">Feb 11</th><td class=\"nw\">Saturday</td><td><a href=\"/holidays/china/lantern-festival\">Lantern Festival</a></td><td>Observance</td></tr><tr class=\"c0\" id=\"tr12\"><th class=\"nw\">Feb 27</th><td class=\"nw\">Monday</td><td><a href=\"/holidays/china/zhonghe-festival\">Zhonghe Festival</a></td><td>Observance</td></tr><tr class=\"c1\" id=\"tr13\"><th class=\"nw\">Mar 8</th><td class=\"nw\">Wednesday</td><td><a href=\"/holidays/china/international-womens-day\">International Women's Day</a></td><td>Observance</td></tr><tr class=\"c0\" id=\"tr14\"><th class=\"nw\">Mar 12</th><td class=\"nw\">Sunday</td><td><a href=\"/holidays/china/arbor-day\">Arbor Day</a></td><td>Observance</td></tr><tr class=\"c1\" id=\"tr15\"><th class=\"nw\">Mar 20</th><td class=\"nw\">Monday</td><td><a href=\"/calendar/march-equinox.html\">March equinox</a></td><td>Season</td></tr><tr class=\"c0\" id=\"tr16\"><th class=\"nw\">Apr 1</th><td class=\"nw\">Saturday</td><td><a href=\"/holidays/china/new-year-day-moved-weekend\">Special Working Day</a></td><td>Weekend</td></tr><tr class=\"c1\" id=\"tr17\"><th class=\"nw\">Apr 2</th><td class=\"nw\">Sunday</td><td><a href=\"/holidays/china/qing-ming-jie\">Qing Ming Jie holiday</a></td><td>National holiday</td></tr><tr class=\"c0\" id=\"tr18\"><th class=\"nw\">Apr 3</th><td class=\"nw\">Monday</td><td><a href=\"/holidays/china/qing-ming-jie\">Qing Ming Jie holiday</a></td><td>National holiday</td></tr><tr class=\"c1\" id=\"tr19\"><th class=\"nw\">Apr 4</th><td class=\"nw\">Tuesday</td><td><a href=\"/holidays/china/qing-ming-jie\">Qing Ming Jie</a></td><td>National holiday</td></tr><tr class=\"c0\" id=\"tr20\"><th class=\"nw\">Apr 29</th><td class=\"nw\">Saturday</td><td><a href=\"/holidays/china/labor-day-holiday\">Labour Day Holiday</a></td><td>National holiday</td></tr><tr class=\"c1\" id=\"tr21\"><th class=\"nw\">Apr 30</th><td class=\"nw\">Sunday</td><td><a href=\"/holidays/china/labor-day-holiday\">Labour Day Holiday</a></td><td>National holiday</td></tr><tr class=\"c0\" id=\"tr22\"><th class=\"nw\">May 1</th><td class=\"nw\">Monday</td><td><a href=\"/holidays/china/labor-day\">Labour Day</a></td><td>National holiday</td></tr><tr class=\"c1\" id=\"tr23\"><th class=\"nw\">May 4</th><td class=\"nw\">Thursday</td><td><a href=\"/holidays/china/youth-day\">Youth Day</a></td><td>Observance</td></tr><tr class=\"c0\" id=\"tr24\"><th class=\"nw\">May 27</th><td class=\"nw\">Saturday</td><td><a href=\"/holidays/china/new-year-day-moved-weekend\">Special Working Day</a></td><td>Weekend</td></tr><tr class=\"c1\" id=\"tr25\"><th class=\"nw\">May 28</th><td class=\"nw\">Sunday</td><td><a href=\"/holidays/china/dragon-boat-festival\">Dragon Boat Festival holiday</a></td><td>National holiday</td></tr><tr class=\"c0\" id=\"tr26\"><th class=\"nw\">May 29</th><td class=\"nw\">Monday</td><td><a href=\"/holidays/china/dragon-boat-festival\">Dragon Boat Festival holiday</a></td><td>National holiday</td></tr><tr class=\"c1\" id=\"tr27\"><th class=\"nw\">May 30</th><td class=\"nw\">Tuesday</td><td><a href=\"/holidays/china/dragon-boat-festival\">Dragon Boat Festival</a></td><td>National holiday</td></tr><tr class=\"c0\" id=\"tr28\"><th class=\"nw\">Jun 1</th><td class=\"nw\">Thursday</td><td><a href=\"/holidays/china/children-day\">Children's Day</a></td><td>Observance</td></tr><tr class=\"c1\" id=\"tr29\"><th class=\"nw\">Jun 21</th><td class=\"nw\">Wednesday</td><td><a href=\"/calendar/june-solstice.html\">June Solstice</a></td><td>Season</td></tr><tr class=\"c0\" id=\"tr30\"><th class=\"nw\">Jul 1</th><td class=\"nw\">Saturday</td><td><a href=\"/holidays/china/founding-day\">CPC Founding Day</a></td><td>Observance</td></tr><tr class=\"c1\" id=\"tr31\"><th class=\"nw\">Jul 11</th><td class=\"nw\">Tuesday</td><td><a href=\"/holidays/china/maritime-day\">Maritime Day</a></td><td>Observance</td></tr><tr class=\"c0\" id=\"tr32\"><th class=\"nw\">Aug 1</th><td class=\"nw\">Tuesday</td><td><a href=\"/holidays/china/army-day\">Army Day</a></td><td>Observance</td></tr><tr class=\"c1\" id=\"tr33\"><th class=\"nw\">Aug 28</th><td class=\"nw\">Monday</td><td><a href=\"/holidays/china/double-seven-festival\">Chinese Valentine's Day</a></td><td>Observance</td></tr><tr class=\"c0\" id=\"tr34\"><th class=\"nw\">Sep 5</th><td class=\"nw\">Tuesday</td><td><a href=\"/holidays/china/spirit-festival\">Spirit Festival</a></td><td>Observance</td></tr><tr class=\"c1\" id=\"tr35\"><th class=\"nw\">Sep 10</th><td class=\"nw\">Sunday</td><td><a href=\"/holidays/china/teachers-day\">Teachers' Day</a></td><td>Observance</td></tr><tr class=\"c0\" id=\"tr36\"><th class=\"nw\">Sep 22</th><td class=\"nw\">Friday</td><td><a href=\"/calendar/september-equinox.html\">September equinox</a></td><td>Season</td></tr><tr class=\"c1\" id=\"tr37\"><th class=\"nw\">Sep 30</th><td class=\"nw\">Saturday</td><td><a href=\"/holidays/china/new-year-day-moved-weekend\">Special Working Day</a></td><td>Weekend</td></tr><tr class=\"c0\" id=\"tr38\"><th class=\"nw\">Oct 1</th><td class=\"nw\">Sunday</td><td><a href=\"/holidays/china/national-day\">National Day</a></td><td>National holiday</td></tr><tr class=\"c1\" id=\"tr39\"><th class=\"nw\">Oct 2</th><td class=\"nw\">Monday</td><td><a href=\"/holidays/china/national-day-golden-week\">National Day Golden Week holiday</a></td><td>National holiday</td></tr><tr class=\"c0\" id=\"tr40\"><th class=\"nw\">Oct 3</th><td class=\"nw\">Tuesday</td><td><a href=\"/holidays/china/national-day-golden-week\">National Day Golden Week holiday</a></td><td>National holiday</td></tr><tr class=\"c1\" id=\"tr41\"><th class=\"nw\">Oct 4</th><td class=\"nw\">Wednesday</td><td><a href=\"/holidays/china/national-day-golden-week\">National Day Golden Week holiday</a></td><td>Common Local holidays</td></tr><tr class=\"c0\" id=\"tr42\"><th class=\"nw\">Oct 4</th><td class=\"nw\">Wednesday</td><td><a href=\"/holidays/china/mid-autumn-festival\">Mid-Autumn Festival</a></td><td>National holiday</td></tr><tr class=\"c1\" id=\"tr43\"><th class=\"nw\">Oct 5</th><td class=\"nw\">Thursday</td><td><a href=\"/holidays/china/national-day-golden-week\">National Day Golden Week holiday</a></td><td>Common Local holidays</td></tr><tr class=\"c0\" id=\"tr44\"><th class=\"nw\">Oct 6</th><td class=\"nw\">Friday</td><td><a href=\"/holidays/china/national-day-golden-week\">National Day Golden Week holiday</a></td><td>Common Local holidays</td></tr><tr class=\"c1\" id=\"tr45\"><th class=\"nw\">Oct 7</th><td class=\"nw\">Saturday</td><td><a href=\"/holidays/china/national-day-golden-week\">National Day Golden Week holiday</a></td><td>Common Local holidays</td></tr><tr class=\"c0\" id=\"tr46\"><th class=\"nw\">Oct 8</th><td class=\"nw\">Sunday</td><td><a href=\"/holidays/china/national-day-golden-week\">National Day Golden Week holiday</a></td><td>Common Local holidays</td></tr><tr class=\"c1\" id=\"tr47\"><th class=\"nw\">Oct 28</th><td class=\"nw\">Saturday</td><td><a href=\"/holidays/china/double-ninth-festival\">Double Ninth Festival</a></td><td>Observance</td></tr><tr class=\"c0\" id=\"tr48\"><th class=\"nw\">Nov 8</th><td class=\"nw\">Wednesday</td><td><a href=\"/holidays/china/journalists-day\">Journalists' Day</a></td><td>Observance</td></tr><tr class=\"c1\" id=\"tr49\"><th class=\"nw\">Dec 21</th><td class=\"nw\">Thursday</td><td><a href=\"/calendar/december-solstice.html\">December Solstice</a></td><td>Season</td></tr><tr class=\"c0\" id=\"tr50\"><th class=\"nw\">Dec 25</th><td class=\"nw\">Monday</td><td><a href=\"/holidays/china/christmas-day\">Christmas Day</a></td><td>Observance</td></tr></tbody></table></div>]"
      ]
     },
     "execution_count": 16,
     "metadata": {},
     "output_type": "execute_result"
    }
   ],
   "source": [
    "page_soup.findAll('div', {'class':'tb-scroll'})"
   ]
  }
 ],
 "metadata": {
  "kernelspec": {
   "display_name": "Python 3",
   "language": "python",
   "name": "python3"
  },
  "language_info": {
   "codemirror_mode": {
    "name": "ipython",
    "version": 3
   },
   "file_extension": ".py",
   "mimetype": "text/x-python",
   "name": "python",
   "nbconvert_exporter": "python",
   "pygments_lexer": "ipython3",
   "version": "3.5.0"
  }
 },
 "nbformat": 4,
 "nbformat_minor": 2
}
