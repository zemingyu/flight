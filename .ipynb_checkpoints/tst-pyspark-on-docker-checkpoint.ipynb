{
 "cells": [
  {
   "cell_type": "code",
   "execution_count": 1,
   "metadata": {},
   "outputs": [],
   "source": [
    "import pyspark\n",
    "sc = pyspark.SparkContext('local[*]')"
   ]
  },
  {
   "cell_type": "code",
   "execution_count": 1,
   "metadata": {},
   "outputs": [
    {
     "data": {
      "text/plain": [
       "2"
      ]
     },
     "execution_count": 1,
     "metadata": {},
     "output_type": "execute_result"
    }
   ],
   "source": [
    "1+1"
   ]
  },
  {
   "cell_type": "code",
   "execution_count": 2,
   "metadata": {},
   "outputs": [],
   "source": [
    "from pyspark import SQLContext\n",
    "sqlContext = SQLContext(sparkContext=sc)"
   ]
  },
  {
   "cell_type": "code",
   "execution_count": 3,
   "metadata": {},
   "outputs": [],
   "source": [
    "import pyspark.sql.functions as F"
   ]
  },
  {
   "cell_type": "code",
   "execution_count": 4,
   "metadata": {},
   "outputs": [
    {
     "name": "stdout",
     "output_type": "stream",
     "text": [
      "/home/jovyan/work/uwork\r\n"
     ]
    }
   ],
   "source": [
    "! pwd"
   ]
  },
  {
   "cell_type": "code",
   "execution_count": 5,
   "metadata": {},
   "outputs": [],
   "source": [
    "# ! mkdir out_data"
   ]
  },
  {
   "cell_type": "code",
   "execution_count": 5,
   "metadata": {},
   "outputs": [],
   "source": [
    "df01 = sqlContext.read.parquet(\"uwork/s3/flight_10_1\")\n",
    "df02 = sqlContext.read.parquet(\"uwork/s3/flight_6_30\")\n",
    "\n",
    "# pq = df01.withColumn('searchMonth', F.date_format(F.last_day(F.col('searchDate')), \"YYYYMM\"))\n",
    "# pq2 = df02.withColumn('searchMonth', F.date_format(F.last_day(F.col('searchDate')), \"YYYYMM\"))"
   ]
  },
  {
   "cell_type": "code",
   "execution_count": 8,
   "metadata": {},
   "outputs": [
    {
     "ename": "ModuleNotFoundError",
     "evalue": "No module named 'h2o'",
     "output_type": "error",
     "traceback": [
      "\u001b[0;31m---------------------------------------------------------------------------\u001b[0m",
      "\u001b[0;31mModuleNotFoundError\u001b[0m                       Traceback (most recent call last)",
      "\u001b[0;32m<ipython-input-8-accdebc0c7de>\u001b[0m in \u001b[0;36m<module>\u001b[0;34m()\u001b[0m\n\u001b[0;32m----> 1\u001b[0;31m \u001b[0;32mimport\u001b[0m \u001b[0mh2o\u001b[0m\u001b[0;34m\u001b[0m\u001b[0m\n\u001b[0m",
      "\u001b[0;31mModuleNotFoundError\u001b[0m: No module named 'h2o'"
     ]
    }
   ],
   "source": [
    "import h2o"
   ]
  },
  {
   "cell_type": "code",
   "execution_count": 6,
   "metadata": {},
   "outputs": [
    {
     "name": "stdout",
     "output_type": "stream",
     "text": [
      "+------------+----------+--------+--------------------------------+--------------------------------+---------------------+----------------------------+-------------------------+---------------------+-----------------------+---------------------+---------------------------+---------------------------------+--------------------------------+----------------------------------------+-------------------------------+-----------------------------------------+-----------------------------------+-----------------------------+----------------------------------+-----------------------------------+------------------------------------+----------------------------------+----------------------------------+-----------------------+------------------------------+---------------------------+-----------------------+-------------------------+-----------------------+-----------------------------+--------------------+----------+--------------------------------+--------------------------------+---------------------+----------------------------+-------------------------+---------------------+-----------------------+---------------------+---------------------------+---------------------------------+--------------------------------+----------------------------------------+-------------------------------+-----------------------------------------+-----------------------------------+-----------------------------+----------------------------------+-----------------------------------+------------------------------------+----------------------------------+----------------------------------+-----------------------+------------------------------+---------------------------+-----------------------+-------------------------+-----------------------+-----------------------------+--------------------+----------+------+----------+--------+-----------------+-------+-----------------------------------------+-----------------------------+-----------------------------+----------------------------------+---------------------------------+-----------------------------+--------------------------+---------------------------------+------------------------------+--------------------------+----------------------------+--------------------------+--------------------------------+-------------------------+-----------------------------+------------------------------------------------------+-----------------------------+-----------------------------+----------------------------+------------------------------+-----------------------+---------------------------+-------------------------------------------+-------------------------------+-------------------------------+------------------------------------+-----------------------------------+-------------------------------+----------------------------+-----------------------------------+--------------------------------+----------------------------+------------------------------+----------------------------+----------------------------------+---------------------------------+------------------------+-----------------------+------------------------+--------------------------+-----------------+-----------------+------------------+-----------------------------------------+-----------------------------+-----------------------------+----------------------------------+---------------------------------+-----------------------------+--------------------------+---------------------------------+------------------------------+--------------------------+----------------------------+--------------------------+--------------------------------+-------------------------+-----------------------------+------------------------------------------------------+-----------------------------+-----------------------------+----------------------------+------------------------------+-----------------------+---------------------------+-------------------------------------------+-------------------------------+-------------------------------+------------------------------------+-----------------------------------+-------------------------------+----------------------------+-----------------------------------+--------------------------------+----------------------------+------------------------------+----------------------------+----------------------------------+---------------------------------+------------------------+-----------------------+------------------------+--------------------------+-----------------+-----------------+------------------+------+----+-------+\n",
      "|currencyCode|   depDate|fromCity|leg1_arrivalLocation_airportCity|leg1_arrivalLocation_airportCode|leg1_arrivalTime_date|leg1_arrivalTime_dateLongStr|leg1_arrivalTime_dateTime|leg1_arrivalTime_hour|leg1_arrivalTime_isoStr|leg1_arrivalTime_time|leg1_arrivalTime_travelDate|leg1_carrierSummary_airProviderId|leg1_carrierSummary_airlineCodes|leg1_carrierSummary_airlineImageFileName|leg1_carrierSummary_airlineName|leg1_carrierSummary_displayUrgencyMessage|leg1_carrierSummary_mixedCabinClass|leg1_carrierSummary_multiStop|leg1_carrierSummary_nextDayArrival|leg1_carrierSummary_noOfTicketsLeft|leg1_carrierSummary_seatMapAvailable|leg1_departureLocation_airportCity|leg1_departureLocation_airportCode|leg1_departureTime_date|leg1_departureTime_dateLongStr|leg1_departureTime_dateTime|leg1_departureTime_hour|leg1_departureTime_isoStr|leg1_departureTime_time|leg1_departureTime_travelDate|      leg1_stop_list|leg1_stops|leg2_arrivalLocation_airportCity|leg2_arrivalLocation_airportCode|leg2_arrivalTime_date|leg2_arrivalTime_dateLongStr|leg2_arrivalTime_dateTime|leg2_arrivalTime_hour|leg2_arrivalTime_isoStr|leg2_arrivalTime_time|leg2_arrivalTime_travelDate|leg2_carrierSummary_airProviderId|leg2_carrierSummary_airlineCodes|leg2_carrierSummary_airlineImageFileName|leg2_carrierSummary_airlineName|leg2_carrierSummary_displayUrgencyMessage|leg2_carrierSummary_mixedCabinClass|leg2_carrierSummary_multiStop|leg2_carrierSummary_nextDayArrival|leg2_carrierSummary_noOfTicketsLeft|leg2_carrierSummary_seatMapAvailable|leg2_departureLocation_airportCity|leg2_departureLocation_airportCode|leg2_departureTime_date|leg2_departureTime_dateLongStr|leg2_departureTime_dateTime|leg2_departureTime_hour|leg2_departureTime_isoStr|leg2_departureTime_time|leg2_departureTime_travelDate|      leg2_stop_list|leg2_stops| price|searchDate|stayDays|        tableName|task_id|timeline1_arrivalAirport_airportCityState|timeline1_arrivalAirport_city|timeline1_arrivalAirport_code|timeline1_arrivalAirport_localName|timeline1_arrivalAirport_longName|timeline1_arrivalAirport_name|timeline1_arrivalTime_date|timeline1_arrivalTime_dateLongStr|timeline1_arrivalTime_dateTime|timeline1_arrivalTime_hour|timeline1_arrivalTime_isoStr|timeline1_arrivalTime_time|timeline1_arrivalTime_travelDate|timeline1_brandedFareName|timeline1_carrier_airlineCode|timeline1_carrier_airlineImageFileNameWithoutExtension|timeline1_carrier_airlineName|timeline1_carrier_bookingCode|timeline1_carrier_cabinClass|timeline1_carrier_flightNumber|timeline1_carrier_plane|timeline1_carrier_planeCode|timeline1_departureAirport_airportCityState|timeline1_departureAirport_city|timeline1_departureAirport_code|timeline1_departureAirport_localName|timeline1_departureAirport_longName|timeline1_departureAirport_name|timeline1_departureTime_date|timeline1_departureTime_dateLongStr|timeline1_departureTime_dateTime|timeline1_departureTime_hour|timeline1_departureTime_isoStr|timeline1_departureTime_time|timeline1_departureTime_travelDate|timeline1_distance_formattedTotal|timeline1_distance_total|timeline1_distance_unit|timeline1_duration_hours|timeline1_duration_minutes|timeline1_layover|timeline1_segment|    timeline1_type|timeline2_arrivalAirport_airportCityState|timeline2_arrivalAirport_city|timeline2_arrivalAirport_code|timeline2_arrivalAirport_localName|timeline2_arrivalAirport_longName|timeline2_arrivalAirport_name|timeline2_arrivalTime_date|timeline2_arrivalTime_dateLongStr|timeline2_arrivalTime_dateTime|timeline2_arrivalTime_hour|timeline2_arrivalTime_isoStr|timeline2_arrivalTime_time|timeline2_arrivalTime_travelDate|timeline2_brandedFareName|timeline2_carrier_airlineCode|timeline2_carrier_airlineImageFileNameWithoutExtension|timeline2_carrier_airlineName|timeline2_carrier_bookingCode|timeline2_carrier_cabinClass|timeline2_carrier_flightNumber|timeline2_carrier_plane|timeline2_carrier_planeCode|timeline2_departureAirport_airportCityState|timeline2_departureAirport_city|timeline2_departureAirport_code|timeline2_departureAirport_localName|timeline2_departureAirport_longName|timeline2_departureAirport_name|timeline2_departureTime_date|timeline2_departureTime_dateLongStr|timeline2_departureTime_dateTime|timeline2_departureTime_hour|timeline2_departureTime_isoStr|timeline2_departureTime_time|timeline2_departureTime_travelDate|timeline2_distance_formattedTotal|timeline2_distance_total|timeline2_distance_unit|timeline2_duration_hours|timeline2_duration_minutes|timeline2_layover|timeline2_segment|    timeline2_type|toCity|trip|version|\n",
      "+------------+----------+--------+--------------------------------+--------------------------------+---------------------+----------------------------+-------------------------+---------------------+-----------------------+---------------------+---------------------------+---------------------------------+--------------------------------+----------------------------------------+-------------------------------+-----------------------------------------+-----------------------------------+-----------------------------+----------------------------------+-----------------------------------+------------------------------------+----------------------------------+----------------------------------+-----------------------+------------------------------+---------------------------+-----------------------+-------------------------+-----------------------+-----------------------------+--------------------+----------+--------------------------------+--------------------------------+---------------------+----------------------------+-------------------------+---------------------+-----------------------+---------------------+---------------------------+---------------------------------+--------------------------------+----------------------------------------+-------------------------------+-----------------------------------------+-----------------------------------+-----------------------------+----------------------------------+-----------------------------------+------------------------------------+----------------------------------+----------------------------------+-----------------------+------------------------------+---------------------------+-----------------------+-------------------------+-----------------------+-----------------------------+--------------------+----------+------+----------+--------+-----------------+-------+-----------------------------------------+-----------------------------+-----------------------------+----------------------------------+---------------------------------+-----------------------------+--------------------------+---------------------------------+------------------------------+--------------------------+----------------------------+--------------------------+--------------------------------+-------------------------+-----------------------------+------------------------------------------------------+-----------------------------+-----------------------------+----------------------------+------------------------------+-----------------------+---------------------------+-------------------------------------------+-------------------------------+-------------------------------+------------------------------------+-----------------------------------+-------------------------------+----------------------------+-----------------------------------+--------------------------------+----------------------------+------------------------------+----------------------------+----------------------------------+---------------------------------+------------------------+-----------------------+------------------------+--------------------------+-----------------+-----------------+------------------+-----------------------------------------+-----------------------------+-----------------------------+----------------------------------+---------------------------------+-----------------------------+--------------------------+---------------------------------+------------------------------+--------------------------+----------------------------+--------------------------+--------------------------------+-------------------------+-----------------------------+------------------------------------------------------+-----------------------------+-----------------------------+----------------------------+------------------------------+-----------------------+---------------------------+-------------------------------------------+-------------------------------+-------------------------------+------------------------------------+-----------------------------------+-------------------------------+----------------------------+-----------------------------------+--------------------------------+----------------------------+------------------------------+----------------------------+----------------------------------+---------------------------------+------------------------+-----------------------+------------------------+--------------------------+-----------------+-----------------+------------------+------+----+-------+\n",
      "|         AUD|2017-07-11| Chengdu|                          Sydney|                             SYD|            12/7/2017|               Wed., 12 Jul.|            1499819100000|                 null|   2017-07-12T10:25:...|              10:25am|                       null|                                7|                        [SQ, SQ]|                                  SQ.gif|             Singapore Airlines|                                     true|                              false|                         true|                              true|                                  1|                                true|                           Chengdu|                               CTU|              11/7/2017|                 Tue., 11 Jul.|              1499768700000|                     18|     2017-07-11T18:25:...|                 6:25pm|                         null|[[Singapore, Sing...|         1|                          Sydney|                             SYD|           22/11/2017|               Wed., 22 Nov.|            1511306100000|                    0|   2017-11-22T10:15:...|              10:15am|                       None|                                7|                        [MF, MF]|                                  MF.gif|                Xiamen Airlines|                                    false|                              false|                        false|                             false|                                  5|                               false|                           Beijing|                               PEK|             21/11/2017|                 Tue., 21 Nov.|              1511241900000|                     13|     2017-11-21T13:25:...|                 1:25pm|                         None|[[Fuzhou, China (...|         1|549.01|2017-06-08|       0|flight_10_1_price|    161|                     [Singapore, Singa...|          [Singapore, Sydney]|                   [SIN, SYD]|              [Changi, Kingsfor...|             [Singapore, Singa...|         [Singapore (Chang...|      [11/7/2017, 12/7/...|             [Tue., 11 Jul., W...|          [1499786700000, 1...|              [null, null]|        [2017-07-11T23:25...|        [11:25pm, 10:25am]|            [07/11/17, 07/12/17]|                     [, ]|                     [SQ, SQ]|                                              [SQ, SQ]|         [Singapore Airlin...|                       [W, W]|                      [3, 3]|                   [5135, 231]|   [Airbus A319, Air...|                 [319, 388]|                       [Chengdu, China, ...|           [Chengdu, Singapore]|                     [CTU, SIN]|                [Shuangliu Intl.,...|               [Chengdu, China (...|           [Chengdu (CTU), S...|        [11/7/2017, 12/7/...|               [Tue., 11 Jul., W...|            [1499768700000, 1...|                [null, null]|          [2017-07-11T18:25...|           [6:25pm, 12:45am]|              [07/11/17, 07/12/17]|                           [0, 0]|                  [0, 0]|               [km, km]|                  [5, 7]|                   [0, 40]|   [false, false]|     [true, true]|[Segment, Segment]|                     [Fuzhou, China, S...|             [Fuzhou, Sydney]|                   [FOC, SYD]|              [Changle Intl., K...|             [Fuzhou, China (F...|         [Fuzhou (FOC), Sy...|      [21/11/2017, 22/1...|             [Tue., 21 Nov., W...|          [1511252400000, 1...|                    [0, 0]|        [2017-11-21T16:20...|         [4:20pm, 10:15am]|            [11/21/17, 11/21/17]|                     [, ]|                     [MF, MF]|                                              [MF, MF]|         [Xiamen Airlines,...|                       [S, U]|                      [3, 3]|                   [8166, 807]|   [Boeing 757, Boei...|                 [757, 787]|                       [Beijing, China, ...|              [Beijing, Fuzhou]|                     [PEK, FOC]|                [Capital Intl., C...|               [Beijing, China (...|           [Beijing (PEK), F...|        [21/11/2017, 21/1...|               [Tue., 21 Nov., T...|            [1511241900000, 1...|                      [0, 0]|          [2017-11-21T13:25...|            [1:25pm, 9:30pm]|              [11/21/17, 11/21/17]|                           [0, 0]|                  [0, 0]|               [km, km]|                  [2, 9]|                  [55, 45]|   [false, false]|   [false, false]|[Segment, Segment]|sydney|   1|    1.1|\n",
      "+------------+----------+--------+--------------------------------+--------------------------------+---------------------+----------------------------+-------------------------+---------------------+-----------------------+---------------------+---------------------------+---------------------------------+--------------------------------+----------------------------------------+-------------------------------+-----------------------------------------+-----------------------------------+-----------------------------+----------------------------------+-----------------------------------+------------------------------------+----------------------------------+----------------------------------+-----------------------+------------------------------+---------------------------+-----------------------+-------------------------+-----------------------+-----------------------------+--------------------+----------+--------------------------------+--------------------------------+---------------------+----------------------------+-------------------------+---------------------+-----------------------+---------------------+---------------------------+---------------------------------+--------------------------------+----------------------------------------+-------------------------------+-----------------------------------------+-----------------------------------+-----------------------------+----------------------------------+-----------------------------------+------------------------------------+----------------------------------+----------------------------------+-----------------------+------------------------------+---------------------------+-----------------------+-------------------------+-----------------------+-----------------------------+--------------------+----------+------+----------+--------+-----------------+-------+-----------------------------------------+-----------------------------+-----------------------------+----------------------------------+---------------------------------+-----------------------------+--------------------------+---------------------------------+------------------------------+--------------------------+----------------------------+--------------------------+--------------------------------+-------------------------+-----------------------------+------------------------------------------------------+-----------------------------+-----------------------------+----------------------------+------------------------------+-----------------------+---------------------------+-------------------------------------------+-------------------------------+-------------------------------+------------------------------------+-----------------------------------+-------------------------------+----------------------------+-----------------------------------+--------------------------------+----------------------------+------------------------------+----------------------------+----------------------------------+---------------------------------+------------------------+-----------------------+------------------------+--------------------------+-----------------+-----------------+------------------+-----------------------------------------+-----------------------------+-----------------------------+----------------------------------+---------------------------------+-----------------------------+--------------------------+---------------------------------+------------------------------+--------------------------+----------------------------+--------------------------+--------------------------------+-------------------------+-----------------------------+------------------------------------------------------+-----------------------------+-----------------------------+----------------------------+------------------------------+-----------------------+---------------------------+-------------------------------------------+-------------------------------+-------------------------------+------------------------------------+-----------------------------------+-------------------------------+----------------------------+-----------------------------------+--------------------------------+----------------------------+------------------------------+----------------------------+----------------------------------+---------------------------------+------------------------+-----------------------+------------------------+--------------------------+-----------------+-----------------+------------------+------+----+-------+\n",
      "only showing top 1 row\n",
      "\n"
     ]
    }
   ],
   "source": [
    "df01.show(1)"
   ]
  },
  {
   "cell_type": "code",
   "execution_count": 9,
   "metadata": {},
   "outputs": [
    {
     "name": "stderr",
     "output_type": "stream",
     "text": [
      "ERROR:root:Exception while sending command.\n",
      "Traceback (most recent call last):\n",
      "  File \"/usr/local/spark/python/lib/py4j-0.10.4-src.zip/py4j/java_gateway.py\", line 1035, in send_command\n",
      "    raise Py4JNetworkError(\"Answer from Java side is empty\")\n",
      "py4j.protocol.Py4JNetworkError: Answer from Java side is empty\n",
      "\n",
      "During handling of the above exception, another exception occurred:\n",
      "\n",
      "Traceback (most recent call last):\n",
      "  File \"/usr/local/spark/python/lib/py4j-0.10.4-src.zip/py4j/java_gateway.py\", line 883, in send_command\n",
      "    response = connection.send_command(command)\n",
      "  File \"/usr/local/spark/python/lib/py4j-0.10.4-src.zip/py4j/java_gateway.py\", line 1040, in send_command\n",
      "    \"Error while receiving\", e, proto.ERROR_ON_RECEIVE)\n",
      "py4j.protocol.Py4JNetworkError: Error while receiving\n"
     ]
    },
    {
     "ename": "Py4JError",
     "evalue": "An error occurred while calling o81.save",
     "output_type": "error",
     "traceback": [
      "\u001b[0;31m---------------------------------------------------------------------------\u001b[0m",
      "\u001b[0;31mPy4JError\u001b[0m                                 Traceback (most recent call last)",
      "\u001b[0;32m<ipython-input-9-da1ab29c345f>\u001b[0m in \u001b[0;36m<module>\u001b[0;34m()\u001b[0m\n\u001b[1;32m      2\u001b[0m \u001b[0;31m# pq2.coalesce(1).write.partitionBy(\"fromCity\", \"toCity\", \"searchMonth\").mode(\"append\").save(\"out_data/flight.pq.11\")\u001b[0m\u001b[0;34m\u001b[0m\u001b[0;34m\u001b[0m\u001b[0m\n\u001b[1;32m      3\u001b[0m \u001b[0;34m\u001b[0m\u001b[0m\n\u001b[0;32m----> 4\u001b[0;31m \u001b[0mdf01\u001b[0m\u001b[0;34m.\u001b[0m\u001b[0mcoalesce\u001b[0m\u001b[0;34m(\u001b[0m\u001b[0;36m1\u001b[0m\u001b[0;34m)\u001b[0m\u001b[0;34m.\u001b[0m\u001b[0mwrite\u001b[0m\u001b[0;34m.\u001b[0m\u001b[0mpartitionBy\u001b[0m\u001b[0;34m(\u001b[0m\u001b[0;34m\"fromCity\"\u001b[0m\u001b[0;34m,\u001b[0m \u001b[0;34m\"toCity\"\u001b[0m\u001b[0;34m)\u001b[0m\u001b[0;34m.\u001b[0m\u001b[0msave\u001b[0m\u001b[0;34m(\u001b[0m\u001b[0;34m\"out_data/flight.pq.11_v2\"\u001b[0m\u001b[0;34m)\u001b[0m\u001b[0;34m\u001b[0m\u001b[0m\n\u001b[0m\u001b[1;32m      5\u001b[0m \u001b[0mdf02\u001b[0m\u001b[0;34m.\u001b[0m\u001b[0mcoalesce\u001b[0m\u001b[0;34m(\u001b[0m\u001b[0;36m1\u001b[0m\u001b[0;34m)\u001b[0m\u001b[0;34m.\u001b[0m\u001b[0mwrite\u001b[0m\u001b[0;34m.\u001b[0m\u001b[0mpartitionBy\u001b[0m\u001b[0;34m(\u001b[0m\u001b[0;34m\"fromCity\"\u001b[0m\u001b[0;34m,\u001b[0m \u001b[0;34m\"toCity\"\u001b[0m\u001b[0;34m)\u001b[0m\u001b[0;34m.\u001b[0m\u001b[0mmode\u001b[0m\u001b[0;34m(\u001b[0m\u001b[0;34m\"append\"\u001b[0m\u001b[0;34m)\u001b[0m\u001b[0;34m.\u001b[0m\u001b[0msave\u001b[0m\u001b[0;34m(\u001b[0m\u001b[0;34m\"out_data/flight.pq.11_v2\"\u001b[0m\u001b[0;34m)\u001b[0m\u001b[0;34m\u001b[0m\u001b[0m\n",
      "\u001b[0;32m/usr/local/spark/python/pyspark/sql/readwriter.py\u001b[0m in \u001b[0;36msave\u001b[0;34m(self, path, format, mode, partitionBy, **options)\u001b[0m\n\u001b[1;32m    593\u001b[0m             \u001b[0mself\u001b[0m\u001b[0;34m.\u001b[0m\u001b[0m_jwrite\u001b[0m\u001b[0;34m.\u001b[0m\u001b[0msave\u001b[0m\u001b[0;34m(\u001b[0m\u001b[0;34m)\u001b[0m\u001b[0;34m\u001b[0m\u001b[0m\n\u001b[1;32m    594\u001b[0m         \u001b[0;32melse\u001b[0m\u001b[0;34m:\u001b[0m\u001b[0;34m\u001b[0m\u001b[0m\n\u001b[0;32m--> 595\u001b[0;31m             \u001b[0mself\u001b[0m\u001b[0;34m.\u001b[0m\u001b[0m_jwrite\u001b[0m\u001b[0;34m.\u001b[0m\u001b[0msave\u001b[0m\u001b[0;34m(\u001b[0m\u001b[0mpath\u001b[0m\u001b[0;34m)\u001b[0m\u001b[0;34m\u001b[0m\u001b[0m\n\u001b[0m\u001b[1;32m    596\u001b[0m \u001b[0;34m\u001b[0m\u001b[0m\n\u001b[1;32m    597\u001b[0m     \u001b[0;34m@\u001b[0m\u001b[0msince\u001b[0m\u001b[0;34m(\u001b[0m\u001b[0;36m1.4\u001b[0m\u001b[0;34m)\u001b[0m\u001b[0;34m\u001b[0m\u001b[0m\n",
      "\u001b[0;32m/usr/local/spark/python/lib/py4j-0.10.4-src.zip/py4j/java_gateway.py\u001b[0m in \u001b[0;36m__call__\u001b[0;34m(self, *args)\u001b[0m\n\u001b[1;32m   1131\u001b[0m         \u001b[0manswer\u001b[0m \u001b[0;34m=\u001b[0m \u001b[0mself\u001b[0m\u001b[0;34m.\u001b[0m\u001b[0mgateway_client\u001b[0m\u001b[0;34m.\u001b[0m\u001b[0msend_command\u001b[0m\u001b[0;34m(\u001b[0m\u001b[0mcommand\u001b[0m\u001b[0;34m)\u001b[0m\u001b[0;34m\u001b[0m\u001b[0m\n\u001b[1;32m   1132\u001b[0m         return_value = get_return_value(\n\u001b[0;32m-> 1133\u001b[0;31m             answer, self.gateway_client, self.target_id, self.name)\n\u001b[0m\u001b[1;32m   1134\u001b[0m \u001b[0;34m\u001b[0m\u001b[0m\n\u001b[1;32m   1135\u001b[0m         \u001b[0;32mfor\u001b[0m \u001b[0mtemp_arg\u001b[0m \u001b[0;32min\u001b[0m \u001b[0mtemp_args\u001b[0m\u001b[0;34m:\u001b[0m\u001b[0;34m\u001b[0m\u001b[0m\n",
      "\u001b[0;32m/usr/local/spark/python/pyspark/sql/utils.py\u001b[0m in \u001b[0;36mdeco\u001b[0;34m(*a, **kw)\u001b[0m\n\u001b[1;32m     61\u001b[0m     \u001b[0;32mdef\u001b[0m \u001b[0mdeco\u001b[0m\u001b[0;34m(\u001b[0m\u001b[0;34m*\u001b[0m\u001b[0ma\u001b[0m\u001b[0;34m,\u001b[0m \u001b[0;34m**\u001b[0m\u001b[0mkw\u001b[0m\u001b[0;34m)\u001b[0m\u001b[0;34m:\u001b[0m\u001b[0;34m\u001b[0m\u001b[0m\n\u001b[1;32m     62\u001b[0m         \u001b[0;32mtry\u001b[0m\u001b[0;34m:\u001b[0m\u001b[0;34m\u001b[0m\u001b[0m\n\u001b[0;32m---> 63\u001b[0;31m             \u001b[0;32mreturn\u001b[0m \u001b[0mf\u001b[0m\u001b[0;34m(\u001b[0m\u001b[0;34m*\u001b[0m\u001b[0ma\u001b[0m\u001b[0;34m,\u001b[0m \u001b[0;34m**\u001b[0m\u001b[0mkw\u001b[0m\u001b[0;34m)\u001b[0m\u001b[0;34m\u001b[0m\u001b[0m\n\u001b[0m\u001b[1;32m     64\u001b[0m         \u001b[0;32mexcept\u001b[0m \u001b[0mpy4j\u001b[0m\u001b[0;34m.\u001b[0m\u001b[0mprotocol\u001b[0m\u001b[0;34m.\u001b[0m\u001b[0mPy4JJavaError\u001b[0m \u001b[0;32mas\u001b[0m \u001b[0me\u001b[0m\u001b[0;34m:\u001b[0m\u001b[0;34m\u001b[0m\u001b[0m\n\u001b[1;32m     65\u001b[0m             \u001b[0ms\u001b[0m \u001b[0;34m=\u001b[0m \u001b[0me\u001b[0m\u001b[0;34m.\u001b[0m\u001b[0mjava_exception\u001b[0m\u001b[0;34m.\u001b[0m\u001b[0mtoString\u001b[0m\u001b[0;34m(\u001b[0m\u001b[0;34m)\u001b[0m\u001b[0;34m\u001b[0m\u001b[0m\n",
      "\u001b[0;32m/usr/local/spark/python/lib/py4j-0.10.4-src.zip/py4j/protocol.py\u001b[0m in \u001b[0;36mget_return_value\u001b[0;34m(answer, gateway_client, target_id, name)\u001b[0m\n\u001b[1;32m    325\u001b[0m             raise Py4JError(\n\u001b[1;32m    326\u001b[0m                 \u001b[0;34m\"An error occurred while calling {0}{1}{2}\"\u001b[0m\u001b[0;34m.\u001b[0m\u001b[0;34m\u001b[0m\u001b[0m\n\u001b[0;32m--> 327\u001b[0;31m                 format(target_id, \".\", name))\n\u001b[0m\u001b[1;32m    328\u001b[0m     \u001b[0;32melse\u001b[0m\u001b[0;34m:\u001b[0m\u001b[0;34m\u001b[0m\u001b[0m\n\u001b[1;32m    329\u001b[0m         \u001b[0mtype\u001b[0m \u001b[0;34m=\u001b[0m \u001b[0manswer\u001b[0m\u001b[0;34m[\u001b[0m\u001b[0;36m1\u001b[0m\u001b[0;34m]\u001b[0m\u001b[0;34m\u001b[0m\u001b[0m\n",
      "\u001b[0;31mPy4JError\u001b[0m: An error occurred while calling o81.save"
     ]
    }
   ],
   "source": [
    "# pq.coalesce(1).write.partitionBy(\"fromCity\", \"toCity\", \"searchMonth\").save(\"out_data/flight.pq.11\")\n",
    "# pq2.coalesce(1).write.partitionBy(\"fromCity\", \"toCity\", \"searchMonth\").mode(\"append\").save(\"out_data/flight.pq.11\")\n",
    "\n",
    "df01.coalesce(1).write.partitionBy(\"fromCity\", \"toCity\").save(\"out_data/flight.pq.11_v2\")\n",
    "df02.coalesce(1).write.partitionBy(\"fromCity\", \"toCity\").mode(\"append\").save(\"out_data/flight.pq.11_v2\")"
   ]
  }
 ],
 "metadata": {
  "kernelspec": {
   "display_name": "Python 3",
   "language": "python",
   "name": "python3"
  },
  "language_info": {
   "codemirror_mode": {
    "name": "ipython",
    "version": 3
   },
   "file_extension": ".py",
   "mimetype": "text/x-python",
   "name": "python",
   "nbconvert_exporter": "python",
   "pygments_lexer": "ipython3",
   "version": "3.6.2"
  }
 },
 "nbformat": 4,
 "nbformat_minor": 2
}
