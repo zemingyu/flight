{
 "cells": [
  {
   "cell_type": "code",
   "execution_count": 1,
   "metadata": {},
   "outputs": [
    {
     "data": {
      "text/html": [
       "\n",
       "            <div>\n",
       "                <p><b>SparkSession - hive</b></p>\n",
       "                \n",
       "        <div>\n",
       "            <p><b>SparkContext</b></p>\n",
       "\n",
       "            <p><a href=\"http://172.17.0.2:4040\">Spark UI</a></p>\n",
       "\n",
       "            <dl>\n",
       "              <dt>Version</dt>\n",
       "                <dd><code>v2.2.0</code></dd>\n",
       "              <dt>Master</dt>\n",
       "                <dd><code>local[*]</code></dd>\n",
       "              <dt>AppName</dt>\n",
       "                <dd><code>PySparkShell</code></dd>\n",
       "            </dl>\n",
       "        </div>\n",
       "        \n",
       "            </div>\n",
       "        "
      ],
      "text/plain": [
       "<pyspark.sql.session.SparkSession at 0x7f5fc24aa208>"
      ]
     },
     "execution_count": 1,
     "metadata": {},
     "output_type": "execute_result"
    }
   ],
   "source": [
    "spark"
   ]
  },
  {
   "cell_type": "code",
   "execution_count": 2,
   "metadata": {},
   "outputs": [
    {
     "name": "stdout",
     "output_type": "stream",
     "text": [
      "Collecting colorama\n",
      "  Using cached colorama-0.3.9-py2.py3-none-any.whl\n",
      "Installing collected packages: colorama\n",
      "  Found existing installation: colorama 0.3.7\n",
      "    Uninstalling colorama-0.3.7:\n",
      "      Successfully uninstalled colorama-0.3.7\n",
      "Successfully installed colorama-0.3.9\n",
      "[WARNING] H2O requires colorama module of version 0.3.8 or newer. You have version 0.3.7.\n",
      "You can upgrade to the newest version of the module running from the command line\n",
      "    $ pip3 install --upgrade colorama\n",
      "Connecting to H2O server at http://172.17.0.2:54321... successful.\n"
     ]
    },
    {
     "data": {
      "text/html": [
       "<div style=\"overflow:auto\"><table style=\"width:50%\"><tr><td>H2O cluster uptime:</td>\n",
       "<td>04 secs</td></tr>\n",
       "<tr><td>H2O cluster version:</td>\n",
       "<td>3.14.0.7</td></tr>\n",
       "<tr><td>H2O cluster version age:</td>\n",
       "<td>1 month </td></tr>\n",
       "<tr><td>H2O cluster name:</td>\n",
       "<td>sparkling-water-jovyan_local-1511270189716</td></tr>\n",
       "<tr><td>H2O cluster total nodes:</td>\n",
       "<td>1</td></tr>\n",
       "<tr><td>H2O cluster free memory:</td>\n",
       "<td>10.51 Gb</td></tr>\n",
       "<tr><td>H2O cluster total cores:</td>\n",
       "<td>36</td></tr>\n",
       "<tr><td>H2O cluster allowed cores:</td>\n",
       "<td>36</td></tr>\n",
       "<tr><td>H2O cluster status:</td>\n",
       "<td>accepting new members, healthy</td></tr>\n",
       "<tr><td>H2O connection url:</td>\n",
       "<td>http://172.17.0.2:54321</td></tr>\n",
       "<tr><td>H2O connection proxy:</td>\n",
       "<td>None</td></tr>\n",
       "<tr><td>H2O internal security:</td>\n",
       "<td>False</td></tr>\n",
       "<tr><td>H2O API Extensions:</td>\n",
       "<td>XGBoost, Algos, AutoML, Core V3, Core V4</td></tr>\n",
       "<tr><td>Python version:</td>\n",
       "<td>3.6.3 final</td></tr></table></div>"
      ],
      "text/plain": [
       "--------------------------  ------------------------------------------\n",
       "H2O cluster uptime:         04 secs\n",
       "H2O cluster version:        3.14.0.7\n",
       "H2O cluster version age:    1 month\n",
       "H2O cluster name:           sparkling-water-jovyan_local-1511270189716\n",
       "H2O cluster total nodes:    1\n",
       "H2O cluster free memory:    10.51 Gb\n",
       "H2O cluster total cores:    36\n",
       "H2O cluster allowed cores:  36\n",
       "H2O cluster status:         accepting new members, healthy\n",
       "H2O connection url:         http://172.17.0.2:54321\n",
       "H2O connection proxy:\n",
       "H2O internal security:      False\n",
       "H2O API Extensions:         XGBoost, Algos, AutoML, Core V3, Core V4\n",
       "Python version:             3.6.3 final\n",
       "--------------------------  ------------------------------------------"
      ]
     },
     "metadata": {},
     "output_type": "display_data"
    },
    {
     "name": "stdout",
     "output_type": "stream",
     "text": [
      "\n",
      "Sparkling Water Context:\n",
      " * H2O name: sparkling-water-jovyan_local-1511270189716\n",
      " * cluster size: 1\n",
      " * list of used nodes:\n",
      "  (executorId, host, port)\n",
      "  ------------------------\n",
      "  (driver,172.17.0.2,54321)\n",
      "  ------------------------\n",
      "\n",
      "  Open H2O Flow in browser: http://172.17.0.2:54321 (CMD + click in Mac OSX)\n",
      "\n",
      "    \n"
     ]
    }
   ],
   "source": [
    "!pip install --upgrade colorama\n",
    "from pysparkling import *\n",
    "import h2o\n",
    "hc = H2OContext.getOrCreate(spark)"
   ]
  },
  {
   "cell_type": "code",
   "execution_count": 59,
   "metadata": {},
   "outputs": [],
   "source": [
    "import pandas as pd\n",
    "import numpy as np\n",
    "import pandas.io.sql as psql\n",
    "# import pyodbc\n",
    "import csv\n",
    "import matplotlib.pyplot as plt\n",
    "import seaborn as sns\n",
    "\n",
    "### Seaborn style\n",
    "sns.set_style(\"whitegrid\")\n",
    "pd.set_option('display.max_columns', None)\n",
    "\n",
    "# pd.set_option('display.float_format', lambda x: '%.3f' % x)\n",
    "pd.set_option('display.float_format', lambda x: '{:,.1f}'.format(x))\n",
    "\n",
    "%matplotlib inline"
   ]
  },
  {
   "cell_type": "code",
   "execution_count": 60,
   "metadata": {},
   "outputs": [],
   "source": [
    "df = sqlContext.read.parquet('/home/jovyan/work/sparkling-water-2.2.2/data/s3/flight.pq.11.comb')"
   ]
  },
  {
   "cell_type": "code",
   "execution_count": 61,
   "metadata": {},
   "outputs": [
    {
     "data": {
      "text/plain": [
       "106453155"
      ]
     },
     "execution_count": 61,
     "metadata": {},
     "output_type": "execute_result"
    }
   ],
   "source": [
    "df.count()"
   ]
  },
  {
   "cell_type": "code",
   "execution_count": 62,
   "metadata": {},
   "outputs": [],
   "source": [
    "df_sample = df.sample(False, 0.1, 42)"
   ]
  },
  {
   "cell_type": "code",
   "execution_count": 63,
   "metadata": {},
   "outputs": [
    {
     "data": {
      "text/plain": [
       "10645075"
      ]
     },
     "execution_count": 63,
     "metadata": {},
     "output_type": "execute_result"
    }
   ],
   "source": [
    "df_sample.count()"
   ]
  },
  {
   "cell_type": "code",
   "execution_count": 64,
   "metadata": {},
   "outputs": [],
   "source": [
    "df = df_sample"
   ]
  },
  {
   "cell_type": "code",
   "execution_count": 65,
   "metadata": {},
   "outputs": [],
   "source": [
    "import pyspark\n",
    "from pyspark import SQLContext\n",
    "import pyspark.sql.functions as F\n",
    "from pyspark.sql.window import Window\n",
    "from pyspark.sql.types import TimestampType\n",
    "\n",
    "import warnings\n",
    "warnings.filterwarnings(action='ignore')\n",
    "\n",
    "import pandas as pd\n",
    "import numpy as np\n",
    "import pandas as pd\n",
    "from sklearn import *\n",
    "from sklearn import preprocessing\n",
    "# import lightgbm as lgb\n",
    "from multiprocessing import *\n",
    "from sklearn.model_selection import StratifiedKFold\n"
   ]
  },
  {
   "cell_type": "code",
   "execution_count": 66,
   "metadata": {},
   "outputs": [],
   "source": [
    "lookforwardDays = 19\n",
    "ndays = lambda i: i * 86400 # number of seconds in a day\n",
    "byVar = ['toCity', 'depDate', 'stayDays', 'timeline1_departureTime_time', 'timeline2_departureTime_time',\n",
    "         'timeline1_carrier_airlineCode', 'timeline2_carrier_airlineCode']\n",
    "\n",
    "w = (Window.partitionBy('routeCombKey')\n",
    "     .orderBy(F.col('searchDate').cast('timestamp').cast('long'))\n",
    "     .rowsBetween(0, ndays(lookforwardDays)))\n",
    "\n",
    "threshold = 20\n",
    "\n",
    "udfGetWeekNumer = lambda dt: F.udf(dt.isocalendar()[1], IntegerType())\n",
    "# udfGetAvg = lambda x: F.udf(sum(x)/float(len(x)))\\n\\n\n",
    "\n",
    "df2 = (df.filter(df.price > 0)\n",
    "       .withColumn('routeCombKey', F.concat_ws('-', F.col('fromCity'),\n",
    "                                   F.col('toCity'),\n",
    "                                   F.col('stayDays'), F.col('depDate'),\n",
    "                                   F.col('timeline1_departureTime_time'),\n",
    "                                   F.col('timeline2_departureTime_time'),\n",
    "                                   F.col('timeline1_carrier_airlineCode'),\n",
    "                                   F.col('timeline2_carrier_airlineCode')))\n",
    "                                   # join_udf(F.col('timeline1_departureTime_time')),\n",
    "                                   # join_udf(F.col('timeline2_departureTime_time')),\n",
    "                                   # join_udf(F.col('timeline1_carrier_airlineCode')),\n",
    "                                   # join_udf(F.col('timeline2_carrier_airlineCode'))))\n",
    "       .withColumn('futureMinPrice', F.min(F.col('price')).over(w))\n",
    "       .withColumn('priceWillDrop', (F.col('price') - F.col('futureMinPrice') > threshold).cast('int'))\n",
    "       .withColumn('saving0', F.col('price') - F.col('futureMinPrice'))\n",
    "       .withColumn('temp0', F.lit(0))\n",
    "       .withColumn('saving', F.greatest('saving0', 'temp0'))\n",
    "       .drop('saving0', 'temp0')\n",
    "       .withColumn('leadTime', F.datediff(F.col('depDate'), F.col('searchDate')))\n",
    "       .withColumn('depWeekOfYear', F.weekofyear(F.col('depDate')))\n",
    "       .withColumn('retWeekOfYear', F.weekofyear(F.col('leg2_departureTime_date')))\n",
    "       .withColumn('depMonth', F.month(F.col('depDate')))\n",
    "       .withColumn('depDayOfMonth', F.dayofmonth(F.col('depDate')))\n",
    "       .withColumn('depDayOfYear', F.dayofyear(F.col('depDate')))\n",
    "       .withColumn('depDayOfWeek', F.date_format(F.col('depDate'), 'EEEE'))\n",
    "       .withColumn('retDayOfWeek', F.date_format(F.col('leg2_departureTime_date'), 'EEEE'))\n",
    "       .withColumn('searchDayOfWeek', F.date_format(F.col('searchDate'), 'EEEE'))\n",
    "       .withColumn('leg1_noOfTicketsLeft', \n",
    "                   F.when(F.col('leg1_carrierSummary_noOfTicketsLeft') > 0, \n",
    "                          F.col('leg1_carrierSummary_noOfTicketsLeft')).otherwise(99))\n",
    "        .withColumn('leg2_noOfTicketsLeft', \n",
    "                    F.when(F.col('leg2_carrierSummary_noOfTicketsLeft') > 0, \n",
    "                           F.col('leg2_carrierSummary_noOfTicketsLeft')).otherwise(99))\n",
    "       .withColumn('leg1_cabinClass_0', F.col('timeline1_carrier_cabinClass').getItem(0))\n",
    "       .withColumn('leg1_cabinClass_1', F.col('timeline1_carrier_cabinClass').getItem(1))\n",
    "       .withColumn('leg1_cabinClass_2', F.col('timeline1_carrier_cabinClass').getItem(2))\n",
    "       .withColumn('leg2_cabinClass_0', F.col('timeline2_carrier_cabinClass').getItem(0))\n",
    "       .withColumn('leg2_cabinClass_1', F.col('timeline2_carrier_cabinClass').getItem(1))\n",
    "       .withColumn('leg2_cabinClass_2', F.col('timeline2_carrier_cabinClass').getItem(2))\n",
    "       .select('price', 'priceWillDrop', 'futureMinPrice', 'saving',\n",
    "               'fromCity', 'toCity',\n",
    "               'searchDate',\n",
    "               'routeCombKey',\n",
    "               'leadTime', \n",
    "               'leg1_stops', 'leg2_stops',\n",
    "               'leg1_noOfTicketsLeft', 'leg2_noOfTicketsLeft',\n",
    "               'leg1_carrierSummary_airlineName', 'leg2_carrierSummary_airlineName',\n",
    "               'leg1_departureTime_hour', 'leg2_departureTime_hour',\n",
    "               'depWeekOfYear', 'depDayOfWeek','retWeekOfYear', 'retDayOfWeek',\n",
    "               'searchDayOfWeek',\n",
    "               'leg1_cabinClass_0', 'leg1_cabinClass_1', 'leg1_cabinClass_2',\n",
    "               'leg2_cabinClass_0', 'leg2_cabinClass_1', 'leg2_cabinClass_2',\n",
    "               'trip')\n",
    "      )\n",
    "\n",
    "# df2.cache()"
   ]
  },
  {
   "cell_type": "code",
   "execution_count": 67,
   "metadata": {},
   "outputs": [
    {
     "name": "stdout",
     "output_type": "stream",
     "text": [
      "CPU times: user 0 ns, sys: 0 ns, total: 0 ns\n",
      "Wall time: 61.4 ms\n"
     ]
    }
   ],
   "source": [
    "%%time\n",
    "# Slow!\n",
    "df3 = df2.filter(F.col('searchDate') <= F.lit('2017-06-23').cast(TimestampType()))\n",
    "df3 = df3.withColumn('randVar', F.round(F.rand()*200, 0))"
   ]
  },
  {
   "cell_type": "code",
   "execution_count": 68,
   "metadata": {},
   "outputs": [],
   "source": [
    "# !mkdir /home/jovyan/.local/h2o_jar\n",
    "# !cp /home/jovyan/work/h2o-3.14.0.7/h2o.jar /home/jovyan/.local/h2o_jar\n",
    "# # H2O\n",
    "\n",
    "# # turn off proxy so that h2o can run properly\n",
    "# import os\n",
    "# # os.environ.pop(\"HTTP_PROXY\")\n",
    "\n",
    "# import h2o\n",
    "# h2o.init(nthreads = -1)"
   ]
  },
  {
   "cell_type": "code",
   "execution_count": 69,
   "metadata": {},
   "outputs": [
    {
     "name": "stdout",
     "output_type": "stream",
     "text": [
      "CPU times: user 12 ms, sys: 0 ns, total: 12 ms\n",
      "Wall time: 29.1 s\n"
     ]
    }
   ],
   "source": [
    "%%time\n",
    "hf = hc.as_h2o_frame(df3)"
   ]
  },
  {
   "cell_type": "code",
   "execution_count": 70,
   "metadata": {},
   "outputs": [
    {
     "name": "stdout",
     "output_type": "stream",
     "text": [
      "Rows:8522052\n",
      "Cols:30\n",
      "\n",
      "\n"
     ]
    },
    {
     "data": {
      "text/html": [
       "<table>\n",
       "<thead>\n",
       "<tr><th>       </th><th>price             </th><th>priceWillDrop      </th><th>futureMinPrice    </th><th>saving            </th><th>fromCity  </th><th>toCity  </th><th>searchDate  </th><th>routeCombKey                                                                      </th><th>leadTime         </th><th>leg1_stops        </th><th>leg2_stops         </th><th>leg1_noOfTicketsLeft  </th><th>leg2_noOfTicketsLeft  </th><th>leg1_carrierSummary_airlineName  </th><th>leg2_carrierSummary_airlineName  </th><th>leg1_departureTime_hour  </th><th>leg2_departureTime_hour  </th><th>depWeekOfYear     </th><th>depDayOfWeek  </th><th>retWeekOfYear  </th><th>retDayOfWeek  </th><th>searchDayOfWeek  </th><th>leg1_cabinClass_0  </th><th>leg1_cabinClass_1  </th><th>leg1_cabinClass_2  </th><th>leg2_cabinClass_0  </th><th>leg2_cabinClass_1  </th><th>leg2_cabinClass_2  </th><th>trip               </th><th>randVar         </th></tr>\n",
       "</thead>\n",
       "<tbody>\n",
       "<tr><td>type   </td><td>real              </td><td>int                </td><td>real              </td><td>real              </td><td>string    </td><td>string  </td><td>string      </td><td>string                                                                            </td><td>int              </td><td>int               </td><td>int                </td><td>int                   </td><td>int                   </td><td>string                           </td><td>string                           </td><td>int                      </td><td>int                      </td><td>int               </td><td>string        </td><td>int            </td><td>string        </td><td>string           </td><td>string             </td><td>string             </td><td>string             </td><td>string             </td><td>string             </td><td>string             </td><td>int                </td><td>int             </td></tr>\n",
       "<tr><td>mins   </td><td>76.88             </td><td>0.0                </td><td>76.88             </td><td>0.0               </td><td>NaN       </td><td>NaN     </td><td>NaN         </td><td>NaN                                                                               </td><td>1.0              </td><td>0.0               </td><td>0.0                </td><td>1.0                   </td><td>1.0                   </td><td>NaN                              </td><td>NaN                              </td><td>0.0                      </td><td>0.0                      </td><td>19.0              </td><td>NaN           </td><td>NaN            </td><td>NaN           </td><td>NaN              </td><td>NaN                </td><td>NaN                </td><td>NaN                </td><td>NaN                </td><td>NaN                </td><td>NaN                </td><td>1.0                </td><td>0.0             </td></tr>\n",
       "<tr><td>mean   </td><td>1415.935615994834 </td><td>0.16219309621673278</td><td>1390.9174475924344</td><td>25.01816840239886 </td><td>NaN       </td><td>NaN     </td><td>NaN         </td><td>NaN                                                                               </td><td>90.57469327809781</td><td>0.9604375800570097</td><td>0.7854675141620824 </td><td>27.065197912427678    </td><td>27.193349207444403    </td><td>NaN                              </td><td>NaN                              </td><td>12.79329532370842        </td><td>12.598971351031421       </td><td>35.014683552740586</td><td>NaN           </td><td>0.0            </td><td>0.0           </td><td>NaN              </td><td>NaN                </td><td>NaN                </td><td>NaN                </td><td>NaN                </td><td>NaN                </td><td>NaN                </td><td>1.8126969889411606 </td><td>99.9793412431654</td></tr>\n",
       "<tr><td>maxs   </td><td>25554.2           </td><td>1.0                </td><td>25554.2           </td><td>14126.710000000001</td><td>NaN       </td><td>NaN     </td><td>NaN         </td><td>NaN                                                                               </td><td>180.0            </td><td>6.0               </td><td>5.0                </td><td>99.0                  </td><td>99.0                  </td><td>NaN                              </td><td>NaN                              </td><td>23.0                     </td><td>23.0                     </td><td>51.0              </td><td>NaN           </td><td>NaN            </td><td>NaN           </td><td>NaN              </td><td>NaN                </td><td>NaN                </td><td>NaN                </td><td>NaN                </td><td>NaN                </td><td>NaN                </td><td>2.0                </td><td>200.0           </td></tr>\n",
       "<tr><td>sigma  </td><td>1283.4524192530023</td><td>0.3686278770001574 </td><td>1269.1513458975996</td><td>138.3754110250184 </td><td>NaN       </td><td>NaN     </td><td>NaN         </td><td>NaN                                                                               </td><td>51.93724656183912</td><td>0.4326786914063809</td><td>0.46454428580276064</td><td>38.35058235914927     </td><td>39.052926703292705    </td><td>NaN                              </td><td>NaN                              </td><td>5.639100741417713        </td><td>5.724363597489872        </td><td>7.623112844164992 </td><td>NaN           </td><td>-0.0           </td><td>-0.0          </td><td>NaN              </td><td>NaN                </td><td>NaN                </td><td>NaN                </td><td>NaN                </td><td>NaN                </td><td>NaN                </td><td>0.39015459880552256</td><td>57.7446501048326</td></tr>\n",
       "<tr><td>zeros  </td><td>0                 </td><td>7139834            </td><td>0                 </td><td>4966686           </td><td>0         </td><td>0       </td><td>0           </td><td>0                                                                                 </td><td>0                </td><td>965216            </td><td>2027794            </td><td>0                     </td><td>0                     </td><td>0                                </td><td>0                                </td><td>305100                   </td><td>324246                   </td><td>0                 </td><td>0             </td><td>0              </td><td>0             </td><td>0                </td><td>0                  </td><td>0                  </td><td>0                  </td><td>0                  </td><td>0                  </td><td>0                  </td><td>0                  </td><td>21382           </td></tr>\n",
       "<tr><td>missing</td><td>0                 </td><td>0                  </td><td>0                 </td><td>0                 </td><td>0         </td><td>0       </td><td>0           </td><td>0                                                                                 </td><td>0                </td><td>0                 </td><td>0                  </td><td>0                     </td><td>0                     </td><td>0                                </td><td>0                                </td><td>0                        </td><td>0                        </td><td>0                 </td><td>0             </td><td>8522052        </td><td>8522052       </td><td>0                </td><td>0                  </td><td>965216             </td><td>7898422            </td><td>0                  </td><td>2027794            </td><td>8324271            </td><td>0                  </td><td>0               </td></tr>\n",
       "<tr><td>0      </td><td>1357.4            </td><td>0.0                </td><td>1357.4            </td><td>0.0               </td><td>shanghai  </td><td>Auckland</td><td>2017-05-15  </td><td>shanghai-Auckland-0-2017-05-18-4:00pm-11:00pm-8:45am-1:25pm-9:30pm-PR-PR-PR-MF-MF </td><td>3.0              </td><td>2.0               </td><td>1.0                </td><td>7.0                   </td><td>5.0                   </td><td>Philippine Airlines              </td><td>Xiamen Airlines                  </td><td>16.0                     </td><td>13.0                     </td><td>20.0              </td><td>Thursday      </td><td>nan            </td><td>              </td><td>Monday           </td><td>3                  </td><td>3                  </td><td>3                  </td><td>3                  </td><td>3                  </td><td>                   </td><td>1.0                </td><td>188.0           </td></tr>\n",
       "<tr><td>1      </td><td>1291.3            </td><td>0.0                </td><td>1291.3            </td><td>0.0               </td><td>shanghai  </td><td>Auckland</td><td>2017-05-13  </td><td>shanghai-Auckland-0-2017-05-21-7:50pm-11:00pm-11:50am-1:25pm-9:30pm-CI-CI-CI-MF-MF</td><td>8.0              </td><td>2.0               </td><td>1.0                </td><td>9.0                   </td><td>5.0                   </td><td>China Airlines                   </td><td>Xiamen Airlines                  </td><td>19.0                     </td><td>13.0                     </td><td>20.0              </td><td>Sunday        </td><td>nan            </td><td>              </td><td>Saturday         </td><td>3                  </td><td>3                  </td><td>3                  </td><td>3                  </td><td>3                  </td><td>                   </td><td>1.0                </td><td>89.0            </td></tr>\n",
       "<tr><td>2      </td><td>1291.3            </td><td>0.0                </td><td>1291.3            </td><td>0.0               </td><td>shanghai  </td><td>Auckland</td><td>2017-05-15  </td><td>shanghai-Auckland-0-2017-05-21-7:50pm-11:00pm-11:50am-1:25pm-9:30pm-CI-CI-CI-MF-MF</td><td>6.0              </td><td>2.0               </td><td>1.0                </td><td>9.0                   </td><td>5.0                   </td><td>China Airlines                   </td><td>Xiamen Airlines                  </td><td>19.0                     </td><td>13.0                     </td><td>20.0              </td><td>Sunday        </td><td>nan            </td><td>              </td><td>Monday           </td><td>3                  </td><td>3                  </td><td>3                  </td><td>3                  </td><td>3                  </td><td>                   </td><td>1.0                </td><td>135.0           </td></tr>\n",
       "<tr><td>3      </td><td>721.2             </td><td>0.0                </td><td>721.2             </td><td>0.0               </td><td>shanghai  </td><td>Auckland</td><td>2017-05-14  </td><td>shanghai-Auckland-0-2017-05-22-8:20pm-3:50pm-1:25pm-9:30pm-MU-NZ-MF-MF            </td><td>8.0              </td><td>1.0               </td><td>1.0                </td><td>7.0                   </td><td>5.0                   </td><td>                                 </td><td>Xiamen Airlines                  </td><td>20.0                     </td><td>13.0                     </td><td>21.0              </td><td>Monday        </td><td>nan            </td><td>              </td><td>Sunday           </td><td>3                  </td><td>3                  </td><td>                   </td><td>3                  </td><td>3                  </td><td>                   </td><td>1.0                </td><td>160.0           </td></tr>\n",
       "<tr><td>4      </td><td>845.2             </td><td>0.0                </td><td>845.2             </td><td>0.0               </td><td>shanghai  </td><td>Auckland</td><td>2017-05-25  </td><td>shanghai-Auckland-0-2017-05-27-9:10am-4:50pm-1:25pm-9:30pm-MU-HU-MF-MF            </td><td>2.0              </td><td>1.0               </td><td>1.0                </td><td>3.0                   </td><td>5.0                   </td><td>                                 </td><td>Xiamen Airlines                  </td><td>9.0                      </td><td>13.0                     </td><td>21.0              </td><td>Saturday      </td><td>nan            </td><td>              </td><td>Thursday         </td><td>3                  </td><td>3                  </td><td>                   </td><td>3                  </td><td>3                  </td><td>                   </td><td>1.0                </td><td>65.0            </td></tr>\n",
       "<tr><td>5      </td><td>847.6             </td><td>0.0                </td><td>847.6             </td><td>0.0               </td><td>shanghai  </td><td>Auckland</td><td>2017-05-26  </td><td>shanghai-Auckland-0-2017-05-27-9:10am-4:50pm-1:25pm-9:30pm-MU-HU-MF-MF            </td><td>1.0              </td><td>1.0               </td><td>1.0                </td><td>2.0                   </td><td>5.0                   </td><td>                                 </td><td>Xiamen Airlines                  </td><td>9.0                      </td><td>13.0                     </td><td>21.0              </td><td>Saturday      </td><td>nan            </td><td>              </td><td>Friday           </td><td>3                  </td><td>3                  </td><td>                   </td><td>3                  </td><td>3                  </td><td>                   </td><td>1.0                </td><td>103.0           </td></tr>\n",
       "<tr><td>6      </td><td>968.5             </td><td>0.0                </td><td>968.5             </td><td>0.0               </td><td>shanghai  </td><td>Auckland</td><td>2017-06-01  </td><td>shanghai-Auckland-0-2017-06-03-8:30am-2:25pm-1:25pm-9:30pm-MU-CZ-MF-MF            </td><td>2.0              </td><td>1.0               </td><td>1.0                </td><td>9.0                   </td><td>5.0                   </td><td>                                 </td><td>Xiamen Airlines                  </td><td>8.0                      </td><td>13.0                     </td><td>22.0              </td><td>Saturday      </td><td>nan            </td><td>              </td><td>Thursday         </td><td>3                  </td><td>3                  </td><td>                   </td><td>3                  </td><td>3                  </td><td>                   </td><td>1.0                </td><td>92.0            </td></tr>\n",
       "<tr><td>7      </td><td>516.8             </td><td>0.0                </td><td>516.8             </td><td>0.0               </td><td>shanghai  </td><td>Auckland</td><td>2017-05-22  </td><td>shanghai-Auckland-0-2017-06-04-2:50pm-12:30am-1:25pm-9:30pm-CZ-CZ-MF-MF           </td><td>13.0             </td><td>1.0               </td><td>1.0                </td><td>9.0                   </td><td>5.0                   </td><td>China Southern Airlines          </td><td>Xiamen Airlines                  </td><td>14.0                     </td><td>13.0                     </td><td>22.0              </td><td>Sunday        </td><td>nan            </td><td>              </td><td>Monday           </td><td>3                  </td><td>3                  </td><td>                   </td><td>3                  </td><td>3                  </td><td>                   </td><td>1.0                </td><td>161.0           </td></tr>\n",
       "<tr><td>8      </td><td>520.1             </td><td>0.0                </td><td>520.1             </td><td>0.0               </td><td>shanghai  </td><td>Auckland</td><td>2017-05-13  </td><td>shanghai-Auckland-0-2017-06-05-2:50pm-12:30am-1:25pm-9:30pm-CZ-CZ-MF-MF           </td><td>23.0             </td><td>1.0               </td><td>1.0                </td><td>9.0                   </td><td>5.0                   </td><td>China Southern Airlines          </td><td>Xiamen Airlines                  </td><td>14.0                     </td><td>13.0                     </td><td>23.0              </td><td>Monday        </td><td>nan            </td><td>              </td><td>Saturday         </td><td>3                  </td><td>3                  </td><td>                   </td><td>3                  </td><td>3                  </td><td>                   </td><td>1.0                </td><td>167.0           </td></tr>\n",
       "<tr><td>9      </td><td>1088.8            </td><td>0.0                </td><td>1088.8            </td><td>0.0               </td><td>shanghai  </td><td>Auckland</td><td>2017-05-25  </td><td>shanghai-Auckland-0-2017-06-11-1:25pm-12:30am-1:25pm-9:30pm-FM-CZ-MF-MF           </td><td>17.0             </td><td>1.0               </td><td>1.0                </td><td>1.0                   </td><td>5.0                   </td><td>                                 </td><td>Xiamen Airlines                  </td><td>13.0                     </td><td>13.0                     </td><td>23.0              </td><td>Sunday        </td><td>nan            </td><td>              </td><td>Thursday         </td><td>3                  </td><td>3                  </td><td>                   </td><td>3                  </td><td>3                  </td><td>                   </td><td>1.0                </td><td>174.0           </td></tr>\n",
       "</tbody>\n",
       "</table>"
      ]
     },
     "metadata": {},
     "output_type": "display_data"
    },
    {
     "data": {
      "text/plain": [
       "['price',\n",
       " 'priceWillDrop',\n",
       " 'futureMinPrice',\n",
       " 'saving',\n",
       " 'fromCity',\n",
       " 'toCity',\n",
       " 'searchDate',\n",
       " 'routeCombKey',\n",
       " 'leadTime',\n",
       " 'leg1_stops',\n",
       " 'leg2_stops',\n",
       " 'leg1_noOfTicketsLeft',\n",
       " 'leg2_noOfTicketsLeft',\n",
       " 'leg1_carrierSummary_airlineName',\n",
       " 'leg2_carrierSummary_airlineName',\n",
       " 'leg1_departureTime_hour',\n",
       " 'leg2_departureTime_hour',\n",
       " 'depWeekOfYear',\n",
       " 'depDayOfWeek',\n",
       " 'retWeekOfYear',\n",
       " 'retDayOfWeek',\n",
       " 'searchDayOfWeek',\n",
       " 'leg1_cabinClass_0',\n",
       " 'leg1_cabinClass_1',\n",
       " 'leg1_cabinClass_2',\n",
       " 'leg2_cabinClass_0',\n",
       " 'leg2_cabinClass_1',\n",
       " 'leg2_cabinClass_2',\n",
       " 'trip',\n",
       " 'randVar']"
      ]
     },
     "execution_count": 70,
     "metadata": {},
     "output_type": "execute_result"
    }
   ],
   "source": [
    "hf.head(5)\n",
    "\n",
    "hf.describe()\n",
    "\n",
    "hf.types\n",
    "\n",
    "hf['leg1_carrierSummary_airlineName'].levels()\n",
    "\n",
    "hf['depDayOfWeek'].levels()\n",
    "\n",
    "# hf['JV_X_Excess'] = hf.interaction(['JV Description', 'Destination'], pairwise=False, max_factors=10, min_occurrence=500)\n",
    "\n",
    "hf.columns"
   ]
  },
  {
   "cell_type": "code",
   "execution_count": 71,
   "metadata": {},
   "outputs": [
    {
     "name": "stdout",
     "output_type": "stream",
     "text": [
      "Rows:8522052\n",
      "Cols:30\n",
      "\n",
      "\n"
     ]
    },
    {
     "data": {
      "text/html": [
       "<table>\n",
       "<thead>\n",
       "<tr><th>       </th><th>price             </th><th>priceWillDrop      </th><th>futureMinPrice    </th><th>saving            </th><th>fromCity  </th><th>toCity  </th><th>searchDate  </th><th>routeCombKey                                                                      </th><th>leadTime         </th><th>leg1_stops        </th><th>leg2_stops         </th><th>leg1_noOfTicketsLeft  </th><th>leg2_noOfTicketsLeft  </th><th>leg1_carrierSummary_airlineName  </th><th>leg2_carrierSummary_airlineName  </th><th>leg1_departureTime_hour  </th><th>leg2_departureTime_hour  </th><th>depWeekOfYear     </th><th>depDayOfWeek  </th><th>retWeekOfYear  </th><th>retDayOfWeek  </th><th>searchDayOfWeek  </th><th>leg1_cabinClass_0  </th><th>leg1_cabinClass_1  </th><th>leg1_cabinClass_2  </th><th>leg2_cabinClass_0  </th><th>leg2_cabinClass_1  </th><th>leg2_cabinClass_2  </th><th>trip               </th><th>randVar         </th></tr>\n",
       "</thead>\n",
       "<tbody>\n",
       "<tr><td>type   </td><td>real              </td><td>int                </td><td>real              </td><td>real              </td><td>string    </td><td>string  </td><td>string      </td><td>string                                                                            </td><td>int              </td><td>int               </td><td>int                </td><td>int                   </td><td>int                   </td><td>string                           </td><td>string                           </td><td>int                      </td><td>int                      </td><td>int               </td><td>string        </td><td>int            </td><td>string        </td><td>string           </td><td>string             </td><td>string             </td><td>string             </td><td>string             </td><td>string             </td><td>string             </td><td>int                </td><td>int             </td></tr>\n",
       "<tr><td>mins   </td><td>76.88             </td><td>0.0                </td><td>76.88             </td><td>0.0               </td><td>NaN       </td><td>NaN     </td><td>NaN         </td><td>NaN                                                                               </td><td>1.0              </td><td>0.0               </td><td>0.0                </td><td>1.0                   </td><td>1.0                   </td><td>NaN                              </td><td>NaN                              </td><td>0.0                      </td><td>0.0                      </td><td>19.0              </td><td>NaN           </td><td>NaN            </td><td>NaN           </td><td>NaN              </td><td>NaN                </td><td>NaN                </td><td>NaN                </td><td>NaN                </td><td>NaN                </td><td>NaN                </td><td>1.0                </td><td>0.0             </td></tr>\n",
       "<tr><td>mean   </td><td>1415.935615994834 </td><td>0.16219309621673278</td><td>1390.9174475924344</td><td>25.01816840239886 </td><td>NaN       </td><td>NaN     </td><td>NaN         </td><td>NaN                                                                               </td><td>90.57469327809781</td><td>0.9604375800570097</td><td>0.7854675141620824 </td><td>27.065197912427678    </td><td>27.193349207444403    </td><td>NaN                              </td><td>NaN                              </td><td>12.79329532370842        </td><td>12.598971351031421       </td><td>35.014683552740586</td><td>NaN           </td><td>0.0            </td><td>0.0           </td><td>NaN              </td><td>NaN                </td><td>NaN                </td><td>NaN                </td><td>NaN                </td><td>NaN                </td><td>NaN                </td><td>1.8126969889411606 </td><td>99.9793412431654</td></tr>\n",
       "<tr><td>maxs   </td><td>25554.2           </td><td>1.0                </td><td>25554.2           </td><td>14126.710000000001</td><td>NaN       </td><td>NaN     </td><td>NaN         </td><td>NaN                                                                               </td><td>180.0            </td><td>6.0               </td><td>5.0                </td><td>99.0                  </td><td>99.0                  </td><td>NaN                              </td><td>NaN                              </td><td>23.0                     </td><td>23.0                     </td><td>51.0              </td><td>NaN           </td><td>NaN            </td><td>NaN           </td><td>NaN              </td><td>NaN                </td><td>NaN                </td><td>NaN                </td><td>NaN                </td><td>NaN                </td><td>NaN                </td><td>2.0                </td><td>200.0           </td></tr>\n",
       "<tr><td>sigma  </td><td>1283.4524192530023</td><td>0.3686278770001574 </td><td>1269.1513458975996</td><td>138.3754110250184 </td><td>NaN       </td><td>NaN     </td><td>NaN         </td><td>NaN                                                                               </td><td>51.93724656183912</td><td>0.4326786914063809</td><td>0.46454428580276064</td><td>38.35058235914927     </td><td>39.052926703292705    </td><td>NaN                              </td><td>NaN                              </td><td>5.639100741417713        </td><td>5.724363597489872        </td><td>7.623112844164992 </td><td>NaN           </td><td>-0.0           </td><td>-0.0          </td><td>NaN              </td><td>NaN                </td><td>NaN                </td><td>NaN                </td><td>NaN                </td><td>NaN                </td><td>NaN                </td><td>0.39015459880552256</td><td>57.7446501048326</td></tr>\n",
       "<tr><td>zeros  </td><td>0                 </td><td>7139834            </td><td>0                 </td><td>4966686           </td><td>0         </td><td>0       </td><td>0           </td><td>0                                                                                 </td><td>0                </td><td>965216            </td><td>2027794            </td><td>0                     </td><td>0                     </td><td>0                                </td><td>0                                </td><td>305100                   </td><td>324246                   </td><td>0                 </td><td>0             </td><td>0              </td><td>0             </td><td>0                </td><td>0                  </td><td>0                  </td><td>0                  </td><td>0                  </td><td>0                  </td><td>0                  </td><td>0                  </td><td>21382           </td></tr>\n",
       "<tr><td>missing</td><td>0                 </td><td>0                  </td><td>0                 </td><td>0                 </td><td>0         </td><td>0       </td><td>0           </td><td>0                                                                                 </td><td>0                </td><td>0                 </td><td>0                  </td><td>0                     </td><td>0                     </td><td>0                                </td><td>0                                </td><td>0                        </td><td>0                        </td><td>0                 </td><td>0             </td><td>8522052        </td><td>8522052       </td><td>0                </td><td>0                  </td><td>965216             </td><td>7898422            </td><td>0                  </td><td>2027794            </td><td>8324271            </td><td>0                  </td><td>0               </td></tr>\n",
       "<tr><td>0      </td><td>1357.4            </td><td>0.0                </td><td>1357.4            </td><td>0.0               </td><td>shanghai  </td><td>Auckland</td><td>2017-05-15  </td><td>shanghai-Auckland-0-2017-05-18-4:00pm-11:00pm-8:45am-1:25pm-9:30pm-PR-PR-PR-MF-MF </td><td>3.0              </td><td>2.0               </td><td>1.0                </td><td>7.0                   </td><td>5.0                   </td><td>Philippine Airlines              </td><td>Xiamen Airlines                  </td><td>16.0                     </td><td>13.0                     </td><td>20.0              </td><td>Thursday      </td><td>nan            </td><td>              </td><td>Monday           </td><td>3                  </td><td>3                  </td><td>3                  </td><td>3                  </td><td>3                  </td><td>                   </td><td>1.0                </td><td>188.0           </td></tr>\n",
       "<tr><td>1      </td><td>1291.3            </td><td>0.0                </td><td>1291.3            </td><td>0.0               </td><td>shanghai  </td><td>Auckland</td><td>2017-05-13  </td><td>shanghai-Auckland-0-2017-05-21-7:50pm-11:00pm-11:50am-1:25pm-9:30pm-CI-CI-CI-MF-MF</td><td>8.0              </td><td>2.0               </td><td>1.0                </td><td>9.0                   </td><td>5.0                   </td><td>China Airlines                   </td><td>Xiamen Airlines                  </td><td>19.0                     </td><td>13.0                     </td><td>20.0              </td><td>Sunday        </td><td>nan            </td><td>              </td><td>Saturday         </td><td>3                  </td><td>3                  </td><td>3                  </td><td>3                  </td><td>3                  </td><td>                   </td><td>1.0                </td><td>89.0            </td></tr>\n",
       "<tr><td>2      </td><td>1291.3            </td><td>0.0                </td><td>1291.3            </td><td>0.0               </td><td>shanghai  </td><td>Auckland</td><td>2017-05-15  </td><td>shanghai-Auckland-0-2017-05-21-7:50pm-11:00pm-11:50am-1:25pm-9:30pm-CI-CI-CI-MF-MF</td><td>6.0              </td><td>2.0               </td><td>1.0                </td><td>9.0                   </td><td>5.0                   </td><td>China Airlines                   </td><td>Xiamen Airlines                  </td><td>19.0                     </td><td>13.0                     </td><td>20.0              </td><td>Sunday        </td><td>nan            </td><td>              </td><td>Monday           </td><td>3                  </td><td>3                  </td><td>3                  </td><td>3                  </td><td>3                  </td><td>                   </td><td>1.0                </td><td>135.0           </td></tr>\n",
       "<tr><td>3      </td><td>721.2             </td><td>0.0                </td><td>721.2             </td><td>0.0               </td><td>shanghai  </td><td>Auckland</td><td>2017-05-14  </td><td>shanghai-Auckland-0-2017-05-22-8:20pm-3:50pm-1:25pm-9:30pm-MU-NZ-MF-MF            </td><td>8.0              </td><td>1.0               </td><td>1.0                </td><td>7.0                   </td><td>5.0                   </td><td>                                 </td><td>Xiamen Airlines                  </td><td>20.0                     </td><td>13.0                     </td><td>21.0              </td><td>Monday        </td><td>nan            </td><td>              </td><td>Sunday           </td><td>3                  </td><td>3                  </td><td>                   </td><td>3                  </td><td>3                  </td><td>                   </td><td>1.0                </td><td>160.0           </td></tr>\n",
       "<tr><td>4      </td><td>845.2             </td><td>0.0                </td><td>845.2             </td><td>0.0               </td><td>shanghai  </td><td>Auckland</td><td>2017-05-25  </td><td>shanghai-Auckland-0-2017-05-27-9:10am-4:50pm-1:25pm-9:30pm-MU-HU-MF-MF            </td><td>2.0              </td><td>1.0               </td><td>1.0                </td><td>3.0                   </td><td>5.0                   </td><td>                                 </td><td>Xiamen Airlines                  </td><td>9.0                      </td><td>13.0                     </td><td>21.0              </td><td>Saturday      </td><td>nan            </td><td>              </td><td>Thursday         </td><td>3                  </td><td>3                  </td><td>                   </td><td>3                  </td><td>3                  </td><td>                   </td><td>1.0                </td><td>65.0            </td></tr>\n",
       "<tr><td>5      </td><td>847.6             </td><td>0.0                </td><td>847.6             </td><td>0.0               </td><td>shanghai  </td><td>Auckland</td><td>2017-05-26  </td><td>shanghai-Auckland-0-2017-05-27-9:10am-4:50pm-1:25pm-9:30pm-MU-HU-MF-MF            </td><td>1.0              </td><td>1.0               </td><td>1.0                </td><td>2.0                   </td><td>5.0                   </td><td>                                 </td><td>Xiamen Airlines                  </td><td>9.0                      </td><td>13.0                     </td><td>21.0              </td><td>Saturday      </td><td>nan            </td><td>              </td><td>Friday           </td><td>3                  </td><td>3                  </td><td>                   </td><td>3                  </td><td>3                  </td><td>                   </td><td>1.0                </td><td>103.0           </td></tr>\n",
       "<tr><td>6      </td><td>968.5             </td><td>0.0                </td><td>968.5             </td><td>0.0               </td><td>shanghai  </td><td>Auckland</td><td>2017-06-01  </td><td>shanghai-Auckland-0-2017-06-03-8:30am-2:25pm-1:25pm-9:30pm-MU-CZ-MF-MF            </td><td>2.0              </td><td>1.0               </td><td>1.0                </td><td>9.0                   </td><td>5.0                   </td><td>                                 </td><td>Xiamen Airlines                  </td><td>8.0                      </td><td>13.0                     </td><td>22.0              </td><td>Saturday      </td><td>nan            </td><td>              </td><td>Thursday         </td><td>3                  </td><td>3                  </td><td>                   </td><td>3                  </td><td>3                  </td><td>                   </td><td>1.0                </td><td>92.0            </td></tr>\n",
       "<tr><td>7      </td><td>516.8             </td><td>0.0                </td><td>516.8             </td><td>0.0               </td><td>shanghai  </td><td>Auckland</td><td>2017-05-22  </td><td>shanghai-Auckland-0-2017-06-04-2:50pm-12:30am-1:25pm-9:30pm-CZ-CZ-MF-MF           </td><td>13.0             </td><td>1.0               </td><td>1.0                </td><td>9.0                   </td><td>5.0                   </td><td>China Southern Airlines          </td><td>Xiamen Airlines                  </td><td>14.0                     </td><td>13.0                     </td><td>22.0              </td><td>Sunday        </td><td>nan            </td><td>              </td><td>Monday           </td><td>3                  </td><td>3                  </td><td>                   </td><td>3                  </td><td>3                  </td><td>                   </td><td>1.0                </td><td>161.0           </td></tr>\n",
       "<tr><td>8      </td><td>520.1             </td><td>0.0                </td><td>520.1             </td><td>0.0               </td><td>shanghai  </td><td>Auckland</td><td>2017-05-13  </td><td>shanghai-Auckland-0-2017-06-05-2:50pm-12:30am-1:25pm-9:30pm-CZ-CZ-MF-MF           </td><td>23.0             </td><td>1.0               </td><td>1.0                </td><td>9.0                   </td><td>5.0                   </td><td>China Southern Airlines          </td><td>Xiamen Airlines                  </td><td>14.0                     </td><td>13.0                     </td><td>23.0              </td><td>Monday        </td><td>nan            </td><td>              </td><td>Saturday         </td><td>3                  </td><td>3                  </td><td>                   </td><td>3                  </td><td>3                  </td><td>                   </td><td>1.0                </td><td>167.0           </td></tr>\n",
       "<tr><td>9      </td><td>1088.8            </td><td>0.0                </td><td>1088.8            </td><td>0.0               </td><td>shanghai  </td><td>Auckland</td><td>2017-05-25  </td><td>shanghai-Auckland-0-2017-06-11-1:25pm-12:30am-1:25pm-9:30pm-FM-CZ-MF-MF           </td><td>17.0             </td><td>1.0               </td><td>1.0                </td><td>1.0                   </td><td>5.0                   </td><td>                                 </td><td>Xiamen Airlines                  </td><td>13.0                     </td><td>13.0                     </td><td>23.0              </td><td>Sunday        </td><td>nan            </td><td>              </td><td>Thursday         </td><td>3                  </td><td>3                  </td><td>                   </td><td>3                  </td><td>3                  </td><td>                   </td><td>1.0                </td><td>174.0           </td></tr>\n",
       "</tbody>\n",
       "</table>"
      ]
     },
     "metadata": {},
     "output_type": "display_data"
    }
   ],
   "source": [
    "hf.describe()"
   ]
  },
  {
   "cell_type": "code",
   "execution_count": 72,
   "metadata": {},
   "outputs": [
    {
     "name": "stdout",
     "output_type": "stream",
     "text": [
      "Rows:8522052\n",
      "Cols:30\n",
      "\n",
      "\n"
     ]
    },
    {
     "data": {
      "text/html": [
       "<table>\n",
       "<thead>\n",
       "<tr><th>       </th><th>price             </th><th>priceWillDrop      </th><th>futureMinPrice    </th><th>saving            </th><th>fromCity  </th><th>toCity  </th><th>searchDate  </th><th>routeCombKey                                                                      </th><th>leadTime         </th><th>leg1_stops        </th><th>leg2_stops         </th><th>leg1_noOfTicketsLeft  </th><th>leg2_noOfTicketsLeft  </th><th>leg1_carrierSummary_airlineName  </th><th>leg2_carrierSummary_airlineName  </th><th>leg1_departureTime_hour  </th><th>leg2_departureTime_hour  </th><th>depWeekOfYear     </th><th>depDayOfWeek  </th><th>retWeekOfYear  </th><th>retDayOfWeek  </th><th>searchDayOfWeek  </th><th>leg1_cabinClass_0  </th><th>leg1_cabinClass_1  </th><th>leg1_cabinClass_2  </th><th>leg2_cabinClass_0  </th><th>leg2_cabinClass_1  </th><th>leg2_cabinClass_2  </th><th>trip               </th><th>randVar         </th></tr>\n",
       "</thead>\n",
       "<tbody>\n",
       "<tr><td>type   </td><td>real              </td><td>int                </td><td>real              </td><td>real              </td><td>string    </td><td>string  </td><td>string      </td><td>string                                                                            </td><td>int              </td><td>int               </td><td>int                </td><td>int                   </td><td>int                   </td><td>string                           </td><td>string                           </td><td>int                      </td><td>int                      </td><td>int               </td><td>string        </td><td>int            </td><td>string        </td><td>string           </td><td>string             </td><td>string             </td><td>string             </td><td>string             </td><td>string             </td><td>string             </td><td>int                </td><td>int             </td></tr>\n",
       "<tr><td>mins   </td><td>76.88             </td><td>0.0                </td><td>76.88             </td><td>0.0               </td><td>NaN       </td><td>NaN     </td><td>NaN         </td><td>NaN                                                                               </td><td>1.0              </td><td>0.0               </td><td>0.0                </td><td>1.0                   </td><td>1.0                   </td><td>NaN                              </td><td>NaN                              </td><td>0.0                      </td><td>0.0                      </td><td>19.0              </td><td>NaN           </td><td>NaN            </td><td>NaN           </td><td>NaN              </td><td>NaN                </td><td>NaN                </td><td>NaN                </td><td>NaN                </td><td>NaN                </td><td>NaN                </td><td>1.0                </td><td>0.0             </td></tr>\n",
       "<tr><td>mean   </td><td>1415.935615994834 </td><td>0.16219309621673278</td><td>1390.9174475924344</td><td>25.01816840239886 </td><td>NaN       </td><td>NaN     </td><td>NaN         </td><td>NaN                                                                               </td><td>90.57469327809781</td><td>0.9604375800570097</td><td>0.7854675141620824 </td><td>27.065197912427678    </td><td>27.193349207444403    </td><td>NaN                              </td><td>NaN                              </td><td>12.79329532370842        </td><td>12.598971351031421       </td><td>35.014683552740586</td><td>NaN           </td><td>0.0            </td><td>0.0           </td><td>NaN              </td><td>NaN                </td><td>NaN                </td><td>NaN                </td><td>NaN                </td><td>NaN                </td><td>NaN                </td><td>1.8126969889411606 </td><td>99.9793412431654</td></tr>\n",
       "<tr><td>maxs   </td><td>25554.2           </td><td>1.0                </td><td>25554.2           </td><td>14126.710000000001</td><td>NaN       </td><td>NaN     </td><td>NaN         </td><td>NaN                                                                               </td><td>180.0            </td><td>6.0               </td><td>5.0                </td><td>99.0                  </td><td>99.0                  </td><td>NaN                              </td><td>NaN                              </td><td>23.0                     </td><td>23.0                     </td><td>51.0              </td><td>NaN           </td><td>NaN            </td><td>NaN           </td><td>NaN              </td><td>NaN                </td><td>NaN                </td><td>NaN                </td><td>NaN                </td><td>NaN                </td><td>NaN                </td><td>2.0                </td><td>200.0           </td></tr>\n",
       "<tr><td>sigma  </td><td>1283.4524192530023</td><td>0.3686278770001574 </td><td>1269.1513458975996</td><td>138.3754110250184 </td><td>NaN       </td><td>NaN     </td><td>NaN         </td><td>NaN                                                                               </td><td>51.93724656183912</td><td>0.4326786914063809</td><td>0.46454428580276064</td><td>38.35058235914927     </td><td>39.052926703292705    </td><td>NaN                              </td><td>NaN                              </td><td>5.639100741417713        </td><td>5.724363597489872        </td><td>7.623112844164992 </td><td>NaN           </td><td>-0.0           </td><td>-0.0          </td><td>NaN              </td><td>NaN                </td><td>NaN                </td><td>NaN                </td><td>NaN                </td><td>NaN                </td><td>NaN                </td><td>0.39015459880552256</td><td>57.7446501048326</td></tr>\n",
       "<tr><td>zeros  </td><td>0                 </td><td>7139834            </td><td>0                 </td><td>4966686           </td><td>0         </td><td>0       </td><td>0           </td><td>0                                                                                 </td><td>0                </td><td>965216            </td><td>2027794            </td><td>0                     </td><td>0                     </td><td>0                                </td><td>0                                </td><td>305100                   </td><td>324246                   </td><td>0                 </td><td>0             </td><td>0              </td><td>0             </td><td>0                </td><td>0                  </td><td>0                  </td><td>0                  </td><td>0                  </td><td>0                  </td><td>0                  </td><td>0                  </td><td>21382           </td></tr>\n",
       "<tr><td>missing</td><td>0                 </td><td>0                  </td><td>0                 </td><td>0                 </td><td>0         </td><td>0       </td><td>0           </td><td>0                                                                                 </td><td>0                </td><td>0                 </td><td>0                  </td><td>0                     </td><td>0                     </td><td>0                                </td><td>0                                </td><td>0                        </td><td>0                        </td><td>0                 </td><td>0             </td><td>8522052        </td><td>8522052       </td><td>0                </td><td>0                  </td><td>965216             </td><td>7898422            </td><td>0                  </td><td>2027794            </td><td>8324271            </td><td>0                  </td><td>0               </td></tr>\n",
       "<tr><td>0      </td><td>1357.4            </td><td>0.0                </td><td>1357.4            </td><td>0.0               </td><td>shanghai  </td><td>Auckland</td><td>2017-05-15  </td><td>shanghai-Auckland-0-2017-05-18-4:00pm-11:00pm-8:45am-1:25pm-9:30pm-PR-PR-PR-MF-MF </td><td>3.0              </td><td>2.0               </td><td>1.0                </td><td>7.0                   </td><td>5.0                   </td><td>Philippine Airlines              </td><td>Xiamen Airlines                  </td><td>16.0                     </td><td>13.0                     </td><td>20.0              </td><td>Thursday      </td><td>nan            </td><td>              </td><td>Monday           </td><td>3                  </td><td>3                  </td><td>3                  </td><td>3                  </td><td>3                  </td><td>                   </td><td>1.0                </td><td>188.0           </td></tr>\n",
       "<tr><td>1      </td><td>1291.3            </td><td>0.0                </td><td>1291.3            </td><td>0.0               </td><td>shanghai  </td><td>Auckland</td><td>2017-05-13  </td><td>shanghai-Auckland-0-2017-05-21-7:50pm-11:00pm-11:50am-1:25pm-9:30pm-CI-CI-CI-MF-MF</td><td>8.0              </td><td>2.0               </td><td>1.0                </td><td>9.0                   </td><td>5.0                   </td><td>China Airlines                   </td><td>Xiamen Airlines                  </td><td>19.0                     </td><td>13.0                     </td><td>20.0              </td><td>Sunday        </td><td>nan            </td><td>              </td><td>Saturday         </td><td>3                  </td><td>3                  </td><td>3                  </td><td>3                  </td><td>3                  </td><td>                   </td><td>1.0                </td><td>89.0            </td></tr>\n",
       "<tr><td>2      </td><td>1291.3            </td><td>0.0                </td><td>1291.3            </td><td>0.0               </td><td>shanghai  </td><td>Auckland</td><td>2017-05-15  </td><td>shanghai-Auckland-0-2017-05-21-7:50pm-11:00pm-11:50am-1:25pm-9:30pm-CI-CI-CI-MF-MF</td><td>6.0              </td><td>2.0               </td><td>1.0                </td><td>9.0                   </td><td>5.0                   </td><td>China Airlines                   </td><td>Xiamen Airlines                  </td><td>19.0                     </td><td>13.0                     </td><td>20.0              </td><td>Sunday        </td><td>nan            </td><td>              </td><td>Monday           </td><td>3                  </td><td>3                  </td><td>3                  </td><td>3                  </td><td>3                  </td><td>                   </td><td>1.0                </td><td>135.0           </td></tr>\n",
       "<tr><td>3      </td><td>721.2             </td><td>0.0                </td><td>721.2             </td><td>0.0               </td><td>shanghai  </td><td>Auckland</td><td>2017-05-14  </td><td>shanghai-Auckland-0-2017-05-22-8:20pm-3:50pm-1:25pm-9:30pm-MU-NZ-MF-MF            </td><td>8.0              </td><td>1.0               </td><td>1.0                </td><td>7.0                   </td><td>5.0                   </td><td>                                 </td><td>Xiamen Airlines                  </td><td>20.0                     </td><td>13.0                     </td><td>21.0              </td><td>Monday        </td><td>nan            </td><td>              </td><td>Sunday           </td><td>3                  </td><td>3                  </td><td>                   </td><td>3                  </td><td>3                  </td><td>                   </td><td>1.0                </td><td>160.0           </td></tr>\n",
       "<tr><td>4      </td><td>845.2             </td><td>0.0                </td><td>845.2             </td><td>0.0               </td><td>shanghai  </td><td>Auckland</td><td>2017-05-25  </td><td>shanghai-Auckland-0-2017-05-27-9:10am-4:50pm-1:25pm-9:30pm-MU-HU-MF-MF            </td><td>2.0              </td><td>1.0               </td><td>1.0                </td><td>3.0                   </td><td>5.0                   </td><td>                                 </td><td>Xiamen Airlines                  </td><td>9.0                      </td><td>13.0                     </td><td>21.0              </td><td>Saturday      </td><td>nan            </td><td>              </td><td>Thursday         </td><td>3                  </td><td>3                  </td><td>                   </td><td>3                  </td><td>3                  </td><td>                   </td><td>1.0                </td><td>65.0            </td></tr>\n",
       "<tr><td>5      </td><td>847.6             </td><td>0.0                </td><td>847.6             </td><td>0.0               </td><td>shanghai  </td><td>Auckland</td><td>2017-05-26  </td><td>shanghai-Auckland-0-2017-05-27-9:10am-4:50pm-1:25pm-9:30pm-MU-HU-MF-MF            </td><td>1.0              </td><td>1.0               </td><td>1.0                </td><td>2.0                   </td><td>5.0                   </td><td>                                 </td><td>Xiamen Airlines                  </td><td>9.0                      </td><td>13.0                     </td><td>21.0              </td><td>Saturday      </td><td>nan            </td><td>              </td><td>Friday           </td><td>3                  </td><td>3                  </td><td>                   </td><td>3                  </td><td>3                  </td><td>                   </td><td>1.0                </td><td>103.0           </td></tr>\n",
       "<tr><td>6      </td><td>968.5             </td><td>0.0                </td><td>968.5             </td><td>0.0               </td><td>shanghai  </td><td>Auckland</td><td>2017-06-01  </td><td>shanghai-Auckland-0-2017-06-03-8:30am-2:25pm-1:25pm-9:30pm-MU-CZ-MF-MF            </td><td>2.0              </td><td>1.0               </td><td>1.0                </td><td>9.0                   </td><td>5.0                   </td><td>                                 </td><td>Xiamen Airlines                  </td><td>8.0                      </td><td>13.0                     </td><td>22.0              </td><td>Saturday      </td><td>nan            </td><td>              </td><td>Thursday         </td><td>3                  </td><td>3                  </td><td>                   </td><td>3                  </td><td>3                  </td><td>                   </td><td>1.0                </td><td>92.0            </td></tr>\n",
       "<tr><td>7      </td><td>516.8             </td><td>0.0                </td><td>516.8             </td><td>0.0               </td><td>shanghai  </td><td>Auckland</td><td>2017-05-22  </td><td>shanghai-Auckland-0-2017-06-04-2:50pm-12:30am-1:25pm-9:30pm-CZ-CZ-MF-MF           </td><td>13.0             </td><td>1.0               </td><td>1.0                </td><td>9.0                   </td><td>5.0                   </td><td>China Southern Airlines          </td><td>Xiamen Airlines                  </td><td>14.0                     </td><td>13.0                     </td><td>22.0              </td><td>Sunday        </td><td>nan            </td><td>              </td><td>Monday           </td><td>3                  </td><td>3                  </td><td>                   </td><td>3                  </td><td>3                  </td><td>                   </td><td>1.0                </td><td>161.0           </td></tr>\n",
       "<tr><td>8      </td><td>520.1             </td><td>0.0                </td><td>520.1             </td><td>0.0               </td><td>shanghai  </td><td>Auckland</td><td>2017-05-13  </td><td>shanghai-Auckland-0-2017-06-05-2:50pm-12:30am-1:25pm-9:30pm-CZ-CZ-MF-MF           </td><td>23.0             </td><td>1.0               </td><td>1.0                </td><td>9.0                   </td><td>5.0                   </td><td>China Southern Airlines          </td><td>Xiamen Airlines                  </td><td>14.0                     </td><td>13.0                     </td><td>23.0              </td><td>Monday        </td><td>nan            </td><td>              </td><td>Saturday         </td><td>3                  </td><td>3                  </td><td>                   </td><td>3                  </td><td>3                  </td><td>                   </td><td>1.0                </td><td>167.0           </td></tr>\n",
       "<tr><td>9      </td><td>1088.8            </td><td>0.0                </td><td>1088.8            </td><td>0.0               </td><td>shanghai  </td><td>Auckland</td><td>2017-05-25  </td><td>shanghai-Auckland-0-2017-06-11-1:25pm-12:30am-1:25pm-9:30pm-FM-CZ-MF-MF           </td><td>17.0             </td><td>1.0               </td><td>1.0                </td><td>1.0                   </td><td>5.0                   </td><td>                                 </td><td>Xiamen Airlines                  </td><td>13.0                     </td><td>13.0                     </td><td>23.0              </td><td>Sunday        </td><td>nan            </td><td>              </td><td>Thursday         </td><td>3                  </td><td>3                  </td><td>                   </td><td>3                  </td><td>3                  </td><td>                   </td><td>1.0                </td><td>174.0           </td></tr>\n",
       "</tbody>\n",
       "</table>"
      ]
     },
     "metadata": {},
     "output_type": "display_data"
    }
   ],
   "source": [
    "features = ['price',\n",
    "         'fromCity',\n",
    "         'toCity', \n",
    "         'leadTime',\n",
    "         'leg1_stops',\n",
    "         'leg2_stops',\n",
    "         'leg1_noOfTicketsLeft',\n",
    "         'leg2_noOfTicketsLeft',\n",
    "         'leg1_carrierSummary_airlineName',\n",
    "         'leg2_carrierSummary_airlineName',\n",
    "         'leg1_departureTime_hour',\n",
    "         'leg2_departureTime_hour',\n",
    "         'depWeekOfYear',\n",
    "         'depDayOfWeek',\n",
    "         'retWeekOfYear',\n",
    "         'retDayOfWeek',\n",
    "         'searchDayOfWeek',\n",
    "         'leg1_cabinClass_0',\n",
    "         \n",
    "         \n",
    "         'leg2_cabinClass_0',\n",
    "         \n",
    "         \n",
    "         'trip'\n",
    "         ]\n",
    "\n",
    "target = 'priceWillDrop'\n",
    "\n",
    "other_cols = [ 'futureMinPrice', 'saving','searchDate', 'routeCombKey','randVar',\n",
    "             'leg1_cabinClass_2','leg2_cabinClass_2','leg1_cabinClass_1','leg2_cabinClass_1',]\n",
    "\n",
    "features, target\n",
    "\n",
    "hf.describe()"
   ]
  },
  {
   "cell_type": "code",
   "execution_count": null,
   "metadata": {},
   "outputs": [],
   "source": [
    "# hf[hf['leg1_cabinClass_1'].isna(), 'leg1_cabinClass_1'] = 0 #missing"
   ]
  },
  {
   "cell_type": "code",
   "execution_count": 73,
   "metadata": {},
   "outputs": [
    {
     "name": "stdout",
     "output_type": "stream",
     "text": [
      "Rows:8522052\n",
      "Cols:30\n",
      "\n",
      "\n"
     ]
    },
    {
     "data": {
      "text/html": [
       "<table>\n",
       "<thead>\n",
       "<tr><th>       </th><th>price             </th><th>priceWillDrop      </th><th>futureMinPrice    </th><th>saving            </th><th>fromCity  </th><th>toCity  </th><th>searchDate  </th><th>routeCombKey                                                                      </th><th>leadTime         </th><th>leg1_stops        </th><th>leg2_stops         </th><th>leg1_noOfTicketsLeft  </th><th>leg2_noOfTicketsLeft  </th><th>leg1_carrierSummary_airlineName  </th><th>leg2_carrierSummary_airlineName  </th><th>leg1_departureTime_hour  </th><th>leg2_departureTime_hour  </th><th>depWeekOfYear     </th><th>depDayOfWeek  </th><th>retWeekOfYear  </th><th>retDayOfWeek  </th><th>searchDayOfWeek  </th><th>leg1_cabinClass_0  </th><th>leg1_cabinClass_1  </th><th>leg1_cabinClass_2  </th><th>leg2_cabinClass_0  </th><th>leg2_cabinClass_1  </th><th>leg2_cabinClass_2  </th><th>trip               </th><th>randVar         </th></tr>\n",
       "</thead>\n",
       "<tbody>\n",
       "<tr><td>type   </td><td>real              </td><td>int                </td><td>real              </td><td>real              </td><td>string    </td><td>string  </td><td>string      </td><td>string                                                                            </td><td>int              </td><td>int               </td><td>int                </td><td>int                   </td><td>int                   </td><td>string                           </td><td>string                           </td><td>int                      </td><td>int                      </td><td>int               </td><td>string        </td><td>int            </td><td>string        </td><td>string           </td><td>string             </td><td>string             </td><td>string             </td><td>string             </td><td>string             </td><td>string             </td><td>int                </td><td>int             </td></tr>\n",
       "<tr><td>mins   </td><td>76.88             </td><td>0.0                </td><td>76.88             </td><td>0.0               </td><td>NaN       </td><td>NaN     </td><td>NaN         </td><td>NaN                                                                               </td><td>1.0              </td><td>0.0               </td><td>0.0                </td><td>1.0                   </td><td>1.0                   </td><td>NaN                              </td><td>NaN                              </td><td>0.0                      </td><td>0.0                      </td><td>19.0              </td><td>NaN           </td><td>NaN            </td><td>NaN           </td><td>NaN              </td><td>NaN                </td><td>NaN                </td><td>NaN                </td><td>NaN                </td><td>NaN                </td><td>NaN                </td><td>1.0                </td><td>0.0             </td></tr>\n",
       "<tr><td>mean   </td><td>1415.935615994834 </td><td>0.16219309621673278</td><td>1390.9174475924344</td><td>25.01816840239886 </td><td>NaN       </td><td>NaN     </td><td>NaN         </td><td>NaN                                                                               </td><td>90.57469327809781</td><td>0.9604375800570097</td><td>0.7854675141620824 </td><td>27.065197912427678    </td><td>27.193349207444403    </td><td>NaN                              </td><td>NaN                              </td><td>12.79329532370842        </td><td>12.598971351031421       </td><td>35.014683552740586</td><td>NaN           </td><td>0.0            </td><td>0.0           </td><td>NaN              </td><td>NaN                </td><td>NaN                </td><td>NaN                </td><td>NaN                </td><td>NaN                </td><td>NaN                </td><td>1.8126969889411606 </td><td>99.9793412431654</td></tr>\n",
       "<tr><td>maxs   </td><td>25554.2           </td><td>1.0                </td><td>25554.2           </td><td>14126.710000000001</td><td>NaN       </td><td>NaN     </td><td>NaN         </td><td>NaN                                                                               </td><td>180.0            </td><td>6.0               </td><td>5.0                </td><td>99.0                  </td><td>99.0                  </td><td>NaN                              </td><td>NaN                              </td><td>23.0                     </td><td>23.0                     </td><td>51.0              </td><td>NaN           </td><td>NaN            </td><td>NaN           </td><td>NaN              </td><td>NaN                </td><td>NaN                </td><td>NaN                </td><td>NaN                </td><td>NaN                </td><td>NaN                </td><td>2.0                </td><td>200.0           </td></tr>\n",
       "<tr><td>sigma  </td><td>1283.4524192530023</td><td>0.3686278770001574 </td><td>1269.1513458975996</td><td>138.3754110250184 </td><td>NaN       </td><td>NaN     </td><td>NaN         </td><td>NaN                                                                               </td><td>51.93724656183912</td><td>0.4326786914063809</td><td>0.46454428580276064</td><td>38.35058235914927     </td><td>39.052926703292705    </td><td>NaN                              </td><td>NaN                              </td><td>5.639100741417713        </td><td>5.724363597489872        </td><td>7.623112844164992 </td><td>NaN           </td><td>-0.0           </td><td>-0.0          </td><td>NaN              </td><td>NaN                </td><td>NaN                </td><td>NaN                </td><td>NaN                </td><td>NaN                </td><td>NaN                </td><td>0.39015459880552256</td><td>57.7446501048326</td></tr>\n",
       "<tr><td>zeros  </td><td>0                 </td><td>7139834            </td><td>0                 </td><td>4966686           </td><td>0         </td><td>0       </td><td>0           </td><td>0                                                                                 </td><td>0                </td><td>965216            </td><td>2027794            </td><td>0                     </td><td>0                     </td><td>0                                </td><td>0                                </td><td>305100                   </td><td>324246                   </td><td>0                 </td><td>0             </td><td>0              </td><td>0             </td><td>0                </td><td>0                  </td><td>0                  </td><td>0                  </td><td>0                  </td><td>0                  </td><td>0                  </td><td>0                  </td><td>21382           </td></tr>\n",
       "<tr><td>missing</td><td>0                 </td><td>0                  </td><td>0                 </td><td>0                 </td><td>0         </td><td>0       </td><td>0           </td><td>0                                                                                 </td><td>0                </td><td>0                 </td><td>0                  </td><td>0                     </td><td>0                     </td><td>0                                </td><td>0                                </td><td>0                        </td><td>0                        </td><td>0                 </td><td>0             </td><td>8522052        </td><td>8522052       </td><td>0                </td><td>0                  </td><td>965216             </td><td>7898422            </td><td>0                  </td><td>2027794            </td><td>8324271            </td><td>0                  </td><td>0               </td></tr>\n",
       "<tr><td>0      </td><td>1357.4            </td><td>0.0                </td><td>1357.4            </td><td>0.0               </td><td>shanghai  </td><td>Auckland</td><td>2017-05-15  </td><td>shanghai-Auckland-0-2017-05-18-4:00pm-11:00pm-8:45am-1:25pm-9:30pm-PR-PR-PR-MF-MF </td><td>3.0              </td><td>2.0               </td><td>1.0                </td><td>7.0                   </td><td>5.0                   </td><td>Philippine Airlines              </td><td>Xiamen Airlines                  </td><td>16.0                     </td><td>13.0                     </td><td>20.0              </td><td>Thursday      </td><td>nan            </td><td>              </td><td>Monday           </td><td>3                  </td><td>3                  </td><td>3                  </td><td>3                  </td><td>3                  </td><td>                   </td><td>1.0                </td><td>188.0           </td></tr>\n",
       "<tr><td>1      </td><td>1291.3            </td><td>0.0                </td><td>1291.3            </td><td>0.0               </td><td>shanghai  </td><td>Auckland</td><td>2017-05-13  </td><td>shanghai-Auckland-0-2017-05-21-7:50pm-11:00pm-11:50am-1:25pm-9:30pm-CI-CI-CI-MF-MF</td><td>8.0              </td><td>2.0               </td><td>1.0                </td><td>9.0                   </td><td>5.0                   </td><td>China Airlines                   </td><td>Xiamen Airlines                  </td><td>19.0                     </td><td>13.0                     </td><td>20.0              </td><td>Sunday        </td><td>nan            </td><td>              </td><td>Saturday         </td><td>3                  </td><td>3                  </td><td>3                  </td><td>3                  </td><td>3                  </td><td>                   </td><td>1.0                </td><td>89.0            </td></tr>\n",
       "<tr><td>2      </td><td>1291.3            </td><td>0.0                </td><td>1291.3            </td><td>0.0               </td><td>shanghai  </td><td>Auckland</td><td>2017-05-15  </td><td>shanghai-Auckland-0-2017-05-21-7:50pm-11:00pm-11:50am-1:25pm-9:30pm-CI-CI-CI-MF-MF</td><td>6.0              </td><td>2.0               </td><td>1.0                </td><td>9.0                   </td><td>5.0                   </td><td>China Airlines                   </td><td>Xiamen Airlines                  </td><td>19.0                     </td><td>13.0                     </td><td>20.0              </td><td>Sunday        </td><td>nan            </td><td>              </td><td>Monday           </td><td>3                  </td><td>3                  </td><td>3                  </td><td>3                  </td><td>3                  </td><td>                   </td><td>1.0                </td><td>135.0           </td></tr>\n",
       "<tr><td>3      </td><td>721.2             </td><td>0.0                </td><td>721.2             </td><td>0.0               </td><td>shanghai  </td><td>Auckland</td><td>2017-05-14  </td><td>shanghai-Auckland-0-2017-05-22-8:20pm-3:50pm-1:25pm-9:30pm-MU-NZ-MF-MF            </td><td>8.0              </td><td>1.0               </td><td>1.0                </td><td>7.0                   </td><td>5.0                   </td><td>                                 </td><td>Xiamen Airlines                  </td><td>20.0                     </td><td>13.0                     </td><td>21.0              </td><td>Monday        </td><td>nan            </td><td>              </td><td>Sunday           </td><td>3                  </td><td>3                  </td><td>                   </td><td>3                  </td><td>3                  </td><td>                   </td><td>1.0                </td><td>160.0           </td></tr>\n",
       "<tr><td>4      </td><td>845.2             </td><td>0.0                </td><td>845.2             </td><td>0.0               </td><td>shanghai  </td><td>Auckland</td><td>2017-05-25  </td><td>shanghai-Auckland-0-2017-05-27-9:10am-4:50pm-1:25pm-9:30pm-MU-HU-MF-MF            </td><td>2.0              </td><td>1.0               </td><td>1.0                </td><td>3.0                   </td><td>5.0                   </td><td>                                 </td><td>Xiamen Airlines                  </td><td>9.0                      </td><td>13.0                     </td><td>21.0              </td><td>Saturday      </td><td>nan            </td><td>              </td><td>Thursday         </td><td>3                  </td><td>3                  </td><td>                   </td><td>3                  </td><td>3                  </td><td>                   </td><td>1.0                </td><td>65.0            </td></tr>\n",
       "<tr><td>5      </td><td>847.6             </td><td>0.0                </td><td>847.6             </td><td>0.0               </td><td>shanghai  </td><td>Auckland</td><td>2017-05-26  </td><td>shanghai-Auckland-0-2017-05-27-9:10am-4:50pm-1:25pm-9:30pm-MU-HU-MF-MF            </td><td>1.0              </td><td>1.0               </td><td>1.0                </td><td>2.0                   </td><td>5.0                   </td><td>                                 </td><td>Xiamen Airlines                  </td><td>9.0                      </td><td>13.0                     </td><td>21.0              </td><td>Saturday      </td><td>nan            </td><td>              </td><td>Friday           </td><td>3                  </td><td>3                  </td><td>                   </td><td>3                  </td><td>3                  </td><td>                   </td><td>1.0                </td><td>103.0           </td></tr>\n",
       "<tr><td>6      </td><td>968.5             </td><td>0.0                </td><td>968.5             </td><td>0.0               </td><td>shanghai  </td><td>Auckland</td><td>2017-06-01  </td><td>shanghai-Auckland-0-2017-06-03-8:30am-2:25pm-1:25pm-9:30pm-MU-CZ-MF-MF            </td><td>2.0              </td><td>1.0               </td><td>1.0                </td><td>9.0                   </td><td>5.0                   </td><td>                                 </td><td>Xiamen Airlines                  </td><td>8.0                      </td><td>13.0                     </td><td>22.0              </td><td>Saturday      </td><td>nan            </td><td>              </td><td>Thursday         </td><td>3                  </td><td>3                  </td><td>                   </td><td>3                  </td><td>3                  </td><td>                   </td><td>1.0                </td><td>92.0            </td></tr>\n",
       "<tr><td>7      </td><td>516.8             </td><td>0.0                </td><td>516.8             </td><td>0.0               </td><td>shanghai  </td><td>Auckland</td><td>2017-05-22  </td><td>shanghai-Auckland-0-2017-06-04-2:50pm-12:30am-1:25pm-9:30pm-CZ-CZ-MF-MF           </td><td>13.0             </td><td>1.0               </td><td>1.0                </td><td>9.0                   </td><td>5.0                   </td><td>China Southern Airlines          </td><td>Xiamen Airlines                  </td><td>14.0                     </td><td>13.0                     </td><td>22.0              </td><td>Sunday        </td><td>nan            </td><td>              </td><td>Monday           </td><td>3                  </td><td>3                  </td><td>                   </td><td>3                  </td><td>3                  </td><td>                   </td><td>1.0                </td><td>161.0           </td></tr>\n",
       "<tr><td>8      </td><td>520.1             </td><td>0.0                </td><td>520.1             </td><td>0.0               </td><td>shanghai  </td><td>Auckland</td><td>2017-05-13  </td><td>shanghai-Auckland-0-2017-06-05-2:50pm-12:30am-1:25pm-9:30pm-CZ-CZ-MF-MF           </td><td>23.0             </td><td>1.0               </td><td>1.0                </td><td>9.0                   </td><td>5.0                   </td><td>China Southern Airlines          </td><td>Xiamen Airlines                  </td><td>14.0                     </td><td>13.0                     </td><td>23.0              </td><td>Monday        </td><td>nan            </td><td>              </td><td>Saturday         </td><td>3                  </td><td>3                  </td><td>                   </td><td>3                  </td><td>3                  </td><td>                   </td><td>1.0                </td><td>167.0           </td></tr>\n",
       "<tr><td>9      </td><td>1088.8            </td><td>0.0                </td><td>1088.8            </td><td>0.0               </td><td>shanghai  </td><td>Auckland</td><td>2017-05-25  </td><td>shanghai-Auckland-0-2017-06-11-1:25pm-12:30am-1:25pm-9:30pm-FM-CZ-MF-MF           </td><td>17.0             </td><td>1.0               </td><td>1.0                </td><td>1.0                   </td><td>5.0                   </td><td>                                 </td><td>Xiamen Airlines                  </td><td>13.0                     </td><td>13.0                     </td><td>23.0              </td><td>Sunday        </td><td>nan            </td><td>              </td><td>Thursday         </td><td>3                  </td><td>3                  </td><td>                   </td><td>3                  </td><td>3                  </td><td>                   </td><td>1.0                </td><td>174.0           </td></tr>\n",
       "</tbody>\n",
       "</table>"
      ]
     },
     "metadata": {},
     "output_type": "display_data"
    }
   ],
   "source": [
    "\n",
    "hf.describe()\n",
    "\n",
    "hf[target] = hf[target].asfactor()\n",
    "\n",
    "# target = targets[0]\n",
    "# target\n",
    "\n",
    "# hf2 = hf[targets + features2]\n",
    "\n",
    "# # hf2[hf2[target] <= 0, target]=0\n",
    "# for target in targets:\n",
    "#     hf2[hf2[target] > 0, target]=1\n",
    "#     hf2[hf2[target] <= 0, target]=0\n",
    "#     hf2[target] = hf2[target].asfactor()\n",
    "# # for target in targets:\n",
    "# #     hf2[hf2[target] <= 0, target]=0\n",
    "\n",
    "# hf2[hf2['Lead Time'] < 0, 'Lead Time']=0\n",
    "# hf2[hf2['Lead Time'] > 366, 'Lead Time']=366\n",
    "# hf2[hf2['Trip Length'] < 0, 'Trip Length']=0\n",
    "# hf2[hf2['Trip Length'] > 366, 'Trip Length']=366\n",
    "# hf2['excess'] = hf2['excess'].asfactor()\n",
    "# hf2[hf2['oldest age'] < 15, 'oldest age']=15\n",
    "# hf2[hf2['oldest age'] >= 90, 'oldest age']=90\n",
    "# hf2[hf2['Traveller Count'] >= 3, 'Traveller Count']=3\n",
    "\n",
    "# df['searchDate'].value_counts()"
   ]
  },
  {
   "cell_type": "code",
   "execution_count": 74,
   "metadata": {},
   "outputs": [
    {
     "data": {
      "text/html": [
       "<table>\n",
       "<thead>\n",
       "<tr><th style=\"text-align: right;\">  price</th><th style=\"text-align: right;\">  priceWillDrop</th><th style=\"text-align: right;\">  futureMinPrice</th><th style=\"text-align: right;\">  saving</th><th>fromCity  </th><th>toCity  </th><th>searchDate  </th><th>routeCombKey                                                                      </th><th style=\"text-align: right;\">  leadTime</th><th style=\"text-align: right;\">  leg1_stops</th><th style=\"text-align: right;\">  leg2_stops</th><th style=\"text-align: right;\">  leg1_noOfTicketsLeft</th><th style=\"text-align: right;\">  leg2_noOfTicketsLeft</th><th>leg1_carrierSummary_airlineName  </th><th>leg2_carrierSummary_airlineName  </th><th style=\"text-align: right;\">  leg1_departureTime_hour</th><th style=\"text-align: right;\">  leg2_departureTime_hour</th><th style=\"text-align: right;\">  depWeekOfYear</th><th>depDayOfWeek  </th><th style=\"text-align: right;\">  retWeekOfYear</th><th>retDayOfWeek  </th><th>searchDayOfWeek  </th><th style=\"text-align: right;\">  leg1_cabinClass_0</th><th style=\"text-align: right;\">  leg1_cabinClass_1</th><th style=\"text-align: right;\">  leg1_cabinClass_2</th><th style=\"text-align: right;\">  leg2_cabinClass_0</th><th style=\"text-align: right;\">  leg2_cabinClass_1</th><th>leg2_cabinClass_2  </th><th style=\"text-align: right;\">  trip</th><th style=\"text-align: right;\">  randVar</th></tr>\n",
       "</thead>\n",
       "<tbody>\n",
       "<tr><td style=\"text-align: right;\"> 1357.4</td><td style=\"text-align: right;\">              0</td><td style=\"text-align: right;\">          1357.4</td><td style=\"text-align: right;\">       0</td><td>shanghai  </td><td>Auckland</td><td>2017-05-15  </td><td>shanghai-Auckland-0-2017-05-18-4:00pm-11:00pm-8:45am-1:25pm-9:30pm-PR-PR-PR-MF-MF </td><td style=\"text-align: right;\">         3</td><td style=\"text-align: right;\">           2</td><td style=\"text-align: right;\">           1</td><td style=\"text-align: right;\">                     7</td><td style=\"text-align: right;\">                     5</td><td>Philippine Airlines              </td><td>Xiamen Airlines                  </td><td style=\"text-align: right;\">                       16</td><td style=\"text-align: right;\">                       13</td><td style=\"text-align: right;\">             20</td><td>Thursday      </td><td style=\"text-align: right;\">            nan</td><td>              </td><td>Monday           </td><td style=\"text-align: right;\">                  3</td><td style=\"text-align: right;\">                  3</td><td style=\"text-align: right;\">                  3</td><td style=\"text-align: right;\">                  3</td><td style=\"text-align: right;\">                  3</td><td>                   </td><td style=\"text-align: right;\">     1</td><td style=\"text-align: right;\">      188</td></tr>\n",
       "<tr><td style=\"text-align: right;\"> 1291.3</td><td style=\"text-align: right;\">              0</td><td style=\"text-align: right;\">          1291.3</td><td style=\"text-align: right;\">       0</td><td>shanghai  </td><td>Auckland</td><td>2017-05-13  </td><td>shanghai-Auckland-0-2017-05-21-7:50pm-11:00pm-11:50am-1:25pm-9:30pm-CI-CI-CI-MF-MF</td><td style=\"text-align: right;\">         8</td><td style=\"text-align: right;\">           2</td><td style=\"text-align: right;\">           1</td><td style=\"text-align: right;\">                     9</td><td style=\"text-align: right;\">                     5</td><td>China Airlines                   </td><td>Xiamen Airlines                  </td><td style=\"text-align: right;\">                       19</td><td style=\"text-align: right;\">                       13</td><td style=\"text-align: right;\">             20</td><td>Sunday        </td><td style=\"text-align: right;\">            nan</td><td>              </td><td>Saturday         </td><td style=\"text-align: right;\">                  3</td><td style=\"text-align: right;\">                  3</td><td style=\"text-align: right;\">                  3</td><td style=\"text-align: right;\">                  3</td><td style=\"text-align: right;\">                  3</td><td>                   </td><td style=\"text-align: right;\">     1</td><td style=\"text-align: right;\">       89</td></tr>\n",
       "<tr><td style=\"text-align: right;\"> 1291.3</td><td style=\"text-align: right;\">              0</td><td style=\"text-align: right;\">          1291.3</td><td style=\"text-align: right;\">       0</td><td>shanghai  </td><td>Auckland</td><td>2017-05-15  </td><td>shanghai-Auckland-0-2017-05-21-7:50pm-11:00pm-11:50am-1:25pm-9:30pm-CI-CI-CI-MF-MF</td><td style=\"text-align: right;\">         6</td><td style=\"text-align: right;\">           2</td><td style=\"text-align: right;\">           1</td><td style=\"text-align: right;\">                     9</td><td style=\"text-align: right;\">                     5</td><td>China Airlines                   </td><td>Xiamen Airlines                  </td><td style=\"text-align: right;\">                       19</td><td style=\"text-align: right;\">                       13</td><td style=\"text-align: right;\">             20</td><td>Sunday        </td><td style=\"text-align: right;\">            nan</td><td>              </td><td>Monday           </td><td style=\"text-align: right;\">                  3</td><td style=\"text-align: right;\">                  3</td><td style=\"text-align: right;\">                  3</td><td style=\"text-align: right;\">                  3</td><td style=\"text-align: right;\">                  3</td><td>                   </td><td style=\"text-align: right;\">     1</td><td style=\"text-align: right;\">      135</td></tr>\n",
       "<tr><td style=\"text-align: right;\">  721.2</td><td style=\"text-align: right;\">              0</td><td style=\"text-align: right;\">           721.2</td><td style=\"text-align: right;\">       0</td><td>shanghai  </td><td>Auckland</td><td>2017-05-14  </td><td>shanghai-Auckland-0-2017-05-22-8:20pm-3:50pm-1:25pm-9:30pm-MU-NZ-MF-MF            </td><td style=\"text-align: right;\">         8</td><td style=\"text-align: right;\">           1</td><td style=\"text-align: right;\">           1</td><td style=\"text-align: right;\">                     7</td><td style=\"text-align: right;\">                     5</td><td>                                 </td><td>Xiamen Airlines                  </td><td style=\"text-align: right;\">                       20</td><td style=\"text-align: right;\">                       13</td><td style=\"text-align: right;\">             21</td><td>Monday        </td><td style=\"text-align: right;\">            nan</td><td>              </td><td>Sunday           </td><td style=\"text-align: right;\">                  3</td><td style=\"text-align: right;\">                  3</td><td style=\"text-align: right;\">                   </td><td style=\"text-align: right;\">                  3</td><td style=\"text-align: right;\">                  3</td><td>                   </td><td style=\"text-align: right;\">     1</td><td style=\"text-align: right;\">      160</td></tr>\n",
       "<tr><td style=\"text-align: right;\">  845.2</td><td style=\"text-align: right;\">              0</td><td style=\"text-align: right;\">           845.2</td><td style=\"text-align: right;\">       0</td><td>shanghai  </td><td>Auckland</td><td>2017-05-25  </td><td>shanghai-Auckland-0-2017-05-27-9:10am-4:50pm-1:25pm-9:30pm-MU-HU-MF-MF            </td><td style=\"text-align: right;\">         2</td><td style=\"text-align: right;\">           1</td><td style=\"text-align: right;\">           1</td><td style=\"text-align: right;\">                     3</td><td style=\"text-align: right;\">                     5</td><td>                                 </td><td>Xiamen Airlines                  </td><td style=\"text-align: right;\">                        9</td><td style=\"text-align: right;\">                       13</td><td style=\"text-align: right;\">             21</td><td>Saturday      </td><td style=\"text-align: right;\">            nan</td><td>              </td><td>Thursday         </td><td style=\"text-align: right;\">                  3</td><td style=\"text-align: right;\">                  3</td><td style=\"text-align: right;\">                   </td><td style=\"text-align: right;\">                  3</td><td style=\"text-align: right;\">                  3</td><td>                   </td><td style=\"text-align: right;\">     1</td><td style=\"text-align: right;\">       65</td></tr>\n",
       "<tr><td style=\"text-align: right;\">  847.6</td><td style=\"text-align: right;\">              0</td><td style=\"text-align: right;\">           847.6</td><td style=\"text-align: right;\">       0</td><td>shanghai  </td><td>Auckland</td><td>2017-05-26  </td><td>shanghai-Auckland-0-2017-05-27-9:10am-4:50pm-1:25pm-9:30pm-MU-HU-MF-MF            </td><td style=\"text-align: right;\">         1</td><td style=\"text-align: right;\">           1</td><td style=\"text-align: right;\">           1</td><td style=\"text-align: right;\">                     2</td><td style=\"text-align: right;\">                     5</td><td>                                 </td><td>Xiamen Airlines                  </td><td style=\"text-align: right;\">                        9</td><td style=\"text-align: right;\">                       13</td><td style=\"text-align: right;\">             21</td><td>Saturday      </td><td style=\"text-align: right;\">            nan</td><td>              </td><td>Friday           </td><td style=\"text-align: right;\">                  3</td><td style=\"text-align: right;\">                  3</td><td style=\"text-align: right;\">                   </td><td style=\"text-align: right;\">                  3</td><td style=\"text-align: right;\">                  3</td><td>                   </td><td style=\"text-align: right;\">     1</td><td style=\"text-align: right;\">      103</td></tr>\n",
       "<tr><td style=\"text-align: right;\">  968.5</td><td style=\"text-align: right;\">              0</td><td style=\"text-align: right;\">           968.5</td><td style=\"text-align: right;\">       0</td><td>shanghai  </td><td>Auckland</td><td>2017-06-01  </td><td>shanghai-Auckland-0-2017-06-03-8:30am-2:25pm-1:25pm-9:30pm-MU-CZ-MF-MF            </td><td style=\"text-align: right;\">         2</td><td style=\"text-align: right;\">           1</td><td style=\"text-align: right;\">           1</td><td style=\"text-align: right;\">                     9</td><td style=\"text-align: right;\">                     5</td><td>                                 </td><td>Xiamen Airlines                  </td><td style=\"text-align: right;\">                        8</td><td style=\"text-align: right;\">                       13</td><td style=\"text-align: right;\">             22</td><td>Saturday      </td><td style=\"text-align: right;\">            nan</td><td>              </td><td>Thursday         </td><td style=\"text-align: right;\">                  3</td><td style=\"text-align: right;\">                  3</td><td style=\"text-align: right;\">                   </td><td style=\"text-align: right;\">                  3</td><td style=\"text-align: right;\">                  3</td><td>                   </td><td style=\"text-align: right;\">     1</td><td style=\"text-align: right;\">       92</td></tr>\n",
       "<tr><td style=\"text-align: right;\">  516.8</td><td style=\"text-align: right;\">              0</td><td style=\"text-align: right;\">           516.8</td><td style=\"text-align: right;\">       0</td><td>shanghai  </td><td>Auckland</td><td>2017-05-22  </td><td>shanghai-Auckland-0-2017-06-04-2:50pm-12:30am-1:25pm-9:30pm-CZ-CZ-MF-MF           </td><td style=\"text-align: right;\">        13</td><td style=\"text-align: right;\">           1</td><td style=\"text-align: right;\">           1</td><td style=\"text-align: right;\">                     9</td><td style=\"text-align: right;\">                     5</td><td>China Southern Airlines          </td><td>Xiamen Airlines                  </td><td style=\"text-align: right;\">                       14</td><td style=\"text-align: right;\">                       13</td><td style=\"text-align: right;\">             22</td><td>Sunday        </td><td style=\"text-align: right;\">            nan</td><td>              </td><td>Monday           </td><td style=\"text-align: right;\">                  3</td><td style=\"text-align: right;\">                  3</td><td style=\"text-align: right;\">                   </td><td style=\"text-align: right;\">                  3</td><td style=\"text-align: right;\">                  3</td><td>                   </td><td style=\"text-align: right;\">     1</td><td style=\"text-align: right;\">      161</td></tr>\n",
       "<tr><td style=\"text-align: right;\">  520.1</td><td style=\"text-align: right;\">              0</td><td style=\"text-align: right;\">           520.1</td><td style=\"text-align: right;\">       0</td><td>shanghai  </td><td>Auckland</td><td>2017-05-13  </td><td>shanghai-Auckland-0-2017-06-05-2:50pm-12:30am-1:25pm-9:30pm-CZ-CZ-MF-MF           </td><td style=\"text-align: right;\">        23</td><td style=\"text-align: right;\">           1</td><td style=\"text-align: right;\">           1</td><td style=\"text-align: right;\">                     9</td><td style=\"text-align: right;\">                     5</td><td>China Southern Airlines          </td><td>Xiamen Airlines                  </td><td style=\"text-align: right;\">                       14</td><td style=\"text-align: right;\">                       13</td><td style=\"text-align: right;\">             23</td><td>Monday        </td><td style=\"text-align: right;\">            nan</td><td>              </td><td>Saturday         </td><td style=\"text-align: right;\">                  3</td><td style=\"text-align: right;\">                  3</td><td style=\"text-align: right;\">                   </td><td style=\"text-align: right;\">                  3</td><td style=\"text-align: right;\">                  3</td><td>                   </td><td style=\"text-align: right;\">     1</td><td style=\"text-align: right;\">      167</td></tr>\n",
       "<tr><td style=\"text-align: right;\"> 1088.8</td><td style=\"text-align: right;\">              0</td><td style=\"text-align: right;\">          1088.8</td><td style=\"text-align: right;\">       0</td><td>shanghai  </td><td>Auckland</td><td>2017-05-25  </td><td>shanghai-Auckland-0-2017-06-11-1:25pm-12:30am-1:25pm-9:30pm-FM-CZ-MF-MF           </td><td style=\"text-align: right;\">        17</td><td style=\"text-align: right;\">           1</td><td style=\"text-align: right;\">           1</td><td style=\"text-align: right;\">                     1</td><td style=\"text-align: right;\">                     5</td><td>                                 </td><td>Xiamen Airlines                  </td><td style=\"text-align: right;\">                       13</td><td style=\"text-align: right;\">                       13</td><td style=\"text-align: right;\">             23</td><td>Sunday        </td><td style=\"text-align: right;\">            nan</td><td>              </td><td>Thursday         </td><td style=\"text-align: right;\">                  3</td><td style=\"text-align: right;\">                  3</td><td style=\"text-align: right;\">                   </td><td style=\"text-align: right;\">                  3</td><td style=\"text-align: right;\">                  3</td><td>                   </td><td style=\"text-align: right;\">     1</td><td style=\"text-align: right;\">      174</td></tr>\n",
       "</tbody>\n",
       "</table>"
      ]
     },
     "metadata": {},
     "output_type": "display_data"
    },
    {
     "data": {
      "text/plain": []
     },
     "execution_count": 74,
     "metadata": {},
     "output_type": "execute_result"
    }
   ],
   "source": [
    "hf"
   ]
  },
  {
   "cell_type": "code",
   "execution_count": 37,
   "metadata": {},
   "outputs": [
    {
     "data": {
      "text/html": [
       "<table>\n",
       "<thead>\n",
       "<tr><th>searchDate  </th></tr>\n",
       "</thead>\n",
       "<tbody>\n",
       "<tr><td>2017-05-25  </td></tr>\n",
       "<tr><td>2017-06-18  </td></tr>\n",
       "<tr><td>2017-05-26  </td></tr>\n",
       "<tr><td>2017-06-18  </td></tr>\n",
       "<tr><td>2017-06-02  </td></tr>\n",
       "<tr><td>2017-06-10  </td></tr>\n",
       "<tr><td>2017-05-24  </td></tr>\n",
       "<tr><td>2017-06-01  </td></tr>\n",
       "<tr><td>2017-06-12  </td></tr>\n",
       "<tr><td>2017-05-20  </td></tr>\n",
       "</tbody>\n",
       "</table>"
      ]
     },
     "metadata": {},
     "output_type": "display_data"
    },
    {
     "data": {
      "text/plain": []
     },
     "execution_count": 37,
     "metadata": {},
     "output_type": "execute_result"
    }
   ],
   "source": [
    "hf['searchDate']"
   ]
  },
  {
   "cell_type": "code",
   "execution_count": 41,
   "metadata": {},
   "outputs": [
    {
     "ename": "TypeError",
     "evalue": "zip_longest argument #5 must support iteration",
     "output_type": "error",
     "traceback": [
      "\u001b[0;31m---------------------------------------------------------------------------\u001b[0m",
      "\u001b[0;31mTypeError\u001b[0m                                 Traceback (most recent call last)",
      "\u001b[0;32m/opt/conda/lib/python3.6/site-packages/IPython/core/formatters.py\u001b[0m in \u001b[0;36m__call__\u001b[0;34m(self, obj)\u001b[0m\n\u001b[1;32m    700\u001b[0m                 \u001b[0mtype_pprinters\u001b[0m\u001b[0;34m=\u001b[0m\u001b[0mself\u001b[0m\u001b[0;34m.\u001b[0m\u001b[0mtype_printers\u001b[0m\u001b[0;34m,\u001b[0m\u001b[0;34m\u001b[0m\u001b[0m\n\u001b[1;32m    701\u001b[0m                 deferred_pprinters=self.deferred_printers)\n\u001b[0;32m--> 702\u001b[0;31m             \u001b[0mprinter\u001b[0m\u001b[0;34m.\u001b[0m\u001b[0mpretty\u001b[0m\u001b[0;34m(\u001b[0m\u001b[0mobj\u001b[0m\u001b[0;34m)\u001b[0m\u001b[0;34m\u001b[0m\u001b[0m\n\u001b[0m\u001b[1;32m    703\u001b[0m             \u001b[0mprinter\u001b[0m\u001b[0;34m.\u001b[0m\u001b[0mflush\u001b[0m\u001b[0;34m(\u001b[0m\u001b[0;34m)\u001b[0m\u001b[0;34m\u001b[0m\u001b[0m\n\u001b[1;32m    704\u001b[0m             \u001b[0;32mreturn\u001b[0m \u001b[0mstream\u001b[0m\u001b[0;34m.\u001b[0m\u001b[0mgetvalue\u001b[0m\u001b[0;34m(\u001b[0m\u001b[0;34m)\u001b[0m\u001b[0;34m\u001b[0m\u001b[0m\n",
      "\u001b[0;32m/opt/conda/lib/python3.6/site-packages/IPython/lib/pretty.py\u001b[0m in \u001b[0;36mpretty\u001b[0;34m(self, obj)\u001b[0m\n\u001b[1;32m    393\u001b[0m                             \u001b[0;32mif\u001b[0m \u001b[0mcallable\u001b[0m\u001b[0;34m(\u001b[0m\u001b[0mmeth\u001b[0m\u001b[0;34m)\u001b[0m\u001b[0;34m:\u001b[0m\u001b[0;34m\u001b[0m\u001b[0m\n\u001b[1;32m    394\u001b[0m                                 \u001b[0;32mreturn\u001b[0m \u001b[0mmeth\u001b[0m\u001b[0;34m(\u001b[0m\u001b[0mobj\u001b[0m\u001b[0;34m,\u001b[0m \u001b[0mself\u001b[0m\u001b[0;34m,\u001b[0m \u001b[0mcycle\u001b[0m\u001b[0;34m)\u001b[0m\u001b[0;34m\u001b[0m\u001b[0m\n\u001b[0;32m--> 395\u001b[0;31m             \u001b[0;32mreturn\u001b[0m \u001b[0m_default_pprint\u001b[0m\u001b[0;34m(\u001b[0m\u001b[0mobj\u001b[0m\u001b[0;34m,\u001b[0m \u001b[0mself\u001b[0m\u001b[0;34m,\u001b[0m \u001b[0mcycle\u001b[0m\u001b[0;34m)\u001b[0m\u001b[0;34m\u001b[0m\u001b[0m\n\u001b[0m\u001b[1;32m    396\u001b[0m         \u001b[0;32mfinally\u001b[0m\u001b[0;34m:\u001b[0m\u001b[0;34m\u001b[0m\u001b[0m\n\u001b[1;32m    397\u001b[0m             \u001b[0mself\u001b[0m\u001b[0;34m.\u001b[0m\u001b[0mend_group\u001b[0m\u001b[0;34m(\u001b[0m\u001b[0;34m)\u001b[0m\u001b[0;34m\u001b[0m\u001b[0m\n",
      "\u001b[0;32m/opt/conda/lib/python3.6/site-packages/IPython/lib/pretty.py\u001b[0m in \u001b[0;36m_default_pprint\u001b[0;34m(obj, p, cycle)\u001b[0m\n\u001b[1;32m    508\u001b[0m     \u001b[0;32mif\u001b[0m \u001b[0m_safe_getattr\u001b[0m\u001b[0;34m(\u001b[0m\u001b[0mklass\u001b[0m\u001b[0;34m,\u001b[0m \u001b[0;34m'__repr__'\u001b[0m\u001b[0;34m,\u001b[0m \u001b[0;32mNone\u001b[0m\u001b[0;34m)\u001b[0m \u001b[0;32mis\u001b[0m \u001b[0;32mnot\u001b[0m \u001b[0mobject\u001b[0m\u001b[0;34m.\u001b[0m\u001b[0m__repr__\u001b[0m\u001b[0;34m:\u001b[0m\u001b[0;34m\u001b[0m\u001b[0m\n\u001b[1;32m    509\u001b[0m         \u001b[0;31m# A user-provided repr. Find newlines and replace them with p.break_()\u001b[0m\u001b[0;34m\u001b[0m\u001b[0;34m\u001b[0m\u001b[0m\n\u001b[0;32m--> 510\u001b[0;31m         \u001b[0m_repr_pprint\u001b[0m\u001b[0;34m(\u001b[0m\u001b[0mobj\u001b[0m\u001b[0;34m,\u001b[0m \u001b[0mp\u001b[0m\u001b[0;34m,\u001b[0m \u001b[0mcycle\u001b[0m\u001b[0;34m)\u001b[0m\u001b[0;34m\u001b[0m\u001b[0m\n\u001b[0m\u001b[1;32m    511\u001b[0m         \u001b[0;32mreturn\u001b[0m\u001b[0;34m\u001b[0m\u001b[0m\n\u001b[1;32m    512\u001b[0m     \u001b[0mp\u001b[0m\u001b[0;34m.\u001b[0m\u001b[0mbegin_group\u001b[0m\u001b[0;34m(\u001b[0m\u001b[0;36m1\u001b[0m\u001b[0;34m,\u001b[0m \u001b[0;34m'<'\u001b[0m\u001b[0;34m)\u001b[0m\u001b[0;34m\u001b[0m\u001b[0m\n",
      "\u001b[0;32m/opt/conda/lib/python3.6/site-packages/IPython/lib/pretty.py\u001b[0m in \u001b[0;36m_repr_pprint\u001b[0;34m(obj, p, cycle)\u001b[0m\n\u001b[1;32m    699\u001b[0m     \u001b[0;34m\"\"\"A pprint that just redirects to the normal repr function.\"\"\"\u001b[0m\u001b[0;34m\u001b[0m\u001b[0m\n\u001b[1;32m    700\u001b[0m     \u001b[0;31m# Find newlines and replace them with p.break_()\u001b[0m\u001b[0;34m\u001b[0m\u001b[0;34m\u001b[0m\u001b[0m\n\u001b[0;32m--> 701\u001b[0;31m     \u001b[0moutput\u001b[0m \u001b[0;34m=\u001b[0m \u001b[0mrepr\u001b[0m\u001b[0;34m(\u001b[0m\u001b[0mobj\u001b[0m\u001b[0;34m)\u001b[0m\u001b[0;34m\u001b[0m\u001b[0m\n\u001b[0m\u001b[1;32m    702\u001b[0m     \u001b[0;32mfor\u001b[0m \u001b[0midx\u001b[0m\u001b[0;34m,\u001b[0m\u001b[0moutput_line\u001b[0m \u001b[0;32min\u001b[0m \u001b[0menumerate\u001b[0m\u001b[0;34m(\u001b[0m\u001b[0moutput\u001b[0m\u001b[0;34m.\u001b[0m\u001b[0msplitlines\u001b[0m\u001b[0;34m(\u001b[0m\u001b[0;34m)\u001b[0m\u001b[0;34m)\u001b[0m\u001b[0;34m:\u001b[0m\u001b[0;34m\u001b[0m\u001b[0m\n\u001b[1;32m    703\u001b[0m         \u001b[0;32mif\u001b[0m \u001b[0midx\u001b[0m\u001b[0;34m:\u001b[0m\u001b[0;34m\u001b[0m\u001b[0m\n",
      "\u001b[0;32m/tmp/spark/work/spark-85bb1714-8dd1-4c68-b071-97b54aeb4789/userFiles-51054e50-cecf-497c-a96a-30d9f5197086/h2o_pysparkling_2.2-2.2.2.zip/h2o/frame.py\u001b[0m in \u001b[0;36m__repr__\u001b[0;34m(self)\u001b[0m\n\u001b[1;32m    400\u001b[0m             \u001b[0mstk\u001b[0m \u001b[0;34m=\u001b[0m \u001b[0mtraceback\u001b[0m\u001b[0;34m.\u001b[0m\u001b[0mextract_stack\u001b[0m\u001b[0;34m(\u001b[0m\u001b[0;34m)\u001b[0m\u001b[0;34m\u001b[0m\u001b[0m\n\u001b[1;32m    401\u001b[0m             \u001b[0;32mif\u001b[0m \u001b[0;32mnot\u001b[0m \u001b[0;34m(\u001b[0m\u001b[0;34m\"IPython\"\u001b[0m \u001b[0;32min\u001b[0m \u001b[0mstk\u001b[0m\u001b[0;34m[\u001b[0m\u001b[0;34m-\u001b[0m\u001b[0;36m2\u001b[0m\u001b[0;34m]\u001b[0m\u001b[0;34m[\u001b[0m\u001b[0;36m0\u001b[0m\u001b[0;34m]\u001b[0m \u001b[0;32mand\u001b[0m \u001b[0;34m\"info\"\u001b[0m \u001b[0;34m==\u001b[0m \u001b[0mstk\u001b[0m\u001b[0;34m[\u001b[0m\u001b[0;34m-\u001b[0m\u001b[0;36m2\u001b[0m\u001b[0;34m]\u001b[0m\u001b[0;34m[\u001b[0m\u001b[0;36m2\u001b[0m\u001b[0;34m]\u001b[0m\u001b[0;34m)\u001b[0m\u001b[0;34m:\u001b[0m\u001b[0;34m\u001b[0m\u001b[0m\n\u001b[0;32m--> 402\u001b[0;31m                 \u001b[0mself\u001b[0m\u001b[0;34m.\u001b[0m\u001b[0mshow\u001b[0m\u001b[0;34m(\u001b[0m\u001b[0;34m)\u001b[0m\u001b[0;34m\u001b[0m\u001b[0m\n\u001b[0m\u001b[1;32m    403\u001b[0m         \u001b[0;32mreturn\u001b[0m \u001b[0;34m\"\"\u001b[0m\u001b[0;34m\u001b[0m\u001b[0m\n\u001b[1;32m    404\u001b[0m \u001b[0;34m\u001b[0m\u001b[0m\n",
      "\u001b[0;32m/tmp/spark/work/spark-85bb1714-8dd1-4c68-b071-97b54aeb4789/userFiles-51054e50-cecf-497c-a96a-30d9f5197086/h2o_pysparkling_2.2-2.2.2.zip/h2o/frame.py\u001b[0m in \u001b[0;36mshow\u001b[0;34m(self, use_pandas)\u001b[0m\n\u001b[1;32m    418\u001b[0m                 \u001b[0mIPython\u001b[0m\u001b[0;34m.\u001b[0m\u001b[0mdisplay\u001b[0m\u001b[0;34m.\u001b[0m\u001b[0mdisplay\u001b[0m\u001b[0;34m(\u001b[0m\u001b[0mself\u001b[0m\u001b[0;34m.\u001b[0m\u001b[0mhead\u001b[0m\u001b[0;34m(\u001b[0m\u001b[0;34m)\u001b[0m\u001b[0;34m.\u001b[0m\u001b[0mas_data_frame\u001b[0m\u001b[0;34m(\u001b[0m\u001b[0mfill_cache\u001b[0m\u001b[0;34m=\u001b[0m\u001b[0;32mTrue\u001b[0m\u001b[0;34m)\u001b[0m\u001b[0;34m)\u001b[0m\u001b[0;34m\u001b[0m\u001b[0m\n\u001b[1;32m    419\u001b[0m             \u001b[0;32melse\u001b[0m\u001b[0;34m:\u001b[0m\u001b[0;34m\u001b[0m\u001b[0m\n\u001b[0;32m--> 420\u001b[0;31m                 \u001b[0mIPython\u001b[0m\u001b[0;34m.\u001b[0m\u001b[0mdisplay\u001b[0m\u001b[0;34m.\u001b[0m\u001b[0mdisplay_html\u001b[0m\u001b[0;34m(\u001b[0m\u001b[0mself\u001b[0m\u001b[0;34m.\u001b[0m\u001b[0m_ex\u001b[0m\u001b[0;34m.\u001b[0m\u001b[0m_cache\u001b[0m\u001b[0;34m.\u001b[0m\u001b[0m_tabulate\u001b[0m\u001b[0;34m(\u001b[0m\u001b[0;34m\"html\"\u001b[0m\u001b[0;34m,\u001b[0m \u001b[0;32mFalse\u001b[0m\u001b[0;34m)\u001b[0m\u001b[0;34m,\u001b[0m \u001b[0mraw\u001b[0m\u001b[0;34m=\u001b[0m\u001b[0;32mTrue\u001b[0m\u001b[0;34m)\u001b[0m\u001b[0;34m\u001b[0m\u001b[0m\n\u001b[0m\u001b[1;32m    421\u001b[0m         \u001b[0;32melse\u001b[0m\u001b[0;34m:\u001b[0m\u001b[0;34m\u001b[0m\u001b[0m\n\u001b[1;32m    422\u001b[0m             \u001b[0;32mif\u001b[0m \u001b[0muse_pandas\u001b[0m \u001b[0;32mand\u001b[0m \u001b[0mcan_use_pandas\u001b[0m\u001b[0;34m(\u001b[0m\u001b[0;34m)\u001b[0m\u001b[0;34m:\u001b[0m\u001b[0;34m\u001b[0m\u001b[0m\n",
      "\u001b[0;32m/tmp/spark/work/spark-85bb1714-8dd1-4c68-b071-97b54aeb4789/userFiles-51054e50-cecf-497c-a96a-30d9f5197086/h2o_pysparkling_2.2-2.2.2.zip/h2o/expr.py\u001b[0m in \u001b[0;36m_tabulate\u001b[0;34m(self, tablefmt, rollups, rows)\u001b[0m\n\u001b[1;32m    384\u001b[0m                 \u001b[0mx\u001b[0m \u001b[0;34m=\u001b[0m \u001b[0;34m[\u001b[0m\u001b[0mv\u001b[0m\u001b[0;34m[\u001b[0m\u001b[0;34m'type'\u001b[0m\u001b[0;34m]\u001b[0m\u001b[0;34m,\u001b[0m \u001b[0mmins\u001b[0m\u001b[0;34m,\u001b[0m \u001b[0mv\u001b[0m\u001b[0;34m[\u001b[0m\u001b[0;34m'mean'\u001b[0m\u001b[0;34m]\u001b[0m\u001b[0;34m,\u001b[0m \u001b[0mmaxs\u001b[0m\u001b[0;34m,\u001b[0m \u001b[0mv\u001b[0m\u001b[0;34m[\u001b[0m\u001b[0;34m'sigma'\u001b[0m\u001b[0;34m]\u001b[0m\u001b[0;34m,\u001b[0m \u001b[0mv\u001b[0m\u001b[0;34m[\u001b[0m\u001b[0;34m'zero_count'\u001b[0m\u001b[0;34m]\u001b[0m\u001b[0;34m,\u001b[0m \u001b[0mv\u001b[0m\u001b[0;34m[\u001b[0m\u001b[0;34m'missing_count'\u001b[0m\u001b[0;34m]\u001b[0m\u001b[0;34m]\u001b[0m \u001b[0;34m+\u001b[0m \u001b[0mx\u001b[0m\u001b[0;34m\u001b[0m\u001b[0m\n\u001b[1;32m    385\u001b[0m             \u001b[0md\u001b[0m\u001b[0;34m[\u001b[0m\u001b[0mk\u001b[0m\u001b[0;34m]\u001b[0m \u001b[0;34m=\u001b[0m \u001b[0mx\u001b[0m  \u001b[0;31m# Insert into ordered-dict\u001b[0m\u001b[0;34m\u001b[0m\u001b[0m\n\u001b[0;32m--> 386\u001b[0;31m         \u001b[0;32mreturn\u001b[0m \u001b[0mtabulate\u001b[0m\u001b[0;34m.\u001b[0m\u001b[0mtabulate\u001b[0m\u001b[0;34m(\u001b[0m\u001b[0md\u001b[0m\u001b[0;34m,\u001b[0m \u001b[0mheaders\u001b[0m\u001b[0;34m=\u001b[0m\u001b[0;34m\"keys\"\u001b[0m\u001b[0;34m,\u001b[0m \u001b[0mtablefmt\u001b[0m\u001b[0;34m=\u001b[0m\u001b[0mtablefmt\u001b[0m\u001b[0;34m)\u001b[0m\u001b[0;34m\u001b[0m\u001b[0m\n\u001b[0m\u001b[1;32m    387\u001b[0m \u001b[0;34m\u001b[0m\u001b[0m\n\u001b[1;32m    388\u001b[0m     \u001b[0;32mdef\u001b[0m \u001b[0mflush\u001b[0m\u001b[0;34m(\u001b[0m\u001b[0mself\u001b[0m\u001b[0;34m)\u001b[0m\u001b[0;34m:\u001b[0m  \u001b[0;31m# flush everything but the frame_id\u001b[0m\u001b[0;34m\u001b[0m\u001b[0m\n",
      "\u001b[0;32m/opt/conda/lib/python3.6/site-packages/tabulate.py\u001b[0m in \u001b[0;36mtabulate\u001b[0;34m(tabular_data, headers, tablefmt, floatfmt, numalign, stralign, missingval, showindex, disable_numparse)\u001b[0m\n\u001b[1;32m   1245\u001b[0m         \u001b[0mtabular_data\u001b[0m \u001b[0;34m=\u001b[0m \u001b[0;34m[\u001b[0m\u001b[0;34m]\u001b[0m\u001b[0;34m\u001b[0m\u001b[0m\n\u001b[1;32m   1246\u001b[0m     list_of_lists, headers = _normalize_tabular_data(\n\u001b[0;32m-> 1247\u001b[0;31m             tabular_data, headers, showindex=showindex)\n\u001b[0m\u001b[1;32m   1248\u001b[0m \u001b[0;34m\u001b[0m\u001b[0m\n\u001b[1;32m   1249\u001b[0m     \u001b[0;31m# empty values in the first column of RST tables should be escaped (issue #82)\u001b[0m\u001b[0;34m\u001b[0m\u001b[0;34m\u001b[0m\u001b[0m\n",
      "\u001b[0;32m/opt/conda/lib/python3.6/site-packages/tabulate.py\u001b[0m in \u001b[0;36m_normalize_tabular_data\u001b[0;34m(tabular_data, headers, showindex)\u001b[0m\n\u001b[1;32m    840\u001b[0m             \u001b[0;31m# likely a conventional dict\u001b[0m\u001b[0;34m\u001b[0m\u001b[0;34m\u001b[0m\u001b[0m\n\u001b[1;32m    841\u001b[0m             \u001b[0mkeys\u001b[0m \u001b[0;34m=\u001b[0m \u001b[0mtabular_data\u001b[0m\u001b[0;34m.\u001b[0m\u001b[0mkeys\u001b[0m\u001b[0;34m(\u001b[0m\u001b[0;34m)\u001b[0m\u001b[0;34m\u001b[0m\u001b[0m\n\u001b[0;32m--> 842\u001b[0;31m             \u001b[0mrows\u001b[0m \u001b[0;34m=\u001b[0m \u001b[0mlist\u001b[0m\u001b[0;34m(\u001b[0m\u001b[0mizip_longest\u001b[0m\u001b[0;34m(\u001b[0m\u001b[0;34m*\u001b[0m\u001b[0mtabular_data\u001b[0m\u001b[0;34m.\u001b[0m\u001b[0mvalues\u001b[0m\u001b[0;34m(\u001b[0m\u001b[0;34m)\u001b[0m\u001b[0;34m)\u001b[0m\u001b[0;34m)\u001b[0m  \u001b[0;31m# columns have to be transposed\u001b[0m\u001b[0;34m\u001b[0m\u001b[0m\n\u001b[0m\u001b[1;32m    843\u001b[0m         \u001b[0;32melif\u001b[0m \u001b[0mhasattr\u001b[0m\u001b[0;34m(\u001b[0m\u001b[0mtabular_data\u001b[0m\u001b[0;34m,\u001b[0m \u001b[0;34m\"index\"\u001b[0m\u001b[0;34m)\u001b[0m\u001b[0;34m:\u001b[0m\u001b[0;34m\u001b[0m\u001b[0m\n\u001b[1;32m    844\u001b[0m             \u001b[0;31m# values is a property, has .index => it's likely a pandas.DataFrame (pandas 0.11.0)\u001b[0m\u001b[0;34m\u001b[0m\u001b[0;34m\u001b[0m\u001b[0m\n",
      "\u001b[0;31mTypeError\u001b[0m: zip_longest argument #5 must support iteration"
     ]
    }
   ],
   "source": [
    "hf[hf['searchDate']<=datetime.datetime(2017, 6, 10, 0, 0, 0), :]"
   ]
  },
  {
   "cell_type": "code",
   "execution_count": 44,
   "metadata": {},
   "outputs": [
    {
     "ename": "H2OServerError",
     "evalue": "HTTP 500 Server Error:\nServer error water.util.DistributedException:\n  Error: DistributedException from f33a7be5b215/172.17.0.2:54321: 'unimplemented: Binary operation '<=' is not supported on String columns.'\n  Request: None\n",
     "output_type": "error",
     "traceback": [
      "\u001b[0;31m---------------------------------------------------------------------------\u001b[0m",
      "\u001b[0;31mH2OServerError\u001b[0m                            Traceback (most recent call last)",
      "\u001b[0;32m/opt/conda/lib/python3.6/site-packages/IPython/core/formatters.py\u001b[0m in \u001b[0;36m__call__\u001b[0;34m(self, obj)\u001b[0m\n\u001b[1;32m    700\u001b[0m                 \u001b[0mtype_pprinters\u001b[0m\u001b[0;34m=\u001b[0m\u001b[0mself\u001b[0m\u001b[0;34m.\u001b[0m\u001b[0mtype_printers\u001b[0m\u001b[0;34m,\u001b[0m\u001b[0;34m\u001b[0m\u001b[0m\n\u001b[1;32m    701\u001b[0m                 deferred_pprinters=self.deferred_printers)\n\u001b[0;32m--> 702\u001b[0;31m             \u001b[0mprinter\u001b[0m\u001b[0;34m.\u001b[0m\u001b[0mpretty\u001b[0m\u001b[0;34m(\u001b[0m\u001b[0mobj\u001b[0m\u001b[0;34m)\u001b[0m\u001b[0;34m\u001b[0m\u001b[0m\n\u001b[0m\u001b[1;32m    703\u001b[0m             \u001b[0mprinter\u001b[0m\u001b[0;34m.\u001b[0m\u001b[0mflush\u001b[0m\u001b[0;34m(\u001b[0m\u001b[0;34m)\u001b[0m\u001b[0;34m\u001b[0m\u001b[0m\n\u001b[1;32m    704\u001b[0m             \u001b[0;32mreturn\u001b[0m \u001b[0mstream\u001b[0m\u001b[0;34m.\u001b[0m\u001b[0mgetvalue\u001b[0m\u001b[0;34m(\u001b[0m\u001b[0;34m)\u001b[0m\u001b[0;34m\u001b[0m\u001b[0m\n",
      "\u001b[0;32m/opt/conda/lib/python3.6/site-packages/IPython/lib/pretty.py\u001b[0m in \u001b[0;36mpretty\u001b[0;34m(self, obj)\u001b[0m\n\u001b[1;32m    393\u001b[0m                             \u001b[0;32mif\u001b[0m \u001b[0mcallable\u001b[0m\u001b[0;34m(\u001b[0m\u001b[0mmeth\u001b[0m\u001b[0;34m)\u001b[0m\u001b[0;34m:\u001b[0m\u001b[0;34m\u001b[0m\u001b[0m\n\u001b[1;32m    394\u001b[0m                                 \u001b[0;32mreturn\u001b[0m \u001b[0mmeth\u001b[0m\u001b[0;34m(\u001b[0m\u001b[0mobj\u001b[0m\u001b[0;34m,\u001b[0m \u001b[0mself\u001b[0m\u001b[0;34m,\u001b[0m \u001b[0mcycle\u001b[0m\u001b[0;34m)\u001b[0m\u001b[0;34m\u001b[0m\u001b[0m\n\u001b[0;32m--> 395\u001b[0;31m             \u001b[0;32mreturn\u001b[0m \u001b[0m_default_pprint\u001b[0m\u001b[0;34m(\u001b[0m\u001b[0mobj\u001b[0m\u001b[0;34m,\u001b[0m \u001b[0mself\u001b[0m\u001b[0;34m,\u001b[0m \u001b[0mcycle\u001b[0m\u001b[0;34m)\u001b[0m\u001b[0;34m\u001b[0m\u001b[0m\n\u001b[0m\u001b[1;32m    396\u001b[0m         \u001b[0;32mfinally\u001b[0m\u001b[0;34m:\u001b[0m\u001b[0;34m\u001b[0m\u001b[0m\n\u001b[1;32m    397\u001b[0m             \u001b[0mself\u001b[0m\u001b[0;34m.\u001b[0m\u001b[0mend_group\u001b[0m\u001b[0;34m(\u001b[0m\u001b[0;34m)\u001b[0m\u001b[0;34m\u001b[0m\u001b[0m\n",
      "\u001b[0;32m/opt/conda/lib/python3.6/site-packages/IPython/lib/pretty.py\u001b[0m in \u001b[0;36m_default_pprint\u001b[0;34m(obj, p, cycle)\u001b[0m\n\u001b[1;32m    508\u001b[0m     \u001b[0;32mif\u001b[0m \u001b[0m_safe_getattr\u001b[0m\u001b[0;34m(\u001b[0m\u001b[0mklass\u001b[0m\u001b[0;34m,\u001b[0m \u001b[0;34m'__repr__'\u001b[0m\u001b[0;34m,\u001b[0m \u001b[0;32mNone\u001b[0m\u001b[0;34m)\u001b[0m \u001b[0;32mis\u001b[0m \u001b[0;32mnot\u001b[0m \u001b[0mobject\u001b[0m\u001b[0;34m.\u001b[0m\u001b[0m__repr__\u001b[0m\u001b[0;34m:\u001b[0m\u001b[0;34m\u001b[0m\u001b[0m\n\u001b[1;32m    509\u001b[0m         \u001b[0;31m# A user-provided repr. Find newlines and replace them with p.break_()\u001b[0m\u001b[0;34m\u001b[0m\u001b[0;34m\u001b[0m\u001b[0m\n\u001b[0;32m--> 510\u001b[0;31m         \u001b[0m_repr_pprint\u001b[0m\u001b[0;34m(\u001b[0m\u001b[0mobj\u001b[0m\u001b[0;34m,\u001b[0m \u001b[0mp\u001b[0m\u001b[0;34m,\u001b[0m \u001b[0mcycle\u001b[0m\u001b[0;34m)\u001b[0m\u001b[0;34m\u001b[0m\u001b[0m\n\u001b[0m\u001b[1;32m    511\u001b[0m         \u001b[0;32mreturn\u001b[0m\u001b[0;34m\u001b[0m\u001b[0m\n\u001b[1;32m    512\u001b[0m     \u001b[0mp\u001b[0m\u001b[0;34m.\u001b[0m\u001b[0mbegin_group\u001b[0m\u001b[0;34m(\u001b[0m\u001b[0;36m1\u001b[0m\u001b[0;34m,\u001b[0m \u001b[0;34m'<'\u001b[0m\u001b[0;34m)\u001b[0m\u001b[0;34m\u001b[0m\u001b[0m\n",
      "\u001b[0;32m/opt/conda/lib/python3.6/site-packages/IPython/lib/pretty.py\u001b[0m in \u001b[0;36m_repr_pprint\u001b[0;34m(obj, p, cycle)\u001b[0m\n\u001b[1;32m    699\u001b[0m     \u001b[0;34m\"\"\"A pprint that just redirects to the normal repr function.\"\"\"\u001b[0m\u001b[0;34m\u001b[0m\u001b[0m\n\u001b[1;32m    700\u001b[0m     \u001b[0;31m# Find newlines and replace them with p.break_()\u001b[0m\u001b[0;34m\u001b[0m\u001b[0;34m\u001b[0m\u001b[0m\n\u001b[0;32m--> 701\u001b[0;31m     \u001b[0moutput\u001b[0m \u001b[0;34m=\u001b[0m \u001b[0mrepr\u001b[0m\u001b[0;34m(\u001b[0m\u001b[0mobj\u001b[0m\u001b[0;34m)\u001b[0m\u001b[0;34m\u001b[0m\u001b[0m\n\u001b[0m\u001b[1;32m    702\u001b[0m     \u001b[0;32mfor\u001b[0m \u001b[0midx\u001b[0m\u001b[0;34m,\u001b[0m\u001b[0moutput_line\u001b[0m \u001b[0;32min\u001b[0m \u001b[0menumerate\u001b[0m\u001b[0;34m(\u001b[0m\u001b[0moutput\u001b[0m\u001b[0;34m.\u001b[0m\u001b[0msplitlines\u001b[0m\u001b[0;34m(\u001b[0m\u001b[0;34m)\u001b[0m\u001b[0;34m)\u001b[0m\u001b[0;34m:\u001b[0m\u001b[0;34m\u001b[0m\u001b[0m\n\u001b[1;32m    703\u001b[0m         \u001b[0;32mif\u001b[0m \u001b[0midx\u001b[0m\u001b[0;34m:\u001b[0m\u001b[0;34m\u001b[0m\u001b[0m\n",
      "\u001b[0;32m/tmp/spark/work/spark-85bb1714-8dd1-4c68-b071-97b54aeb4789/userFiles-51054e50-cecf-497c-a96a-30d9f5197086/h2o_pysparkling_2.2-2.2.2.zip/h2o/frame.py\u001b[0m in \u001b[0;36m__repr__\u001b[0;34m(self)\u001b[0m\n\u001b[1;32m    400\u001b[0m             \u001b[0mstk\u001b[0m \u001b[0;34m=\u001b[0m \u001b[0mtraceback\u001b[0m\u001b[0;34m.\u001b[0m\u001b[0mextract_stack\u001b[0m\u001b[0;34m(\u001b[0m\u001b[0;34m)\u001b[0m\u001b[0;34m\u001b[0m\u001b[0m\n\u001b[1;32m    401\u001b[0m             \u001b[0;32mif\u001b[0m \u001b[0;32mnot\u001b[0m \u001b[0;34m(\u001b[0m\u001b[0;34m\"IPython\"\u001b[0m \u001b[0;32min\u001b[0m \u001b[0mstk\u001b[0m\u001b[0;34m[\u001b[0m\u001b[0;34m-\u001b[0m\u001b[0;36m2\u001b[0m\u001b[0;34m]\u001b[0m\u001b[0;34m[\u001b[0m\u001b[0;36m0\u001b[0m\u001b[0;34m]\u001b[0m \u001b[0;32mand\u001b[0m \u001b[0;34m\"info\"\u001b[0m \u001b[0;34m==\u001b[0m \u001b[0mstk\u001b[0m\u001b[0;34m[\u001b[0m\u001b[0;34m-\u001b[0m\u001b[0;36m2\u001b[0m\u001b[0;34m]\u001b[0m\u001b[0;34m[\u001b[0m\u001b[0;36m2\u001b[0m\u001b[0;34m]\u001b[0m\u001b[0;34m)\u001b[0m\u001b[0;34m:\u001b[0m\u001b[0;34m\u001b[0m\u001b[0m\n\u001b[0;32m--> 402\u001b[0;31m                 \u001b[0mself\u001b[0m\u001b[0;34m.\u001b[0m\u001b[0mshow\u001b[0m\u001b[0;34m(\u001b[0m\u001b[0;34m)\u001b[0m\u001b[0;34m\u001b[0m\u001b[0m\n\u001b[0m\u001b[1;32m    403\u001b[0m         \u001b[0;32mreturn\u001b[0m \u001b[0;34m\"\"\u001b[0m\u001b[0;34m\u001b[0m\u001b[0m\n\u001b[1;32m    404\u001b[0m \u001b[0;34m\u001b[0m\u001b[0m\n",
      "\u001b[0;32m/tmp/spark/work/spark-85bb1714-8dd1-4c68-b071-97b54aeb4789/userFiles-51054e50-cecf-497c-a96a-30d9f5197086/h2o_pysparkling_2.2-2.2.2.zip/h2o/frame.py\u001b[0m in \u001b[0;36mshow\u001b[0;34m(self, use_pandas)\u001b[0m\n\u001b[1;32m    412\u001b[0m             \u001b[0mprint\u001b[0m\u001b[0;34m(\u001b[0m\u001b[0;34m\"This H2OFrame has been removed.\"\u001b[0m\u001b[0;34m)\u001b[0m\u001b[0;34m\u001b[0m\u001b[0m\n\u001b[1;32m    413\u001b[0m             \u001b[0;32mreturn\u001b[0m\u001b[0;34m\u001b[0m\u001b[0m\n\u001b[0;32m--> 414\u001b[0;31m         \u001b[0;32mif\u001b[0m \u001b[0;32mnot\u001b[0m \u001b[0mself\u001b[0m\u001b[0;34m.\u001b[0m\u001b[0m_ex\u001b[0m\u001b[0;34m.\u001b[0m\u001b[0m_cache\u001b[0m\u001b[0;34m.\u001b[0m\u001b[0mis_valid\u001b[0m\u001b[0;34m(\u001b[0m\u001b[0;34m)\u001b[0m\u001b[0;34m:\u001b[0m \u001b[0mself\u001b[0m\u001b[0;34m.\u001b[0m\u001b[0m_frame\u001b[0m\u001b[0;34m(\u001b[0m\u001b[0;34m)\u001b[0m\u001b[0;34m.\u001b[0m\u001b[0m_ex\u001b[0m\u001b[0;34m.\u001b[0m\u001b[0m_cache\u001b[0m\u001b[0;34m.\u001b[0m\u001b[0mfill\u001b[0m\u001b[0;34m(\u001b[0m\u001b[0;34m)\u001b[0m\u001b[0;34m\u001b[0m\u001b[0m\n\u001b[0m\u001b[1;32m    415\u001b[0m         \u001b[0;32mif\u001b[0m \u001b[0mH2ODisplay\u001b[0m\u001b[0;34m.\u001b[0m\u001b[0m_in_ipy\u001b[0m\u001b[0;34m(\u001b[0m\u001b[0;34m)\u001b[0m\u001b[0;34m:\u001b[0m\u001b[0;34m\u001b[0m\u001b[0m\n\u001b[1;32m    416\u001b[0m             \u001b[0;32mimport\u001b[0m \u001b[0mIPython\u001b[0m\u001b[0;34m.\u001b[0m\u001b[0mdisplay\u001b[0m\u001b[0;34m\u001b[0m\u001b[0m\n",
      "\u001b[0;32m/tmp/spark/work/spark-85bb1714-8dd1-4c68-b071-97b54aeb4789/userFiles-51054e50-cecf-497c-a96a-30d9f5197086/h2o_pysparkling_2.2-2.2.2.zip/h2o/frame.py\u001b[0m in \u001b[0;36m_frame\u001b[0;34m(self, rows, fill_cache)\u001b[0m\n\u001b[1;32m    474\u001b[0m \u001b[0;34m\u001b[0m\u001b[0m\n\u001b[1;32m    475\u001b[0m     \u001b[0;32mdef\u001b[0m \u001b[0m_frame\u001b[0m\u001b[0;34m(\u001b[0m\u001b[0mself\u001b[0m\u001b[0;34m,\u001b[0m \u001b[0mrows\u001b[0m\u001b[0;34m=\u001b[0m\u001b[0;36m10\u001b[0m\u001b[0;34m,\u001b[0m \u001b[0mfill_cache\u001b[0m\u001b[0;34m=\u001b[0m\u001b[0;32mFalse\u001b[0m\u001b[0;34m)\u001b[0m\u001b[0;34m:\u001b[0m\u001b[0;34m\u001b[0m\u001b[0m\n\u001b[0;32m--> 476\u001b[0;31m         \u001b[0mself\u001b[0m\u001b[0;34m.\u001b[0m\u001b[0m_ex\u001b[0m\u001b[0;34m.\u001b[0m\u001b[0m_eager_frame\u001b[0m\u001b[0;34m(\u001b[0m\u001b[0;34m)\u001b[0m\u001b[0;34m\u001b[0m\u001b[0m\n\u001b[0m\u001b[1;32m    477\u001b[0m         \u001b[0;32mif\u001b[0m \u001b[0mfill_cache\u001b[0m\u001b[0;34m:\u001b[0m\u001b[0;34m\u001b[0m\u001b[0m\n\u001b[1;32m    478\u001b[0m             \u001b[0mself\u001b[0m\u001b[0;34m.\u001b[0m\u001b[0m_ex\u001b[0m\u001b[0;34m.\u001b[0m\u001b[0m_cache\u001b[0m\u001b[0;34m.\u001b[0m\u001b[0mfill\u001b[0m\u001b[0;34m(\u001b[0m\u001b[0mrows\u001b[0m\u001b[0;34m=\u001b[0m\u001b[0mrows\u001b[0m\u001b[0;34m)\u001b[0m\u001b[0;34m\u001b[0m\u001b[0m\n",
      "\u001b[0;32m/tmp/spark/work/spark-85bb1714-8dd1-4c68-b071-97b54aeb4789/userFiles-51054e50-cecf-497c-a96a-30d9f5197086/h2o_pysparkling_2.2-2.2.2.zip/h2o/expr.py\u001b[0m in \u001b[0;36m_eager_frame\u001b[0;34m(self)\u001b[0m\n\u001b[1;32m     92\u001b[0m         \u001b[0;32mif\u001b[0m \u001b[0;32mnot\u001b[0m \u001b[0mself\u001b[0m\u001b[0;34m.\u001b[0m\u001b[0m_cache\u001b[0m\u001b[0;34m.\u001b[0m\u001b[0mis_empty\u001b[0m\u001b[0;34m(\u001b[0m\u001b[0;34m)\u001b[0m\u001b[0;34m:\u001b[0m \u001b[0;32mreturn\u001b[0m\u001b[0;34m\u001b[0m\u001b[0m\n\u001b[1;32m     93\u001b[0m         \u001b[0;32mif\u001b[0m \u001b[0mself\u001b[0m\u001b[0;34m.\u001b[0m\u001b[0m_cache\u001b[0m\u001b[0;34m.\u001b[0m\u001b[0m_id\u001b[0m \u001b[0;32mis\u001b[0m \u001b[0;32mnot\u001b[0m \u001b[0;32mNone\u001b[0m\u001b[0;34m:\u001b[0m \u001b[0;32mreturn\u001b[0m  \u001b[0;31m# Data already computed under ID, but not cached locally\u001b[0m\u001b[0;34m\u001b[0m\u001b[0m\n\u001b[0;32m---> 94\u001b[0;31m         \u001b[0mself\u001b[0m\u001b[0;34m.\u001b[0m\u001b[0m_eval_driver\u001b[0m\u001b[0;34m(\u001b[0m\u001b[0;32mTrue\u001b[0m\u001b[0;34m)\u001b[0m\u001b[0;34m\u001b[0m\u001b[0m\n\u001b[0m\u001b[1;32m     95\u001b[0m \u001b[0;34m\u001b[0m\u001b[0m\n\u001b[1;32m     96\u001b[0m     \u001b[0;32mdef\u001b[0m \u001b[0m_eager_scalar\u001b[0m\u001b[0;34m(\u001b[0m\u001b[0mself\u001b[0m\u001b[0;34m)\u001b[0m\u001b[0;34m:\u001b[0m  \u001b[0;31m# returns a scalar (or a list of scalars)\u001b[0m\u001b[0;34m\u001b[0m\u001b[0m\n",
      "\u001b[0;32m/tmp/spark/work/spark-85bb1714-8dd1-4c68-b071-97b54aeb4789/userFiles-51054e50-cecf-497c-a96a-30d9f5197086/h2o_pysparkling_2.2-2.2.2.zip/h2o/expr.py\u001b[0m in \u001b[0;36m_eval_driver\u001b[0;34m(self, top)\u001b[0m\n\u001b[1;32m    106\u001b[0m     \u001b[0;32mdef\u001b[0m \u001b[0m_eval_driver\u001b[0m\u001b[0;34m(\u001b[0m\u001b[0mself\u001b[0m\u001b[0;34m,\u001b[0m \u001b[0mtop\u001b[0m\u001b[0;34m)\u001b[0m\u001b[0;34m:\u001b[0m\u001b[0;34m\u001b[0m\u001b[0m\n\u001b[1;32m    107\u001b[0m         \u001b[0mexec_str\u001b[0m \u001b[0;34m=\u001b[0m \u001b[0mself\u001b[0m\u001b[0;34m.\u001b[0m\u001b[0m_get_ast_str\u001b[0m\u001b[0;34m(\u001b[0m\u001b[0mtop\u001b[0m\u001b[0;34m)\u001b[0m\u001b[0;34m\u001b[0m\u001b[0m\n\u001b[0;32m--> 108\u001b[0;31m         \u001b[0mres\u001b[0m \u001b[0;34m=\u001b[0m \u001b[0mExprNode\u001b[0m\u001b[0;34m.\u001b[0m\u001b[0mrapids\u001b[0m\u001b[0;34m(\u001b[0m\u001b[0mexec_str\u001b[0m\u001b[0;34m)\u001b[0m\u001b[0;34m\u001b[0m\u001b[0m\n\u001b[0m\u001b[1;32m    109\u001b[0m         \u001b[0;32mif\u001b[0m \u001b[0;34m'scalar'\u001b[0m \u001b[0;32min\u001b[0m \u001b[0mres\u001b[0m\u001b[0;34m:\u001b[0m\u001b[0;34m\u001b[0m\u001b[0m\n\u001b[1;32m    110\u001b[0m             \u001b[0;32mif\u001b[0m \u001b[0misinstance\u001b[0m\u001b[0;34m(\u001b[0m\u001b[0mres\u001b[0m\u001b[0;34m[\u001b[0m\u001b[0;34m'scalar'\u001b[0m\u001b[0;34m]\u001b[0m\u001b[0;34m,\u001b[0m \u001b[0mlist\u001b[0m\u001b[0;34m)\u001b[0m\u001b[0;34m:\u001b[0m\u001b[0;34m\u001b[0m\u001b[0m\n",
      "\u001b[0;32m/tmp/spark/work/spark-85bb1714-8dd1-4c68-b071-97b54aeb4789/userFiles-51054e50-cecf-497c-a96a-30d9f5197086/h2o_pysparkling_2.2-2.2.2.zip/h2o/expr.py\u001b[0m in \u001b[0;36mrapids\u001b[0;34m(expr)\u001b[0m\n\u001b[1;32m    228\u001b[0m         \u001b[0;34m:\u001b[0m\u001b[0mreturns\u001b[0m\u001b[0;34m:\u001b[0m \u001b[0mThe\u001b[0m \u001b[0mJSON\u001b[0m \u001b[0mresponse\u001b[0m \u001b[0;34m(\u001b[0m\u001b[0;32mas\u001b[0m \u001b[0ma\u001b[0m \u001b[0mpython\u001b[0m \u001b[0mdictionary\u001b[0m\u001b[0;34m)\u001b[0m \u001b[0mof\u001b[0m \u001b[0mthe\u001b[0m \u001b[0mRapids\u001b[0m \u001b[0mexecution\u001b[0m\u001b[0;34m\u001b[0m\u001b[0m\n\u001b[1;32m    229\u001b[0m         \"\"\"\n\u001b[0;32m--> 230\u001b[0;31m         \u001b[0;32mreturn\u001b[0m \u001b[0mh2o\u001b[0m\u001b[0;34m.\u001b[0m\u001b[0mapi\u001b[0m\u001b[0;34m(\u001b[0m\u001b[0;34m\"POST /99/Rapids\"\u001b[0m\u001b[0;34m,\u001b[0m \u001b[0mdata\u001b[0m\u001b[0;34m=\u001b[0m\u001b[0;34m{\u001b[0m\u001b[0;34m\"ast\"\u001b[0m\u001b[0;34m:\u001b[0m \u001b[0mexpr\u001b[0m\u001b[0;34m,\u001b[0m \u001b[0;34m\"session_id\"\u001b[0m\u001b[0;34m:\u001b[0m \u001b[0mh2o\u001b[0m\u001b[0;34m.\u001b[0m\u001b[0mconnection\u001b[0m\u001b[0;34m(\u001b[0m\u001b[0;34m)\u001b[0m\u001b[0;34m.\u001b[0m\u001b[0msession_id\u001b[0m\u001b[0;34m}\u001b[0m\u001b[0;34m)\u001b[0m\u001b[0;34m\u001b[0m\u001b[0m\n\u001b[0m\u001b[1;32m    231\u001b[0m \u001b[0;34m\u001b[0m\u001b[0m\n\u001b[1;32m    232\u001b[0m \u001b[0;34m\u001b[0m\u001b[0m\n",
      "\u001b[0;32m/tmp/spark/work/spark-85bb1714-8dd1-4c68-b071-97b54aeb4789/userFiles-51054e50-cecf-497c-a96a-30d9f5197086/h2o_pysparkling_2.2-2.2.2.zip/h2o/h2o.py\u001b[0m in \u001b[0;36mapi\u001b[0;34m(endpoint, data, json, filename, save_to)\u001b[0m\n\u001b[1;32m    101\u001b[0m     \u001b[0;31m# type checks are performed in H2OConnection class\u001b[0m\u001b[0;34m\u001b[0m\u001b[0;34m\u001b[0m\u001b[0m\n\u001b[1;32m    102\u001b[0m     \u001b[0m_check_connection\u001b[0m\u001b[0;34m(\u001b[0m\u001b[0;34m)\u001b[0m\u001b[0;34m\u001b[0m\u001b[0m\n\u001b[0;32m--> 103\u001b[0;31m     \u001b[0;32mreturn\u001b[0m \u001b[0mh2oconn\u001b[0m\u001b[0;34m.\u001b[0m\u001b[0mrequest\u001b[0m\u001b[0;34m(\u001b[0m\u001b[0mendpoint\u001b[0m\u001b[0;34m,\u001b[0m \u001b[0mdata\u001b[0m\u001b[0;34m=\u001b[0m\u001b[0mdata\u001b[0m\u001b[0;34m,\u001b[0m \u001b[0mjson\u001b[0m\u001b[0;34m=\u001b[0m\u001b[0mjson\u001b[0m\u001b[0;34m,\u001b[0m \u001b[0mfilename\u001b[0m\u001b[0;34m=\u001b[0m\u001b[0mfilename\u001b[0m\u001b[0;34m,\u001b[0m \u001b[0msave_to\u001b[0m\u001b[0;34m=\u001b[0m\u001b[0msave_to\u001b[0m\u001b[0;34m)\u001b[0m\u001b[0;34m\u001b[0m\u001b[0m\n\u001b[0m\u001b[1;32m    104\u001b[0m \u001b[0;34m\u001b[0m\u001b[0m\n\u001b[1;32m    105\u001b[0m \u001b[0;34m\u001b[0m\u001b[0m\n",
      "\u001b[0;32m/tmp/spark/work/spark-85bb1714-8dd1-4c68-b071-97b54aeb4789/userFiles-51054e50-cecf-497c-a96a-30d9f5197086/h2o_pysparkling_2.2-2.2.2.zip/h2o/backend/connection.py\u001b[0m in \u001b[0;36mrequest\u001b[0;34m(self, endpoint, data, json, filename, save_to)\u001b[0m\n\u001b[1;32m    400\u001b[0m                                     auth=self._auth, verify=self._verify_ssl_cert, proxies=self._proxies)\n\u001b[1;32m    401\u001b[0m             \u001b[0mself\u001b[0m\u001b[0;34m.\u001b[0m\u001b[0m_log_end_transaction\u001b[0m\u001b[0;34m(\u001b[0m\u001b[0mstart_time\u001b[0m\u001b[0;34m,\u001b[0m \u001b[0mresp\u001b[0m\u001b[0;34m)\u001b[0m\u001b[0;34m\u001b[0m\u001b[0m\n\u001b[0;32m--> 402\u001b[0;31m             \u001b[0;32mreturn\u001b[0m \u001b[0mself\u001b[0m\u001b[0;34m.\u001b[0m\u001b[0m_process_response\u001b[0m\u001b[0;34m(\u001b[0m\u001b[0mresp\u001b[0m\u001b[0;34m,\u001b[0m \u001b[0msave_to\u001b[0m\u001b[0;34m)\u001b[0m\u001b[0;34m\u001b[0m\u001b[0m\n\u001b[0m\u001b[1;32m    403\u001b[0m \u001b[0;34m\u001b[0m\u001b[0m\n\u001b[1;32m    404\u001b[0m         \u001b[0;32mexcept\u001b[0m \u001b[0;34m(\u001b[0m\u001b[0mrequests\u001b[0m\u001b[0;34m.\u001b[0m\u001b[0mexceptions\u001b[0m\u001b[0;34m.\u001b[0m\u001b[0mConnectionError\u001b[0m\u001b[0;34m,\u001b[0m \u001b[0mrequests\u001b[0m\u001b[0;34m.\u001b[0m\u001b[0mexceptions\u001b[0m\u001b[0;34m.\u001b[0m\u001b[0mHTTPError\u001b[0m\u001b[0;34m)\u001b[0m \u001b[0;32mas\u001b[0m \u001b[0me\u001b[0m\u001b[0;34m:\u001b[0m\u001b[0;34m\u001b[0m\u001b[0m\n",
      "\u001b[0;32m/tmp/spark/work/spark-85bb1714-8dd1-4c68-b071-97b54aeb4789/userFiles-51054e50-cecf-497c-a96a-30d9f5197086/h2o_pysparkling_2.2-2.2.2.zip/h2o/backend/connection.py\u001b[0m in \u001b[0;36m_process_response\u001b[0;34m(response, save_to)\u001b[0m\n\u001b[1;32m    728\u001b[0m         \u001b[0;31m# Note that it is possible to receive valid H2OErrorV3 object in this case, however it merely means the server\u001b[0m\u001b[0;34m\u001b[0m\u001b[0;34m\u001b[0m\u001b[0m\n\u001b[1;32m    729\u001b[0m         \u001b[0;31m# did not provide the correct status code.\u001b[0m\u001b[0;34m\u001b[0m\u001b[0;34m\u001b[0m\u001b[0m\n\u001b[0;32m--> 730\u001b[0;31m         \u001b[0;32mraise\u001b[0m \u001b[0mH2OServerError\u001b[0m\u001b[0;34m(\u001b[0m\u001b[0;34m\"HTTP %d %s:\\n%r\"\u001b[0m \u001b[0;34m%\u001b[0m \u001b[0;34m(\u001b[0m\u001b[0mstatus_code\u001b[0m\u001b[0;34m,\u001b[0m \u001b[0mresponse\u001b[0m\u001b[0;34m.\u001b[0m\u001b[0mreason\u001b[0m\u001b[0;34m,\u001b[0m \u001b[0mdata\u001b[0m\u001b[0;34m)\u001b[0m\u001b[0;34m)\u001b[0m\u001b[0;34m\u001b[0m\u001b[0m\n\u001b[0m\u001b[1;32m    731\u001b[0m \u001b[0;34m\u001b[0m\u001b[0m\n\u001b[1;32m    732\u001b[0m \u001b[0;34m\u001b[0m\u001b[0m\n",
      "\u001b[0;31mH2OServerError\u001b[0m: HTTP 500 Server Error:\nServer error water.util.DistributedException:\n  Error: DistributedException from f33a7be5b215/172.17.0.2:54321: 'unimplemented: Binary operation '<=' is not supported on String columns.'\n  Request: None\n"
     ]
    }
   ],
   "source": [
    "hf[hf['searchDate']<=\"2017-06-19\", :]"
   ]
  },
  {
   "cell_type": "code",
   "execution_count": 36,
   "metadata": {},
   "outputs": [
    {
     "data": {
      "text/plain": [
       "((0, 30), (0, 30))"
      ]
     },
     "execution_count": 36,
     "metadata": {},
     "output_type": "execute_result"
    }
   ],
   "source": [
    "import datetime\n",
    "\n",
    "train=hf[hf['searchDate']<=datetime.datetime(2017, 6, 19, 0, 0, 0), :]\n",
    "valid=hf[(hf['searchDate']>datetime.datetime(2017, 6, 19, 0, 0, 0)) & \n",
    "         (hf['searchDate']<=datetime.datetime(2017, 6, 21, 0, 0, 0)), :]\n",
    "test=hf[hf['searchDate']>datetime.datetime(2017, 6, 21, 0, 0, 0), :]\n",
    "\n",
    "train.shape, test.shape\n",
    "# train.nrow, valid.nrow, test.nrow\n",
    "# splits = hf.split_frame(ratios=[0.7, 0.15], seed=1)  \n",
    "\n",
    "# train = splits[0]\n",
    "# valid = splits[1]\n",
    "# test = splits[2]\n",
    "\n",
    "# gbm_regressor.train(x=features, y=targets[0], training_frame=train)\n",
    "\n",
    "# gbm_regressor.model_performance(test)"
   ]
  },
  {
   "cell_type": "code",
   "execution_count": 43,
   "metadata": {},
   "outputs": [
    {
     "data": {
      "text/html": [
       "<table>\n",
       "<thead>\n",
       "<tr><th style=\"text-align: right;\">  price</th><th style=\"text-align: right;\">  priceWillDrop</th><th style=\"text-align: right;\">  futureMinPrice</th><th style=\"text-align: right;\">  saving</th><th>fromCity  </th><th>toCity  </th><th>searchDate  </th><th>routeCombKey                                                           </th><th style=\"text-align: right;\">  leadTime</th><th style=\"text-align: right;\">  leg1_stops</th><th style=\"text-align: right;\">  leg2_stops</th><th style=\"text-align: right;\">  leg1_noOfTicketsLeft</th><th style=\"text-align: right;\">  leg2_noOfTicketsLeft</th><th>leg1_carrierSummary_airlineName  </th><th>leg2_carrierSummary_airlineName  </th><th style=\"text-align: right;\">  leg1_departureTime_hour</th><th style=\"text-align: right;\">  leg2_departureTime_hour</th><th style=\"text-align: right;\">  depWeekOfYear</th><th>depDayOfWeek  </th><th style=\"text-align: right;\">  retWeekOfYear</th><th>retDayOfWeek  </th><th>searchDayOfWeek  </th><th style=\"text-align: right;\">  leg1_cabinClass_0</th><th style=\"text-align: right;\">  leg1_cabinClass_1</th><th>leg1_cabinClass_2  </th><th style=\"text-align: right;\">  leg2_cabinClass_0</th><th style=\"text-align: right;\">  leg2_cabinClass_1</th><th>leg2_cabinClass_2  </th><th style=\"text-align: right;\">  trip</th><th style=\"text-align: right;\">  randVar</th></tr>\n",
       "</thead>\n",
       "<tbody>\n",
       "<tr><td style=\"text-align: right;\"> 1088.8</td><td style=\"text-align: right;\">              0</td><td style=\"text-align: right;\">          1088.8</td><td style=\"text-align: right;\">     0  </td><td>shanghai  </td><td>Auckland</td><td>2017-05-25  </td><td>shanghai-Auckland-0-2017-06-11-1:25pm-12:30am-1:25pm-9:30pm-FM-CZ-MF-MF</td><td style=\"text-align: right;\">        17</td><td style=\"text-align: right;\">           1</td><td style=\"text-align: right;\">           1</td><td style=\"text-align: right;\">                     1</td><td style=\"text-align: right;\">                     5</td><td>                                 </td><td>Xiamen Airlines                  </td><td style=\"text-align: right;\">                       13</td><td style=\"text-align: right;\">                       13</td><td style=\"text-align: right;\">             23</td><td>Sunday        </td><td style=\"text-align: right;\">            nan</td><td>              </td><td>Thursday         </td><td style=\"text-align: right;\">                  3</td><td style=\"text-align: right;\">                  3</td><td>                   </td><td style=\"text-align: right;\">                  3</td><td style=\"text-align: right;\">                  3</td><td>                   </td><td style=\"text-align: right;\">     1</td><td style=\"text-align: right;\">      101</td></tr>\n",
       "<tr><td style=\"text-align: right;\"> 1348.1</td><td style=\"text-align: right;\">              0</td><td style=\"text-align: right;\">          1348.1</td><td style=\"text-align: right;\">     0  </td><td>shanghai  </td><td>Auckland</td><td>2017-06-18  </td><td>shanghai-Auckland-0-2017-07-01-7:30am-6:45pm-1:25pm-9:30pm-TG-TG-MF-MF </td><td style=\"text-align: right;\">        13</td><td style=\"text-align: right;\">           1</td><td style=\"text-align: right;\">           1</td><td style=\"text-align: right;\">                     2</td><td style=\"text-align: right;\">                     5</td><td>Thai Airways International       </td><td>Xiamen Airlines                  </td><td style=\"text-align: right;\">                        7</td><td style=\"text-align: right;\">                       13</td><td style=\"text-align: right;\">             26</td><td>Saturday      </td><td style=\"text-align: right;\">            nan</td><td>              </td><td>Sunday           </td><td style=\"text-align: right;\">                  3</td><td style=\"text-align: right;\">                  3</td><td>                   </td><td style=\"text-align: right;\">                  3</td><td style=\"text-align: right;\">                  3</td><td>                   </td><td style=\"text-align: right;\">     1</td><td style=\"text-align: right;\">       56</td></tr>\n",
       "<tr><td style=\"text-align: right;\">  975.1</td><td style=\"text-align: right;\">              0</td><td style=\"text-align: right;\">           975.1</td><td style=\"text-align: right;\">     0  </td><td>shanghai  </td><td>Auckland</td><td>2017-05-26  </td><td>shanghai-Auckland-0-2017-07-06-7:30am-6:45pm-1:25pm-9:30pm-TG-TG-MF-MF </td><td style=\"text-align: right;\">        41</td><td style=\"text-align: right;\">           1</td><td style=\"text-align: right;\">           1</td><td style=\"text-align: right;\">                     1</td><td style=\"text-align: right;\">                     5</td><td>Thai Airways International       </td><td>Xiamen Airlines                  </td><td style=\"text-align: right;\">                        7</td><td style=\"text-align: right;\">                       13</td><td style=\"text-align: right;\">             27</td><td>Thursday      </td><td style=\"text-align: right;\">            nan</td><td>              </td><td>Friday           </td><td style=\"text-align: right;\">                  3</td><td style=\"text-align: right;\">                  3</td><td>                   </td><td style=\"text-align: right;\">                  3</td><td style=\"text-align: right;\">                  3</td><td>                   </td><td style=\"text-align: right;\">     1</td><td style=\"text-align: right;\">        5</td></tr>\n",
       "<tr><td style=\"text-align: right;\"> 1013  </td><td style=\"text-align: right;\">              0</td><td style=\"text-align: right;\">          1013  </td><td style=\"text-align: right;\">     0  </td><td>shanghai  </td><td>Auckland</td><td>2017-06-18  </td><td>shanghai-Auckland-0-2017-07-06-8:05pm-3:00pm-1:25pm-9:30pm-MU-NZ-MF-MF </td><td style=\"text-align: right;\">        18</td><td style=\"text-align: right;\">           1</td><td style=\"text-align: right;\">           1</td><td style=\"text-align: right;\">                     7</td><td style=\"text-align: right;\">                     5</td><td>                                 </td><td>Xiamen Airlines                  </td><td style=\"text-align: right;\">                       20</td><td style=\"text-align: right;\">                       13</td><td style=\"text-align: right;\">             27</td><td>Thursday      </td><td style=\"text-align: right;\">            nan</td><td>              </td><td>Sunday           </td><td style=\"text-align: right;\">                  3</td><td style=\"text-align: right;\">                  3</td><td>                   </td><td style=\"text-align: right;\">                  3</td><td style=\"text-align: right;\">                  3</td><td>                   </td><td style=\"text-align: right;\">     1</td><td style=\"text-align: right;\">       45</td></tr>\n",
       "<tr><td style=\"text-align: right;\"> 1118.9</td><td style=\"text-align: right;\">              1</td><td style=\"text-align: right;\">           959.6</td><td style=\"text-align: right;\">   159.3</td><td>shanghai  </td><td>Auckland</td><td>2017-06-02  </td><td>shanghai-Auckland-0-2017-07-31-8:20pm-3:50pm-1:25pm-9:30pm-MU-NZ-MF-MF </td><td style=\"text-align: right;\">        59</td><td style=\"text-align: right;\">           1</td><td style=\"text-align: right;\">           1</td><td style=\"text-align: right;\">                     7</td><td style=\"text-align: right;\">                     5</td><td>                                 </td><td>Xiamen Airlines                  </td><td style=\"text-align: right;\">                       20</td><td style=\"text-align: right;\">                       13</td><td style=\"text-align: right;\">             31</td><td>Monday        </td><td style=\"text-align: right;\">            nan</td><td>              </td><td>Friday           </td><td style=\"text-align: right;\">                  3</td><td style=\"text-align: right;\">                  3</td><td>                   </td><td style=\"text-align: right;\">                  3</td><td style=\"text-align: right;\">                  3</td><td>                   </td><td style=\"text-align: right;\">     1</td><td style=\"text-align: right;\">      193</td></tr>\n",
       "<tr><td style=\"text-align: right;\">  959.6</td><td style=\"text-align: right;\">              0</td><td style=\"text-align: right;\">           959.6</td><td style=\"text-align: right;\">     0  </td><td>shanghai  </td><td>Auckland</td><td>2017-06-10  </td><td>shanghai-Auckland-0-2017-07-31-8:20pm-3:50pm-1:25pm-9:30pm-MU-NZ-MF-MF </td><td style=\"text-align: right;\">        51</td><td style=\"text-align: right;\">           1</td><td style=\"text-align: right;\">           1</td><td style=\"text-align: right;\">                     7</td><td style=\"text-align: right;\">                     5</td><td>                                 </td><td>Xiamen Airlines                  </td><td style=\"text-align: right;\">                       20</td><td style=\"text-align: right;\">                       13</td><td style=\"text-align: right;\">             31</td><td>Monday        </td><td style=\"text-align: right;\">            nan</td><td>              </td><td>Saturday         </td><td style=\"text-align: right;\">                  3</td><td style=\"text-align: right;\">                  3</td><td>                   </td><td style=\"text-align: right;\">                  3</td><td style=\"text-align: right;\">                  3</td><td>                   </td><td style=\"text-align: right;\">     1</td><td style=\"text-align: right;\">       83</td></tr>\n",
       "<tr><td style=\"text-align: right;\"> 2997.7</td><td style=\"text-align: right;\">              1</td><td style=\"text-align: right;\">          2653.4</td><td style=\"text-align: right;\">   344.3</td><td>shanghai  </td><td>Auckland</td><td>2017-05-24  </td><td>shanghai-Auckland-0-2017-07-31-8:50am-4:50pm-1:25pm-9:30pm-MU-KE-MF-MF </td><td style=\"text-align: right;\">        68</td><td style=\"text-align: right;\">           1</td><td style=\"text-align: right;\">           1</td><td style=\"text-align: right;\">                     9</td><td style=\"text-align: right;\">                     5</td><td>                                 </td><td>Xiamen Airlines                  </td><td style=\"text-align: right;\">                        8</td><td style=\"text-align: right;\">                       13</td><td style=\"text-align: right;\">             31</td><td>Monday        </td><td style=\"text-align: right;\">            nan</td><td>              </td><td>Wednesday        </td><td style=\"text-align: right;\">                  3</td><td style=\"text-align: right;\">                  2</td><td>                   </td><td style=\"text-align: right;\">                  3</td><td style=\"text-align: right;\">                  3</td><td>                   </td><td style=\"text-align: right;\">     1</td><td style=\"text-align: right;\">        9</td></tr>\n",
       "<tr><td style=\"text-align: right;\"> 2663.8</td><td style=\"text-align: right;\">              0</td><td style=\"text-align: right;\">          2653.4</td><td style=\"text-align: right;\">    10.4</td><td>shanghai  </td><td>Auckland</td><td>2017-06-01  </td><td>shanghai-Auckland-0-2017-07-31-8:50am-4:50pm-1:25pm-9:30pm-MU-KE-MF-MF </td><td style=\"text-align: right;\">        60</td><td style=\"text-align: right;\">           1</td><td style=\"text-align: right;\">           1</td><td style=\"text-align: right;\">                     9</td><td style=\"text-align: right;\">                     5</td><td>                                 </td><td>Xiamen Airlines                  </td><td style=\"text-align: right;\">                        8</td><td style=\"text-align: right;\">                       13</td><td style=\"text-align: right;\">             31</td><td>Monday        </td><td style=\"text-align: right;\">            nan</td><td>              </td><td>Thursday         </td><td style=\"text-align: right;\">                  3</td><td style=\"text-align: right;\">                  3</td><td>                   </td><td style=\"text-align: right;\">                  3</td><td style=\"text-align: right;\">                  3</td><td>                   </td><td style=\"text-align: right;\">     1</td><td style=\"text-align: right;\">      129</td></tr>\n",
       "<tr><td style=\"text-align: right;\"> 2653.4</td><td style=\"text-align: right;\">              0</td><td style=\"text-align: right;\">          2653.4</td><td style=\"text-align: right;\">     0  </td><td>shanghai  </td><td>Auckland</td><td>2017-06-12  </td><td>shanghai-Auckland-0-2017-07-31-8:50am-4:50pm-1:25pm-9:30pm-MU-KE-MF-MF </td><td style=\"text-align: right;\">        49</td><td style=\"text-align: right;\">           1</td><td style=\"text-align: right;\">           1</td><td style=\"text-align: right;\">                     6</td><td style=\"text-align: right;\">                     5</td><td>                                 </td><td>Xiamen Airlines                  </td><td style=\"text-align: right;\">                        8</td><td style=\"text-align: right;\">                       13</td><td style=\"text-align: right;\">             31</td><td>Monday        </td><td style=\"text-align: right;\">            nan</td><td>              </td><td>Monday           </td><td style=\"text-align: right;\">                  3</td><td style=\"text-align: right;\">                  3</td><td>                   </td><td style=\"text-align: right;\">                  3</td><td style=\"text-align: right;\">                  3</td><td>                   </td><td style=\"text-align: right;\">     1</td><td style=\"text-align: right;\">      113</td></tr>\n",
       "<tr><td style=\"text-align: right;\">  953.2</td><td style=\"text-align: right;\">              0</td><td style=\"text-align: right;\">           953.2</td><td style=\"text-align: right;\">     0  </td><td>shanghai  </td><td>Auckland</td><td>2017-05-20  </td><td>shanghai-Auckland-0-2017-08-11-2:55pm-1:05am-1:25pm-9:30pm-CA-CA-MF-MF </td><td style=\"text-align: right;\">        83</td><td style=\"text-align: right;\">           1</td><td style=\"text-align: right;\">           1</td><td style=\"text-align: right;\">                     9</td><td style=\"text-align: right;\">                     5</td><td>Air China                        </td><td>Xiamen Airlines                  </td><td style=\"text-align: right;\">                       14</td><td style=\"text-align: right;\">                       13</td><td style=\"text-align: right;\">             32</td><td>Friday        </td><td style=\"text-align: right;\">            nan</td><td>              </td><td>Saturday         </td><td style=\"text-align: right;\">                  3</td><td style=\"text-align: right;\">                  3</td><td>                   </td><td style=\"text-align: right;\">                  3</td><td style=\"text-align: right;\">                  3</td><td>                   </td><td style=\"text-align: right;\">     1</td><td style=\"text-align: right;\">      172</td></tr>\n",
       "</tbody>\n",
       "</table>"
      ]
     },
     "metadata": {},
     "output_type": "display_data"
    },
    {
     "data": {
      "text/plain": []
     },
     "execution_count": 43,
     "metadata": {},
     "output_type": "execute_result"
    }
   ],
   "source": [
    "hf.head()"
   ]
  },
  {
   "cell_type": "code",
   "execution_count": 42,
   "metadata": {},
   "outputs": [
    {
     "name": "stdout",
     "output_type": "stream",
     "text": [
      "Rows:852913\n",
      "Cols:30\n",
      "\n",
      "\n"
     ]
    },
    {
     "data": {
      "text/html": [
       "<table>\n",
       "<thead>\n",
       "<tr><th>       </th><th>price             </th><th>priceWillDrop  </th><th>futureMinPrice    </th><th>saving            </th><th>fromCity  </th><th>toCity  </th><th>searchDate  </th><th>routeCombKey                                                           </th><th>leadTime         </th><th>leg1_stops        </th><th>leg2_stops        </th><th>leg1_noOfTicketsLeft  </th><th>leg2_noOfTicketsLeft  </th><th>leg1_carrierSummary_airlineName  </th><th>leg2_carrierSummary_airlineName  </th><th>leg1_departureTime_hour  </th><th>leg2_departureTime_hour  </th><th>depWeekOfYear    </th><th>depDayOfWeek  </th><th>retWeekOfYear  </th><th>retDayOfWeek  </th><th>searchDayOfWeek  </th><th>leg1_cabinClass_0  </th><th>leg1_cabinClass_1  </th><th>leg1_cabinClass_2  </th><th>leg2_cabinClass_0  </th><th>leg2_cabinClass_1  </th><th>leg2_cabinClass_2  </th><th>trip              </th><th>randVar           </th></tr>\n",
       "</thead>\n",
       "<tbody>\n",
       "<tr><td>type   </td><td>real              </td><td>enum           </td><td>real              </td><td>real              </td><td>string    </td><td>string  </td><td>string      </td><td>string                                                                 </td><td>int              </td><td>int               </td><td>int               </td><td>int                   </td><td>int                   </td><td>string                           </td><td>string                           </td><td>int                      </td><td>int                      </td><td>int              </td><td>string        </td><td>int            </td><td>string        </td><td>string           </td><td>string             </td><td>string             </td><td>string             </td><td>string             </td><td>string             </td><td>string             </td><td>int               </td><td>int               </td></tr>\n",
       "<tr><td>mins   </td><td>98.08000000000001 </td><td>               </td><td>98.08000000000001 </td><td>0.0               </td><td>NaN       </td><td>NaN     </td><td>NaN         </td><td>NaN                                                                    </td><td>1.0              </td><td>0.0               </td><td>0.0               </td><td>1.0                   </td><td>1.0                   </td><td>NaN                              </td><td>NaN                              </td><td>0.0                      </td><td>0.0                      </td><td>19.0             </td><td>NaN           </td><td>NaN            </td><td>NaN           </td><td>NaN              </td><td>NaN                </td><td>NaN                </td><td>NaN                </td><td>NaN                </td><td>NaN                </td><td>NaN                </td><td>1.0               </td><td>0.0               </td></tr>\n",
       "<tr><td>mean   </td><td>1415.1250270777914</td><td>               </td><td>1411.257978984961 </td><td>3.867048092830101 </td><td>NaN       </td><td>NaN     </td><td>NaN         </td><td>NaN                                                                    </td><td>90.65854665129972</td><td>0.9611261640988005</td><td>0.7850824175502074</td><td>27.044188563194606    </td><td>27.17628175441106     </td><td>NaN                              </td><td>NaN                              </td><td>12.7857049898407         </td><td>12.597983616148426       </td><td>35.02491813350248</td><td>NaN           </td><td>0.0            </td><td>0.0           </td><td>NaN              </td><td>NaN                </td><td>NaN                </td><td>NaN                </td><td>NaN                </td><td>NaN                </td><td>NaN                </td><td>1.812514289265142 </td><td>100.09436015162156</td></tr>\n",
       "<tr><td>maxs   </td><td>25425.4           </td><td>               </td><td>25425.4           </td><td>12885.599999999999</td><td>NaN       </td><td>NaN     </td><td>NaN         </td><td>NaN                                                                    </td><td>180.0            </td><td>6.0               </td><td>5.0               </td><td>99.0                  </td><td>99.0                  </td><td>NaN                              </td><td>NaN                              </td><td>23.0                     </td><td>23.0                     </td><td>51.0             </td><td>NaN           </td><td>NaN            </td><td>NaN           </td><td>NaN              </td><td>NaN                </td><td>NaN                </td><td>NaN                </td><td>NaN                </td><td>NaN                </td><td>NaN                </td><td>2.0               </td><td>200.0             </td></tr>\n",
       "<tr><td>sigma  </td><td>1286.2370493966484</td><td>               </td><td>1284.1125369395502</td><td>56.32346359634822 </td><td>NaN       </td><td>NaN     </td><td>NaN         </td><td>NaN                                                                    </td><td>51.91200384194475</td><td>0.4324275848070784</td><td>0.464525002358901 </td><td>38.332610333999504    </td><td>39.03635715047378     </td><td>NaN                              </td><td>NaN                              </td><td>5.642048685922529        </td><td>5.7209138703298805       </td><td>7.620929588619404</td><td>NaN           </td><td>-0.0           </td><td>-0.0          </td><td>NaN              </td><td>NaN                </td><td>NaN                </td><td>NaN                </td><td>NaN                </td><td>NaN                </td><td>NaN                </td><td>0.3903011627072813</td><td>57.71042758125458 </td></tr>\n",
       "<tr><td>zeros  </td><td>0                 </td><td>               </td><td>0                 </td><td>789286            </td><td>0         </td><td>0       </td><td>0           </td><td>0                                                                      </td><td>0                </td><td>96227             </td><td>203173            </td><td>0                     </td><td>0                     </td><td>0                                </td><td>0                                </td><td>30722                    </td><td>32635                    </td><td>0                </td><td>0             </td><td>0              </td><td>0             </td><td>0                </td><td>0                  </td><td>0                  </td><td>0                  </td><td>0                  </td><td>0                  </td><td>0                  </td><td>0                 </td><td>2213              </td></tr>\n",
       "<tr><td>missing</td><td>0                 </td><td>0              </td><td>0                 </td><td>0                 </td><td>0         </td><td>0       </td><td>0           </td><td>0                                                                      </td><td>0                </td><td>0                 </td><td>0                 </td><td>0                     </td><td>0                     </td><td>0                                </td><td>0                                </td><td>0                        </td><td>0                        </td><td>0                </td><td>0             </td><td>852913         </td><td>852913        </td><td>0                </td><td>0                  </td><td>96227              </td><td>790259             </td><td>0                  </td><td>203173             </td><td>833223             </td><td>0                 </td><td>0                 </td></tr>\n",
       "<tr><td>0      </td><td>1088.8            </td><td>0              </td><td>1088.8            </td><td>0.0               </td><td>shanghai  </td><td>Auckland</td><td>2017-05-25  </td><td>shanghai-Auckland-0-2017-06-11-1:25pm-12:30am-1:25pm-9:30pm-FM-CZ-MF-MF</td><td>17.0             </td><td>1.0               </td><td>1.0               </td><td>1.0                   </td><td>5.0                   </td><td>                                 </td><td>Xiamen Airlines                  </td><td>13.0                     </td><td>13.0                     </td><td>23.0             </td><td>Sunday        </td><td>nan            </td><td>              </td><td>Thursday         </td><td>3                  </td><td>3                  </td><td>                   </td><td>3                  </td><td>3                  </td><td>                   </td><td>1.0               </td><td>101.0             </td></tr>\n",
       "<tr><td>1      </td><td>1348.1            </td><td>0              </td><td>1348.1            </td><td>0.0               </td><td>shanghai  </td><td>Auckland</td><td>2017-06-18  </td><td>shanghai-Auckland-0-2017-07-01-7:30am-6:45pm-1:25pm-9:30pm-TG-TG-MF-MF </td><td>13.0             </td><td>1.0               </td><td>1.0               </td><td>2.0                   </td><td>5.0                   </td><td>Thai Airways International       </td><td>Xiamen Airlines                  </td><td>7.0                      </td><td>13.0                     </td><td>26.0             </td><td>Saturday      </td><td>nan            </td><td>              </td><td>Sunday           </td><td>3                  </td><td>3                  </td><td>                   </td><td>3                  </td><td>3                  </td><td>                   </td><td>1.0               </td><td>56.0              </td></tr>\n",
       "<tr><td>2      </td><td>975.1             </td><td>0              </td><td>975.1             </td><td>0.0               </td><td>shanghai  </td><td>Auckland</td><td>2017-05-26  </td><td>shanghai-Auckland-0-2017-07-06-7:30am-6:45pm-1:25pm-9:30pm-TG-TG-MF-MF </td><td>41.0             </td><td>1.0               </td><td>1.0               </td><td>1.0                   </td><td>5.0                   </td><td>Thai Airways International       </td><td>Xiamen Airlines                  </td><td>7.0                      </td><td>13.0                     </td><td>27.0             </td><td>Thursday      </td><td>nan            </td><td>              </td><td>Friday           </td><td>3                  </td><td>3                  </td><td>                   </td><td>3                  </td><td>3                  </td><td>                   </td><td>1.0               </td><td>5.0               </td></tr>\n",
       "<tr><td>3      </td><td>1013.0            </td><td>0              </td><td>1013.0            </td><td>0.0               </td><td>shanghai  </td><td>Auckland</td><td>2017-06-18  </td><td>shanghai-Auckland-0-2017-07-06-8:05pm-3:00pm-1:25pm-9:30pm-MU-NZ-MF-MF </td><td>18.0             </td><td>1.0               </td><td>1.0               </td><td>7.0                   </td><td>5.0                   </td><td>                                 </td><td>Xiamen Airlines                  </td><td>20.0                     </td><td>13.0                     </td><td>27.0             </td><td>Thursday      </td><td>nan            </td><td>              </td><td>Sunday           </td><td>3                  </td><td>3                  </td><td>                   </td><td>3                  </td><td>3                  </td><td>                   </td><td>1.0               </td><td>45.0              </td></tr>\n",
       "<tr><td>4      </td><td>1118.9            </td><td>1              </td><td>959.6             </td><td>159.30000000000007</td><td>shanghai  </td><td>Auckland</td><td>2017-06-02  </td><td>shanghai-Auckland-0-2017-07-31-8:20pm-3:50pm-1:25pm-9:30pm-MU-NZ-MF-MF </td><td>59.0             </td><td>1.0               </td><td>1.0               </td><td>7.0                   </td><td>5.0                   </td><td>                                 </td><td>Xiamen Airlines                  </td><td>20.0                     </td><td>13.0                     </td><td>31.0             </td><td>Monday        </td><td>nan            </td><td>              </td><td>Friday           </td><td>3                  </td><td>3                  </td><td>                   </td><td>3                  </td><td>3                  </td><td>                   </td><td>1.0               </td><td>193.0             </td></tr>\n",
       "<tr><td>5      </td><td>959.6             </td><td>0              </td><td>959.6             </td><td>0.0               </td><td>shanghai  </td><td>Auckland</td><td>2017-06-10  </td><td>shanghai-Auckland-0-2017-07-31-8:20pm-3:50pm-1:25pm-9:30pm-MU-NZ-MF-MF </td><td>51.0             </td><td>1.0               </td><td>1.0               </td><td>7.0                   </td><td>5.0                   </td><td>                                 </td><td>Xiamen Airlines                  </td><td>20.0                     </td><td>13.0                     </td><td>31.0             </td><td>Monday        </td><td>nan            </td><td>              </td><td>Saturday         </td><td>3                  </td><td>3                  </td><td>                   </td><td>3                  </td><td>3                  </td><td>                   </td><td>1.0               </td><td>83.0              </td></tr>\n",
       "<tr><td>6      </td><td>2997.7            </td><td>1              </td><td>2653.4            </td><td>344.2999999999997 </td><td>shanghai  </td><td>Auckland</td><td>2017-05-24  </td><td>shanghai-Auckland-0-2017-07-31-8:50am-4:50pm-1:25pm-9:30pm-MU-KE-MF-MF </td><td>68.0             </td><td>1.0               </td><td>1.0               </td><td>9.0                   </td><td>5.0                   </td><td>                                 </td><td>Xiamen Airlines                  </td><td>8.0                      </td><td>13.0                     </td><td>31.0             </td><td>Monday        </td><td>nan            </td><td>              </td><td>Wednesday        </td><td>3                  </td><td>2                  </td><td>                   </td><td>3                  </td><td>3                  </td><td>                   </td><td>1.0               </td><td>9.0               </td></tr>\n",
       "<tr><td>7      </td><td>2663.8            </td><td>0              </td><td>2653.4            </td><td>10.400000000000091</td><td>shanghai  </td><td>Auckland</td><td>2017-06-01  </td><td>shanghai-Auckland-0-2017-07-31-8:50am-4:50pm-1:25pm-9:30pm-MU-KE-MF-MF </td><td>60.0             </td><td>1.0               </td><td>1.0               </td><td>9.0                   </td><td>5.0                   </td><td>                                 </td><td>Xiamen Airlines                  </td><td>8.0                      </td><td>13.0                     </td><td>31.0             </td><td>Monday        </td><td>nan            </td><td>              </td><td>Thursday         </td><td>3                  </td><td>3                  </td><td>                   </td><td>3                  </td><td>3                  </td><td>                   </td><td>1.0               </td><td>129.0             </td></tr>\n",
       "<tr><td>8      </td><td>2653.4            </td><td>0              </td><td>2653.4            </td><td>0.0               </td><td>shanghai  </td><td>Auckland</td><td>2017-06-12  </td><td>shanghai-Auckland-0-2017-07-31-8:50am-4:50pm-1:25pm-9:30pm-MU-KE-MF-MF </td><td>49.0             </td><td>1.0               </td><td>1.0               </td><td>6.0                   </td><td>5.0                   </td><td>                                 </td><td>Xiamen Airlines                  </td><td>8.0                      </td><td>13.0                     </td><td>31.0             </td><td>Monday        </td><td>nan            </td><td>              </td><td>Monday           </td><td>3                  </td><td>3                  </td><td>                   </td><td>3                  </td><td>3                  </td><td>                   </td><td>1.0               </td><td>113.0             </td></tr>\n",
       "<tr><td>9      </td><td>953.2             </td><td>0              </td><td>953.2             </td><td>0.0               </td><td>shanghai  </td><td>Auckland</td><td>2017-05-20  </td><td>shanghai-Auckland-0-2017-08-11-2:55pm-1:05am-1:25pm-9:30pm-CA-CA-MF-MF </td><td>83.0             </td><td>1.0               </td><td>1.0               </td><td>9.0                   </td><td>5.0                   </td><td>Air China                        </td><td>Xiamen Airlines                  </td><td>14.0                     </td><td>13.0                     </td><td>32.0             </td><td>Friday        </td><td>nan            </td><td>              </td><td>Saturday         </td><td>3                  </td><td>3                  </td><td>                   </td><td>3                  </td><td>3                  </td><td>                   </td><td>1.0               </td><td>172.0             </td></tr>\n",
       "</tbody>\n",
       "</table>"
      ]
     },
     "metadata": {},
     "output_type": "display_data"
    }
   ],
   "source": [
    "hf.describe()"
   ]
  },
  {
   "cell_type": "code",
   "execution_count": 75,
   "metadata": {},
   "outputs": [],
   "source": [
    "hf.shape\n",
    "hf1 = hf[0:8000000, :]\n",
    "hf2 = hf[8000000:, :]"
   ]
  },
  {
   "cell_type": "code",
   "execution_count": 76,
   "metadata": {},
   "outputs": [
    {
     "name": "stdout",
     "output_type": "stream",
     "text": [
      "gbm Model Build progress: |███████████████████████████████████████████████| 100%\n",
      "CPU times: user 480 ms, sys: 48 ms, total: 528 ms\n",
      "Wall time: 58.5 s\n"
     ]
    }
   ],
   "source": [
    "%%time\n",
    "\n",
    "from h2o.estimators.gbm import H2OGradientBoostingEstimator\n",
    "from h2o.automl import H2OAutoML\n",
    "\n",
    "# print(\"############### Modelling: \" + target + \" ################\")\n",
    "gbm = H2OGradientBoostingEstimator(distribution=\"bernoulli\", \n",
    "                                             ntrees=300, max_depth=10, min_rows=10, learn_rate=0.5,\n",
    "                                                stopping_rounds=10,\n",
    "                                            stopping_tolerance=0.01, seed=0)\n",
    "# gbm.train(x=features, y=target,\n",
    "#           training_frame = train,\n",
    "#           validation_frame = valid)\n",
    "gbm.train(x=features, y=target,\n",
    "          training_frame = hf1,\n",
    "          validation_frame = hf2)\n",
    "\n"
   ]
  },
  {
   "cell_type": "code",
   "execution_count": 77,
   "metadata": {},
   "outputs": [
    {
     "name": "stdout",
     "output_type": "stream",
     "text": [
      "Model Details\n",
      "=============\n",
      "H2OGradientBoostingEstimator :  Gradient Boosting Machine\n",
      "Model Key:  GBM_model_python_1511270194886_117\n",
      "\n",
      "\n",
      "ModelMetricsBinomial: gbm\n",
      "** Reported on train data. **\n",
      "\n",
      "MSE: 0.11646253330450397\n",
      "RMSE: 0.3412660740602616\n",
      "LogLoss: 0.37535363964441315\n",
      "Mean Per-Class Error: 0.3016503317781227\n",
      "AUC: 0.7718910119970928\n",
      "Gini: 0.5437820239941855\n",
      "Confusion Matrix (Act/Pred) for max f1 @ threshold = 0.21205648550033568: \n"
     ]
    },
    {
     "data": {
      "text/html": [
       "<div style=\"overflow:auto\"><table style=\"width:50%\"><tr><td><b></b></td>\n",
       "<td><b>0</b></td>\n",
       "<td><b>1</b></td>\n",
       "<td><b>Error</b></td>\n",
       "<td><b>Rate</b></td></tr>\n",
       "<tr><td>0</td>\n",
       "<td>5262615.0</td>\n",
       "<td>1439654.0</td>\n",
       "<td>0.2148</td>\n",
       "<td> (1439654.0/6702269.0)</td></tr>\n",
       "<tr><td>1</td>\n",
       "<td>534501.0</td>\n",
       "<td>763230.0</td>\n",
       "<td>0.4119</td>\n",
       "<td> (534501.0/1297731.0)</td></tr>\n",
       "<tr><td>Total</td>\n",
       "<td>5797116.0</td>\n",
       "<td>2202884.0</td>\n",
       "<td>0.2468</td>\n",
       "<td> (1974155.0/8000000.0)</td></tr></table></div>"
      ],
      "text/plain": [
       "       0            1            Error    Rate\n",
       "-----  -----------  -----------  -------  ---------------------\n",
       "0      5.26262e+06  1.43965e+06  0.2148   (1439654.0/6702269.0)\n",
       "1      534501       763230       0.4119   (534501.0/1297731.0)\n",
       "Total  5.79712e+06  2.20288e+06  0.2468   (1974155.0/8000000.0)"
      ]
     },
     "metadata": {},
     "output_type": "display_data"
    },
    {
     "name": "stdout",
     "output_type": "stream",
     "text": [
      "Maximum Metrics: Maximum metrics at their respective thresholds\n",
      "\n"
     ]
    },
    {
     "data": {
      "text/html": [
       "<div style=\"overflow:auto\"><table style=\"width:50%\"><tr><td><b>metric</b></td>\n",
       "<td><b>threshold</b></td>\n",
       "<td><b>value</b></td>\n",
       "<td><b>idx</b></td></tr>\n",
       "<tr><td>max f1</td>\n",
       "<td>0.2120565</td>\n",
       "<td>0.4360548</td>\n",
       "<td>219.0</td></tr>\n",
       "<tr><td>max f2</td>\n",
       "<td>0.1222053</td>\n",
       "<td>0.5803880</td>\n",
       "<td>293.0</td></tr>\n",
       "<tr><td>max f0point5</td>\n",
       "<td>0.3165747</td>\n",
       "<td>0.4248411</td>\n",
       "<td>153.0</td></tr>\n",
       "<tr><td>max accuracy</td>\n",
       "<td>0.4729447</td>\n",
       "<td>0.8446481</td>\n",
       "<td>84.0</td></tr>\n",
       "<tr><td>max precision</td>\n",
       "<td>0.8378745</td>\n",
       "<td>0.8729792</td>\n",
       "<td>7.0</td></tr>\n",
       "<tr><td>max recall</td>\n",
       "<td>0.0059374</td>\n",
       "<td>1.0</td>\n",
       "<td>399.0</td></tr>\n",
       "<tr><td>max specificity</td>\n",
       "<td>0.9644778</td>\n",
       "<td>0.9999915</td>\n",
       "<td>0.0</td></tr>\n",
       "<tr><td>max absolute_mcc</td>\n",
       "<td>0.2186380</td>\n",
       "<td>0.3081489</td>\n",
       "<td>214.0</td></tr>\n",
       "<tr><td>max min_per_class_accuracy</td>\n",
       "<td>0.1774247</td>\n",
       "<td>0.6959247</td>\n",
       "<td>246.0</td></tr>\n",
       "<tr><td>max mean_per_class_accuracy</td>\n",
       "<td>0.1646654</td>\n",
       "<td>0.6983497</td>\n",
       "<td>256.0</td></tr></table></div>"
      ],
      "text/plain": [
       "metric                       threshold    value     idx\n",
       "---------------------------  -----------  --------  -----\n",
       "max f1                       0.212056     0.436055  219\n",
       "max f2                       0.122205     0.580388  293\n",
       "max f0point5                 0.316575     0.424841  153\n",
       "max accuracy                 0.472945     0.844648  84\n",
       "max precision                0.837875     0.872979  7\n",
       "max recall                   0.00593737   1         399\n",
       "max specificity              0.964478     0.999991  0\n",
       "max absolute_mcc             0.218638     0.308149  214\n",
       "max min_per_class_accuracy   0.177425     0.695925  246\n",
       "max mean_per_class_accuracy  0.164665     0.69835   256"
      ]
     },
     "metadata": {},
     "output_type": "display_data"
    },
    {
     "name": "stdout",
     "output_type": "stream",
     "text": [
      "Gains/Lift Table: Avg response rate: 16.22 %\n",
      "\n"
     ]
    },
    {
     "data": {
      "text/html": [
       "<div style=\"overflow:auto\"><table style=\"width:50%\"><tr><td><b></b></td>\n",
       "<td><b>group</b></td>\n",
       "<td><b>cumulative_data_fraction</b></td>\n",
       "<td><b>lower_threshold</b></td>\n",
       "<td><b>lift</b></td>\n",
       "<td><b>cumulative_lift</b></td>\n",
       "<td><b>response_rate</b></td>\n",
       "<td><b>cumulative_response_rate</b></td>\n",
       "<td><b>capture_rate</b></td>\n",
       "<td><b>cumulative_capture_rate</b></td>\n",
       "<td><b>gain</b></td>\n",
       "<td><b>cumulative_gain</b></td></tr>\n",
       "<tr><td></td>\n",
       "<td>1</td>\n",
       "<td>0.01</td>\n",
       "<td>0.5854452</td>\n",
       "<td>4.3992938</td>\n",
       "<td>4.3992938</td>\n",
       "<td>0.7136375</td>\n",
       "<td>0.7136375</td>\n",
       "<td>0.0439929</td>\n",
       "<td>0.0439929</td>\n",
       "<td>339.9293844</td>\n",
       "<td>339.9293844</td></tr>\n",
       "<tr><td></td>\n",
       "<td>2</td>\n",
       "<td>0.02</td>\n",
       "<td>0.5161685</td>\n",
       "<td>3.6479055</td>\n",
       "<td>4.0235997</td>\n",
       "<td>0.59175</td>\n",
       "<td>0.6526937</td>\n",
       "<td>0.0364791</td>\n",
       "<td>0.0804720</td>\n",
       "<td>264.7905460</td>\n",
       "<td>302.3599652</td></tr>\n",
       "<tr><td></td>\n",
       "<td>3</td>\n",
       "<td>0.0300007</td>\n",
       "<td>0.4724760</td>\n",
       "<td>3.3170797</td>\n",
       "<td>3.7880812</td>\n",
       "<td>0.5380846</td>\n",
       "<td>0.6144888</td>\n",
       "<td>0.0331733</td>\n",
       "<td>0.1136453</td>\n",
       "<td>231.7079695</td>\n",
       "<td>278.8081225</td></tr>\n",
       "<tr><td></td>\n",
       "<td>4</td>\n",
       "<td>0.0400008</td>\n",
       "<td>0.4415898</td>\n",
       "<td>3.0362995</td>\n",
       "<td>3.6001393</td>\n",
       "<td>0.4925375</td>\n",
       "<td>0.5840015</td>\n",
       "<td>0.0303630</td>\n",
       "<td>0.1440083</td>\n",
       "<td>203.6299510</td>\n",
       "<td>260.0139320</td></tr>\n",
       "<tr><td></td>\n",
       "<td>5</td>\n",
       "<td>0.0500015</td>\n",
       "<td>0.4165119</td>\n",
       "<td>2.7905077</td>\n",
       "<td>3.4382057</td>\n",
       "<td>0.4526661</td>\n",
       "<td>0.5577333</td>\n",
       "<td>0.0279072</td>\n",
       "<td>0.1719154</td>\n",
       "<td>179.0507740</td>\n",
       "<td>243.8205718</td></tr>\n",
       "<tr><td></td>\n",
       "<td>6</td>\n",
       "<td>0.1</td>\n",
       "<td>0.3293541</td>\n",
       "<td>2.4392690</td>\n",
       "<td>2.9387523</td>\n",
       "<td>0.3956894</td>\n",
       "<td>0.4767137</td>\n",
       "<td>0.1219598</td>\n",
       "<td>0.2938752</td>\n",
       "<td>143.9268974</td>\n",
       "<td>193.8752330</td></tr>\n",
       "<tr><td></td>\n",
       "<td>7</td>\n",
       "<td>0.150013</td>\n",
       "<td>0.2812432</td>\n",
       "<td>1.9980765</td>\n",
       "<td>2.6251394</td>\n",
       "<td>0.3241207</td>\n",
       "<td>0.4258406</td>\n",
       "<td>0.0999298</td>\n",
       "<td>0.3938050</td>\n",
       "<td>99.8076511</td>\n",
       "<td>162.5139378</td></tr>\n",
       "<tr><td></td>\n",
       "<td>8</td>\n",
       "<td>0.2</td>\n",
       "<td>0.2485392</td>\n",
       "<td>1.7013804</td>\n",
       "<td>2.3942597</td>\n",
       "<td>0.2759918</td>\n",
       "<td>0.3883881</td>\n",
       "<td>0.0850469</td>\n",
       "<td>0.4788519</td>\n",
       "<td>70.1380381</td>\n",
       "<td>139.4259673</td></tr>\n",
       "<tr><td></td>\n",
       "<td>9</td>\n",
       "<td>0.3000003</td>\n",
       "<td>0.2014558</td>\n",
       "<td>1.4126929</td>\n",
       "<td>2.0670702</td>\n",
       "<td>0.2291619</td>\n",
       "<td>0.3353126</td>\n",
       "<td>0.1412696</td>\n",
       "<td>0.6201216</td>\n",
       "<td>41.2692936</td>\n",
       "<td>106.7070216</td></tr>\n",
       "<tr><td></td>\n",
       "<td>10</td>\n",
       "<td>0.400001</td>\n",
       "<td>0.1651278</td>\n",
       "<td>1.1217803</td>\n",
       "<td>1.8307466</td>\n",
       "<td>0.1819711</td>\n",
       "<td>0.2969771</td>\n",
       "<td>0.1121789</td>\n",
       "<td>0.7323005</td>\n",
       "<td>12.1780309</td>\n",
       "<td>83.0746557</td></tr>\n",
       "<tr><td></td>\n",
       "<td>11</td>\n",
       "<td>0.5000001</td>\n",
       "<td>0.1328670</td>\n",
       "<td>0.8873257</td>\n",
       "<td>1.6420641</td>\n",
       "<td>0.1439388</td>\n",
       "<td>0.2663697</td>\n",
       "<td>0.0887318</td>\n",
       "<td>0.8210322</td>\n",
       "<td>-11.2674294</td>\n",
       "<td>64.2064085</td></tr>\n",
       "<tr><td></td>\n",
       "<td>12</td>\n",
       "<td>0.6</td>\n",
       "<td>0.1045968</td>\n",
       "<td>0.6861754</td>\n",
       "<td>1.4827495</td>\n",
       "<td>0.1113089</td>\n",
       "<td>0.2405262</td>\n",
       "<td>0.0686175</td>\n",
       "<td>0.8896497</td>\n",
       "<td>-31.3824581</td>\n",
       "<td>48.2749507</td></tr>\n",
       "<tr><td></td>\n",
       "<td>13</td>\n",
       "<td>0.7000001</td>\n",
       "<td>0.0796328</td>\n",
       "<td>0.4991167</td>\n",
       "<td>1.3422304</td>\n",
       "<td>0.0809649</td>\n",
       "<td>0.2177317</td>\n",
       "<td>0.0499117</td>\n",
       "<td>0.9395614</td>\n",
       "<td>-50.0883318</td>\n",
       "<td>34.2230381</td></tr>\n",
       "<tr><td></td>\n",
       "<td>14</td>\n",
       "<td>0.8000001</td>\n",
       "<td>0.0567151</td>\n",
       "<td>0.3396852</td>\n",
       "<td>1.2169123</td>\n",
       "<td>0.0551025</td>\n",
       "<td>0.1974031</td>\n",
       "<td>0.0339685</td>\n",
       "<td>0.9735300</td>\n",
       "<td>-66.0314811</td>\n",
       "<td>21.6912252</td></tr>\n",
       "<tr><td></td>\n",
       "<td>15</td>\n",
       "<td>0.9</td>\n",
       "<td>0.0333746</td>\n",
       "<td>0.1990785</td>\n",
       "<td>1.1038198</td>\n",
       "<td>0.0322938</td>\n",
       "<td>0.1790576</td>\n",
       "<td>0.0199078</td>\n",
       "<td>0.9934378</td>\n",
       "<td>-80.0921514</td>\n",
       "<td>10.3819752</td></tr>\n",
       "<tr><td></td>\n",
       "<td>16</td>\n",
       "<td>1.0</td>\n",
       "<td>0.0018491</td>\n",
       "<td>0.0656222</td>\n",
       "<td>1.0</td>\n",
       "<td>0.010645</td>\n",
       "<td>0.1622164</td>\n",
       "<td>0.0065622</td>\n",
       "<td>1.0</td>\n",
       "<td>-93.4377772</td>\n",
       "<td>0.0</td></tr></table></div>"
      ],
      "text/plain": [
       "    group    cumulative_data_fraction    lower_threshold    lift       cumulative_lift    response_rate    cumulative_response_rate    capture_rate    cumulative_capture_rate    gain      cumulative_gain\n",
       "--  -------  --------------------------  -----------------  ---------  -----------------  ---------------  --------------------------  --------------  -------------------------  --------  -----------------\n",
       "    1        0.01                        0.585445           4.39929    4.39929            0.713638         0.713638                    0.0439929       0.0439929                  339.929   339.929\n",
       "    2        0.02                        0.516168           3.64791    4.0236             0.59175          0.652694                    0.0364791       0.080472                   264.791   302.36\n",
       "    3        0.0300007                   0.472476           3.31708    3.78808            0.538085         0.614489                    0.0331733       0.113645                   231.708   278.808\n",
       "    4        0.0400008                   0.44159            3.0363     3.60014            0.492538         0.584002                    0.030363        0.144008                   203.63    260.014\n",
       "    5        0.0500015                   0.416512           2.79051    3.43821            0.452666         0.557733                    0.0279072       0.171915                   179.051   243.821\n",
       "    6        0.1                         0.329354           2.43927    2.93875            0.395689         0.476714                    0.12196         0.293875                   143.927   193.875\n",
       "    7        0.150013                    0.281243           1.99808    2.62514            0.324121         0.425841                    0.0999298       0.393805                   99.8077   162.514\n",
       "    8        0.2                         0.248539           1.70138    2.39426            0.275992         0.388388                    0.0850469       0.478852                   70.138    139.426\n",
       "    9        0.3                         0.201456           1.41269    2.06707            0.229162         0.335313                    0.14127         0.620122                   41.2693   106.707\n",
       "    10       0.400001                    0.165128           1.12178    1.83075            0.181971         0.296977                    0.112179        0.7323                     12.178    83.0747\n",
       "    11       0.5                         0.132867           0.887326   1.64206            0.143939         0.26637                     0.0887318       0.821032                   -11.2674  64.2064\n",
       "    12       0.6                         0.104597           0.686175   1.48275            0.111309         0.240526                    0.0686175       0.88965                    -31.3825  48.275\n",
       "    13       0.7                         0.0796328          0.499117   1.34223            0.0809649        0.217732                    0.0499117       0.939561                   -50.0883  34.223\n",
       "    14       0.8                         0.0567151          0.339685   1.21691            0.0551025        0.197403                    0.0339685       0.97353                    -66.0315  21.6912\n",
       "    15       0.9                         0.0333746          0.199078   1.10382            0.0322938        0.179058                    0.0199078       0.993438                   -80.0922  10.382\n",
       "    16       1                           0.00184906         0.0656222  1                  0.010645         0.162216                    0.00656222      1                          -93.4378  0"
      ]
     },
     "metadata": {},
     "output_type": "display_data"
    },
    {
     "name": "stdout",
     "output_type": "stream",
     "text": [
      "\n",
      "\n",
      "ModelMetricsBinomial: gbm\n",
      "** Reported on validation data. **\n",
      "\n",
      "MSE: 0.11775361053991952\n",
      "RMSE: 0.3431524596151389\n",
      "LogLoss: 0.37941081039880076\n",
      "Mean Per-Class Error: 0.3086086439752461\n",
      "AUC: 0.7628868609454548\n",
      "Gini: 0.5257737218909095\n",
      "Confusion Matrix (Act/Pred) for max f1 @ threshold = 0.21207209873558827: \n"
     ]
    },
    {
     "data": {
      "text/html": [
       "<div style=\"overflow:auto\"><table style=\"width:50%\"><tr><td><b></b></td>\n",
       "<td><b>0</b></td>\n",
       "<td><b>1</b></td>\n",
       "<td><b>Error</b></td>\n",
       "<td><b>Rate</b></td></tr>\n",
       "<tr><td>0</td>\n",
       "<td>342783.0</td>\n",
       "<td>94782.0</td>\n",
       "<td>0.2166</td>\n",
       "<td> (94782.0/437565.0)</td></tr>\n",
       "<tr><td>1</td>\n",
       "<td>35795.0</td>\n",
       "<td>48692.0</td>\n",
       "<td>0.4237</td>\n",
       "<td> (35795.0/84487.0)</td></tr>\n",
       "<tr><td>Total</td>\n",
       "<td>378578.0</td>\n",
       "<td>143474.0</td>\n",
       "<td>0.2501</td>\n",
       "<td> (130577.0/522052.0)</td></tr></table></div>"
      ],
      "text/plain": [
       "       0       1       Error    Rate\n",
       "-----  ------  ------  -------  -------------------\n",
       "0      342783  94782   0.2166   (94782.0/437565.0)\n",
       "1      35795   48692   0.4237   (35795.0/84487.0)\n",
       "Total  378578  143474  0.2501   (130577.0/522052.0)"
      ]
     },
     "metadata": {},
     "output_type": "display_data"
    },
    {
     "name": "stdout",
     "output_type": "stream",
     "text": [
      "Maximum Metrics: Maximum metrics at their respective thresholds\n",
      "\n"
     ]
    },
    {
     "data": {
      "text/html": [
       "<div style=\"overflow:auto\"><table style=\"width:50%\"><tr><td><b>metric</b></td>\n",
       "<td><b>threshold</b></td>\n",
       "<td><b>value</b></td>\n",
       "<td><b>idx</b></td></tr>\n",
       "<tr><td>max f1</td>\n",
       "<td>0.2120721</td>\n",
       "<td>0.4271959</td>\n",
       "<td>215.0</td></tr>\n",
       "<tr><td>max f2</td>\n",
       "<td>0.1181017</td>\n",
       "<td>0.5733005</td>\n",
       "<td>295.0</td></tr>\n",
       "<tr><td>max f0point5</td>\n",
       "<td>0.3149606</td>\n",
       "<td>0.4097222</td>\n",
       "<td>147.0</td></tr>\n",
       "<tr><td>max accuracy</td>\n",
       "<td>0.4707144</td>\n",
       "<td>0.8433643</td>\n",
       "<td>82.0</td></tr>\n",
       "<tr><td>max precision</td>\n",
       "<td>0.7888160</td>\n",
       "<td>0.8106312</td>\n",
       "<td>11.0</td></tr>\n",
       "<tr><td>max recall</td>\n",
       "<td>0.0075570</td>\n",
       "<td>1.0</td>\n",
       "<td>398.0</td></tr>\n",
       "<tr><td>max specificity</td>\n",
       "<td>0.9542898</td>\n",
       "<td>0.9999931</td>\n",
       "<td>0.0</td></tr>\n",
       "<tr><td>max absolute_mcc</td>\n",
       "<td>0.2165738</td>\n",
       "<td>0.2969215</td>\n",
       "<td>211.0</td></tr>\n",
       "<tr><td>max min_per_class_accuracy</td>\n",
       "<td>0.1753225</td>\n",
       "<td>0.6896141</td>\n",
       "<td>245.0</td></tr>\n",
       "<tr><td>max mean_per_class_accuracy</td>\n",
       "<td>0.1652602</td>\n",
       "<td>0.6913914</td>\n",
       "<td>253.0</td></tr></table></div>"
      ],
      "text/plain": [
       "metric                       threshold    value     idx\n",
       "---------------------------  -----------  --------  -----\n",
       "max f1                       0.212072     0.427196  215\n",
       "max f2                       0.118102     0.573301  295\n",
       "max f0point5                 0.314961     0.409722  147\n",
       "max accuracy                 0.470714     0.843364  82\n",
       "max precision                0.788816     0.810631  11\n",
       "max recall                   0.00755702   1         398\n",
       "max specificity              0.95429      0.999993  0\n",
       "max absolute_mcc             0.216574     0.296921  211\n",
       "max min_per_class_accuracy   0.175322     0.689614  245\n",
       "max mean_per_class_accuracy  0.16526      0.691391  253"
      ]
     },
     "metadata": {},
     "output_type": "display_data"
    },
    {
     "name": "stdout",
     "output_type": "stream",
     "text": [
      "Gains/Lift Table: Avg response rate: 16.18 %\n",
      "\n"
     ]
    },
    {
     "data": {
      "text/html": [
       "<div style=\"overflow:auto\"><table style=\"width:50%\"><tr><td><b></b></td>\n",
       "<td><b>group</b></td>\n",
       "<td><b>cumulative_data_fraction</b></td>\n",
       "<td><b>lower_threshold</b></td>\n",
       "<td><b>lift</b></td>\n",
       "<td><b>cumulative_lift</b></td>\n",
       "<td><b>response_rate</b></td>\n",
       "<td><b>cumulative_response_rate</b></td>\n",
       "<td><b>capture_rate</b></td>\n",
       "<td><b>cumulative_capture_rate</b></td>\n",
       "<td><b>gain</b></td>\n",
       "<td><b>cumulative_gain</b></td></tr>\n",
       "<tr><td></td>\n",
       "<td>1</td>\n",
       "<td>0.0100009</td>\n",
       "<td>0.5805997</td>\n",
       "<td>4.2026271</td>\n",
       "<td>4.2026271</td>\n",
       "<td>0.6801379</td>\n",
       "<td>0.6801379</td>\n",
       "<td>0.0420301</td>\n",
       "<td>0.0420301</td>\n",
       "<td>320.2627071</td>\n",
       "<td>320.2627071</td></tr>\n",
       "<tr><td></td>\n",
       "<td>2</td>\n",
       "<td>0.0200038</td>\n",
       "<td>0.5109753</td>\n",
       "<td>3.4930384</td>\n",
       "<td>3.8477988</td>\n",
       "<td>0.5653007</td>\n",
       "<td>0.6227138</td>\n",
       "<td>0.0349403</td>\n",
       "<td>0.0769704</td>\n",
       "<td>249.3038402</td>\n",
       "<td>284.7798763</td></tr>\n",
       "<tr><td></td>\n",
       "<td>3</td>\n",
       "<td>0.0300008</td>\n",
       "<td>0.4690191</td>\n",
       "<td>3.1884010</td>\n",
       "<td>3.6280697</td>\n",
       "<td>0.5159992</td>\n",
       "<td>0.5871536</td>\n",
       "<td>0.0318747</td>\n",
       "<td>0.1088451</td>\n",
       "<td>218.8400960</td>\n",
       "<td>262.8069665</td></tr>\n",
       "<tr><td></td>\n",
       "<td>4</td>\n",
       "<td>0.0400018</td>\n",
       "<td>0.4377114</td>\n",
       "<td>2.8628992</td>\n",
       "<td>3.4367679</td>\n",
       "<td>0.4633212</td>\n",
       "<td>0.5561940</td>\n",
       "<td>0.0286316</td>\n",
       "<td>0.1374768</td>\n",
       "<td>186.2899151</td>\n",
       "<td>243.6767876</td></tr>\n",
       "<tr><td></td>\n",
       "<td>5</td>\n",
       "<td>0.0500008</td>\n",
       "<td>0.4134186</td>\n",
       "<td>2.7640141</td>\n",
       "<td>3.3022326</td>\n",
       "<td>0.4473180</td>\n",
       "<td>0.5344213</td>\n",
       "<td>0.0276374</td>\n",
       "<td>0.1651142</td>\n",
       "<td>176.4014115</td>\n",
       "<td>230.2232588</td></tr>\n",
       "<tr><td></td>\n",
       "<td>6</td>\n",
       "<td>0.1000015</td>\n",
       "<td>0.3275668</td>\n",
       "<td>2.3780809</td>\n",
       "<td>2.8401567</td>\n",
       "<td>0.3848600</td>\n",
       "<td>0.4596407</td>\n",
       "<td>0.1189059</td>\n",
       "<td>0.2840200</td>\n",
       "<td>137.8080901</td>\n",
       "<td>184.0156745</td></tr>\n",
       "<tr><td></td>\n",
       "<td>7</td>\n",
       "<td>0.1500004</td>\n",
       "<td>0.2807623</td>\n",
       "<td>1.9433022</td>\n",
       "<td>2.5412129</td>\n",
       "<td>0.3144970</td>\n",
       "<td>0.4112607</td>\n",
       "<td>0.0971629</td>\n",
       "<td>0.3811829</td>\n",
       "<td>94.3302212</td>\n",
       "<td>154.1212869</td></tr>\n",
       "<tr><td></td>\n",
       "<td>8</td>\n",
       "<td>0.2000011</td>\n",
       "<td>0.2485815</td>\n",
       "<td>1.7349149</td>\n",
       "<td>2.3396364</td>\n",
       "<td>0.2807723</td>\n",
       "<td>0.3786383</td>\n",
       "<td>0.0867471</td>\n",
       "<td>0.4679300</td>\n",
       "<td>73.4914884</td>\n",
       "<td>133.9636442</td></tr>\n",
       "<tr><td></td>\n",
       "<td>9</td>\n",
       "<td>0.3000046</td>\n",
       "<td>0.2013870</td>\n",
       "<td>1.3998121</td>\n",
       "<td>2.0263557</td>\n",
       "<td>0.2265405</td>\n",
       "<td>0.3279380</td>\n",
       "<td>0.1399860</td>\n",
       "<td>0.6079160</td>\n",
       "<td>39.9812069</td>\n",
       "<td>102.6355650</td></tr>\n",
       "<tr><td></td>\n",
       "<td>10</td>\n",
       "<td>0.4000004</td>\n",
       "<td>0.1650907</td>\n",
       "<td>1.1274399</td>\n",
       "<td>1.8016364</td>\n",
       "<td>0.1824608</td>\n",
       "<td>0.2915703</td>\n",
       "<td>0.1127392</td>\n",
       "<td>0.7206552</td>\n",
       "<td>12.7439892</td>\n",
       "<td>80.1636396</td></tr>\n",
       "<tr><td></td>\n",
       "<td>11</td>\n",
       "<td>0.5</td>\n",
       "<td>0.1329263</td>\n",
       "<td>0.8944606</td>\n",
       "<td>1.6202019</td>\n",
       "<td>0.1447562</td>\n",
       "<td>0.2622076</td>\n",
       "<td>0.0894457</td>\n",
       "<td>0.8101010</td>\n",
       "<td>-10.5539438</td>\n",
       "<td>62.0201925</td></tr>\n",
       "<tr><td></td>\n",
       "<td>12</td>\n",
       "<td>0.5999996</td>\n",
       "<td>0.1046306</td>\n",
       "<td>0.7207054</td>\n",
       "<td>1.4702863</td>\n",
       "<td>0.1166363</td>\n",
       "<td>0.2379458</td>\n",
       "<td>0.0720703</td>\n",
       "<td>0.8821712</td>\n",
       "<td>-27.9294646</td>\n",
       "<td>47.0286308</td></tr>\n",
       "<tr><td></td>\n",
       "<td>13</td>\n",
       "<td>0.7000011</td>\n",
       "<td>0.0797497</td>\n",
       "<td>0.5272920</td>\n",
       "<td>1.3355710</td>\n",
       "<td>0.0853350</td>\n",
       "<td>0.2161440</td>\n",
       "<td>0.0527300</td>\n",
       "<td>0.9349012</td>\n",
       "<td>-47.2708022</td>\n",
       "<td>33.5570989</td></tr>\n",
       "<tr><td></td>\n",
       "<td>14</td>\n",
       "<td>0.7999989</td>\n",
       "<td>0.0570987</td>\n",
       "<td>0.3611289</td>\n",
       "<td>1.2137684</td>\n",
       "<td>0.0584438</td>\n",
       "<td>0.1964319</td>\n",
       "<td>0.0361121</td>\n",
       "<td>0.9710133</td>\n",
       "<td>-63.8871053</td>\n",
       "<td>21.3768359</td></tr>\n",
       "<tr><td></td>\n",
       "<td>15</td>\n",
       "<td>0.8999985</td>\n",
       "<td>0.0334812</td>\n",
       "<td>0.2156553</td>\n",
       "<td>1.1028671</td>\n",
       "<td>0.0349009</td>\n",
       "<td>0.1784840</td>\n",
       "<td>0.0215654</td>\n",
       "<td>0.9925787</td>\n",
       "<td>-78.4344694</td>\n",
       "<td>10.2867144</td></tr>\n",
       "<tr><td></td>\n",
       "<td>16</td>\n",
       "<td>1.0</td>\n",
       "<td>0.0018556</td>\n",
       "<td>0.0742115</td>\n",
       "<td>1.0</td>\n",
       "<td>0.0120101</td>\n",
       "<td>0.1618364</td>\n",
       "<td>0.0074213</td>\n",
       "<td>1.0</td>\n",
       "<td>-92.5788536</td>\n",
       "<td>0.0</td></tr></table></div>"
      ],
      "text/plain": [
       "    group    cumulative_data_fraction    lower_threshold    lift       cumulative_lift    response_rate    cumulative_response_rate    capture_rate    cumulative_capture_rate    gain      cumulative_gain\n",
       "--  -------  --------------------------  -----------------  ---------  -----------------  ---------------  --------------------------  --------------  -------------------------  --------  -----------------\n",
       "    1        0.0100009                   0.5806             4.20263    4.20263            0.680138         0.680138                    0.0420301       0.0420301                  320.263   320.263\n",
       "    2        0.0200038                   0.510975           3.49304    3.8478             0.565301         0.622714                    0.0349403       0.0769704                  249.304   284.78\n",
       "    3        0.0300008                   0.469019           3.1884     3.62807            0.515999         0.587154                    0.0318747       0.108845                   218.84    262.807\n",
       "    4        0.0400018                   0.437711           2.8629     3.43677            0.463321         0.556194                    0.0286316       0.137477                   186.29    243.677\n",
       "    5        0.0500008                   0.413419           2.76401    3.30223            0.447318         0.534421                    0.0276374       0.165114                   176.401   230.223\n",
       "    6        0.100002                    0.327567           2.37808    2.84016            0.38486          0.459641                    0.118906        0.28402                    137.808   184.016\n",
       "    7        0.15                        0.280762           1.9433     2.54121            0.314497         0.411261                    0.0971629       0.381183                   94.3302   154.121\n",
       "    8        0.200001                    0.248582           1.73491    2.33964            0.280772         0.378638                    0.0867471       0.46793                    73.4915   133.964\n",
       "    9        0.300005                    0.201387           1.39981    2.02636            0.226541         0.327938                    0.139986        0.607916                   39.9812   102.636\n",
       "    10       0.4                         0.165091           1.12744    1.80164            0.182461         0.29157                     0.112739        0.720655                   12.744    80.1636\n",
       "    11       0.5                         0.132926           0.894461   1.6202             0.144756         0.262208                    0.0894457       0.810101                   -10.5539  62.0202\n",
       "    12       0.6                         0.104631           0.720705   1.47029            0.116636         0.237946                    0.0720703       0.882171                   -27.9295  47.0286\n",
       "    13       0.700001                    0.0797497          0.527292   1.33557            0.085335         0.216144                    0.05273         0.934901                   -47.2708  33.5571\n",
       "    14       0.799999                    0.0570987          0.361129   1.21377            0.0584438        0.196432                    0.0361121       0.971013                   -63.8871  21.3768\n",
       "    15       0.899998                    0.0334812          0.215655   1.10287            0.0349009        0.178484                    0.0215654       0.992579                   -78.4345  10.2867\n",
       "    16       1                           0.00185556         0.0742115  1                  0.0120101        0.161836                    0.00742126      1                          -92.5789  0"
      ]
     },
     "metadata": {},
     "output_type": "display_data"
    },
    {
     "name": "stdout",
     "output_type": "stream",
     "text": [
      "\n",
      "Scoring History: \n"
     ]
    },
    {
     "data": {
      "text/html": [
       "<div style=\"overflow:auto\"><table style=\"width:50%\"><tr><td><b></b></td>\n",
       "<td><b>timestamp</b></td>\n",
       "<td><b>duration</b></td>\n",
       "<td><b>number_of_trees</b></td>\n",
       "<td><b>training_rmse</b></td>\n",
       "<td><b>training_logloss</b></td>\n",
       "<td><b>training_auc</b></td>\n",
       "<td><b>training_lift</b></td>\n",
       "<td><b>training_classification_error</b></td>\n",
       "<td><b>validation_rmse</b></td>\n",
       "<td><b>validation_logloss</b></td>\n",
       "<td><b>validation_auc</b></td>\n",
       "<td><b>validation_lift</b></td>\n",
       "<td><b>validation_classification_error</b></td></tr>\n",
       "<tr><td></td>\n",
       "<td>2017-11-21 13:42:11</td>\n",
       "<td> 0.007 sec</td>\n",
       "<td>0.0</td>\n",
       "<td>0.3686492</td>\n",
       "<td>0.4433269</td>\n",
       "<td>0.5</td>\n",
       "<td>1.0</td>\n",
       "<td>0.8377836</td>\n",
       "<td>0.3683008</td>\n",
       "<td>0.4427030</td>\n",
       "<td>0.5</td>\n",
       "<td>1.0</td>\n",
       "<td>0.8381636</td></tr>\n",
       "<tr><td></td>\n",
       "<td>2017-11-21 13:42:12</td>\n",
       "<td> 1.152 sec</td>\n",
       "<td>1.0</td>\n",
       "<td>0.3564448</td>\n",
       "<td>0.4138108</td>\n",
       "<td>0.7096858</td>\n",
       "<td>3.5503757</td>\n",
       "<td>0.3035308</td>\n",
       "<td>0.3566234</td>\n",
       "<td>0.4143300</td>\n",
       "<td>0.7052258</td>\n",
       "<td>3.5263436</td>\n",
       "<td>0.3592401</td></tr>\n",
       "<tr><td></td>\n",
       "<td>2017-11-21 13:42:15</td>\n",
       "<td> 3.369 sec</td>\n",
       "<td>2.0</td>\n",
       "<td>0.3527399</td>\n",
       "<td>0.4036775</td>\n",
       "<td>0.7238421</td>\n",
       "<td>3.7029139</td>\n",
       "<td>0.2959869</td>\n",
       "<td>0.3531636</td>\n",
       "<td>0.4047106</td>\n",
       "<td>0.7185734</td>\n",
       "<td>3.6546641</td>\n",
       "<td>0.2987863</td></tr>\n",
       "<tr><td></td>\n",
       "<td>2017-11-21 13:42:40</td>\n",
       "<td>28.866 sec</td>\n",
       "<td>300.0</td>\n",
       "<td>0.3412661</td>\n",
       "<td>0.3753536</td>\n",
       "<td>0.7718910</td>\n",
       "<td>4.3992938</td>\n",
       "<td>0.2467694</td>\n",
       "<td>0.3431525</td>\n",
       "<td>0.3794108</td>\n",
       "<td>0.7628869</td>\n",
       "<td>4.2026271</td>\n",
       "<td>0.2501226</td></tr></table></div>"
      ],
      "text/plain": [
       "    timestamp            duration    number_of_trees    training_rmse    training_logloss    training_auc    training_lift    training_classification_error    validation_rmse    validation_logloss    validation_auc    validation_lift    validation_classification_error\n",
       "--  -------------------  ----------  -----------------  ---------------  ------------------  --------------  ---------------  -------------------------------  -----------------  --------------------  ----------------  -----------------  ---------------------------------\n",
       "    2017-11-21 13:42:11  0.007 sec   0                  0.368649         0.443327            0.5             1                0.837784                         0.368301           0.442703              0.5               1                  0.838164\n",
       "    2017-11-21 13:42:12  1.152 sec   1                  0.356445         0.413811            0.709686        3.55038          0.303531                         0.356623           0.41433               0.705226          3.52634            0.35924\n",
       "    2017-11-21 13:42:15  3.369 sec   2                  0.35274          0.403677            0.723842        3.70291          0.295987                         0.353164           0.404711              0.718573          3.65466            0.298786\n",
       "    2017-11-21 13:42:40  28.866 sec  300                0.341266         0.375354            0.771891        4.39929          0.246769                         0.343152           0.379411              0.762887          4.20263            0.250123"
      ]
     },
     "metadata": {},
     "output_type": "display_data"
    },
    {
     "name": "stdout",
     "output_type": "stream",
     "text": [
      "Variable Importances: \n"
     ]
    },
    {
     "data": {
      "text/html": [
       "<div style=\"overflow:auto\"><table style=\"width:50%\"><tr><td><b>variable</b></td>\n",
       "<td><b>relative_importance</b></td>\n",
       "<td><b>scaled_importance</b></td>\n",
       "<td><b>percentage</b></td></tr>\n",
       "<tr><td>price</td>\n",
       "<td>56051.3242188</td>\n",
       "<td>1.0</td>\n",
       "<td>0.2859719</td></tr>\n",
       "<tr><td>leadTime</td>\n",
       "<td>50030.5820312</td>\n",
       "<td>0.8925852</td>\n",
       "<td>0.2552543</td></tr>\n",
       "<tr><td>depWeekOfYear</td>\n",
       "<td>26712.1660156</td>\n",
       "<td>0.4765662</td>\n",
       "<td>0.1362845</td></tr>\n",
       "<tr><td>leg2_departureTime_hour</td>\n",
       "<td>16599.4492188</td>\n",
       "<td>0.2961473</td>\n",
       "<td>0.0846898</td></tr>\n",
       "<tr><td>leg1_departureTime_hour</td>\n",
       "<td>12583.1396484</td>\n",
       "<td>0.2244932</td>\n",
       "<td>0.0641987</td></tr>\n",
       "<tr><td>leg1_noOfTicketsLeft</td>\n",
       "<td>10497.3037109</td>\n",
       "<td>0.1872802</td>\n",
       "<td>0.0535569</td></tr>\n",
       "<tr><td>trip</td>\n",
       "<td>10229.9550781</td>\n",
       "<td>0.1825105</td>\n",
       "<td>0.0521929</td></tr>\n",
       "<tr><td>leg1_stops</td>\n",
       "<td>5789.5185547</td>\n",
       "<td>0.1032896</td>\n",
       "<td>0.0295379</td></tr>\n",
       "<tr><td>leg2_stops</td>\n",
       "<td>4768.4804688</td>\n",
       "<td>0.0850735</td>\n",
       "<td>0.0243286</td></tr>\n",
       "<tr><td>leg2_noOfTicketsLeft</td>\n",
       "<td>2741.0034180</td>\n",
       "<td>0.0489017</td>\n",
       "<td>0.0139845</td></tr></table></div>"
      ],
      "text/plain": [
       "variable                 relative_importance    scaled_importance    percentage\n",
       "-----------------------  ---------------------  -------------------  ------------\n",
       "price                    56051.3                1                    0.285972\n",
       "leadTime                 50030.6                0.892585             0.255254\n",
       "depWeekOfYear            26712.2                0.476566             0.136285\n",
       "leg2_departureTime_hour  16599.4                0.296147             0.0846898\n",
       "leg1_departureTime_hour  12583.1                0.224493             0.0641987\n",
       "leg1_noOfTicketsLeft     10497.3                0.18728              0.0535569\n",
       "trip                     10230                  0.18251              0.0521929\n",
       "leg1_stops               5789.52                0.10329              0.0295379\n",
       "leg2_stops               4768.48                0.0850735            0.0243286\n",
       "leg2_noOfTicketsLeft     2741                   0.0489017            0.0139845"
      ]
     },
     "metadata": {},
     "output_type": "display_data"
    },
    {
     "data": {
      "text/plain": []
     },
     "execution_count": 77,
     "metadata": {},
     "output_type": "execute_result"
    }
   ],
   "source": [
    "gbm"
   ]
  },
  {
   "cell_type": "code",
   "execution_count": 79,
   "metadata": {},
   "outputs": [
    {
     "name": "stdout",
     "output_type": "stream",
     "text": [
      "CPU times: user 0 ns, sys: 0 ns, total: 0 ns\n",
      "Wall time: 5.72 µs\n",
      "############### Modelling: priceWillDrop ################\n",
      "Confusion Matrix (Act/Pred) for max f1 @ threshold = 0.21207209873558827: \n"
     ]
    },
    {
     "data": {
      "text/html": [
       "<div style=\"overflow:auto\"><table style=\"width:50%\"><tr><td><b></b></td>\n",
       "<td><b>0</b></td>\n",
       "<td><b>1</b></td>\n",
       "<td><b>Error</b></td>\n",
       "<td><b>Rate</b></td></tr>\n",
       "<tr><td>0</td>\n",
       "<td>342783.0</td>\n",
       "<td>94782.0</td>\n",
       "<td>0.2166</td>\n",
       "<td> (94782.0/437565.0)</td></tr>\n",
       "<tr><td>1</td>\n",
       "<td>35795.0</td>\n",
       "<td>48692.0</td>\n",
       "<td>0.4237</td>\n",
       "<td> (35795.0/84487.0)</td></tr>\n",
       "<tr><td>Total</td>\n",
       "<td>378578.0</td>\n",
       "<td>143474.0</td>\n",
       "<td>0.2501</td>\n",
       "<td> (130577.0/522052.0)</td></tr></table></div>"
      ],
      "text/plain": [
       "       0       1       Error    Rate\n",
       "-----  ------  ------  -------  -------------------\n",
       "0      342783  94782   0.2166   (94782.0/437565.0)\n",
       "1      35795   48692   0.4237   (35795.0/84487.0)\n",
       "Total  378578  143474  0.2501   (130577.0/522052.0)"
      ]
     },
     "metadata": {},
     "output_type": "display_data"
    },
    {
     "name": "stdout",
     "output_type": "stream",
     "text": [
      "\n"
     ]
    },
    {
     "data": {
      "image/png": "[encoded data removed]",
      "text/plain": [
       "<matplotlib.figure.Figure at 0x7f5f9bb070f0>"
      ]
     },
     "metadata": {},
     "output_type": "display_data"
    },
    {
     "name": "stdout",
     "output_type": "stream",
     "text": [
      "PartialDependencePlot progress: |█████████████████████████████████████████| 100%\n",
      "PartialDependencePlot progress: | (cancelled)\n"
     ]
    },
    {
     "ename": "H2OJobCancelled",
     "evalue": "Job<$0301ac11000232d4ffffffff$_9a41b078ff39d64b4ea6060d006490c> was cancelled by the user.",
     "output_type": "error",
     "traceback": [
      "\u001b[0;31m---------------------------------------------------------------------------\u001b[0m",
      "\u001b[0;31mH2OJobCancelled\u001b[0m                           Traceback (most recent call last)",
      "\u001b[0;32m<ipython-input-79-c9d29bc20553>\u001b[0m in \u001b[0;36m<module>\u001b[0;34m()\u001b[0m\n\u001b[1;32m     46\u001b[0m \u001b[0;31m#         else:\u001b[0m\u001b[0;34m\u001b[0m\u001b[0;34m\u001b[0m\u001b[0m\n\u001b[1;32m     47\u001b[0m         \u001b[0;31m#model.partial_plot(data=test,cols=[f],server=True, plot=True, nbins=21)     #21\u001b[0m\u001b[0;34m\u001b[0m\u001b[0;34m\u001b[0m\u001b[0m\n\u001b[0;32m---> 48\u001b[0;31m         \u001b[0mmodel\u001b[0m\u001b[0;34m.\u001b[0m\u001b[0mpartial_plot\u001b[0m\u001b[0;34m(\u001b[0m\u001b[0mdata\u001b[0m\u001b[0;34m=\u001b[0m\u001b[0mhf2\u001b[0m\u001b[0;34m,\u001b[0m\u001b[0mcols\u001b[0m\u001b[0;34m=\u001b[0m\u001b[0;34m[\u001b[0m\u001b[0mf\u001b[0m\u001b[0;34m]\u001b[0m\u001b[0;34m,\u001b[0m\u001b[0mserver\u001b[0m\u001b[0;34m=\u001b[0m\u001b[0;32mTrue\u001b[0m\u001b[0;34m,\u001b[0m \u001b[0mplot\u001b[0m\u001b[0;34m=\u001b[0m\u001b[0;32mTrue\u001b[0m\u001b[0;34m,\u001b[0m \u001b[0mnbins\u001b[0m\u001b[0;34m=\u001b[0m\u001b[0;36m21\u001b[0m\u001b[0;34m)\u001b[0m     \u001b[0;31m#21\u001b[0m\u001b[0;34m\u001b[0m\u001b[0m\n\u001b[0m",
      "\u001b[0;32m/tmp/spark/work/spark-85bb1714-8dd1-4c68-b071-97b54aeb4789/userFiles-51054e50-cecf-497c-a96a-30d9f5197086/h2o_pysparkling_2.2-2.2.2.zip/h2o/model/model_base.py\u001b[0m in \u001b[0;36mpartial_plot\u001b[0;34m(self, data, cols, destination_key, nbins, plot, plot_stddev, figsize, server)\u001b[0m\n\u001b[1;32m    879\u001b[0m         \u001b[0mkwargs\u001b[0m\u001b[0;34m[\u001b[0m\u001b[0;34m\"destination_key\"\u001b[0m\u001b[0;34m]\u001b[0m \u001b[0;34m=\u001b[0m \u001b[0mdestination_key\u001b[0m\u001b[0;34m\u001b[0m\u001b[0m\n\u001b[1;32m    880\u001b[0m \u001b[0;34m\u001b[0m\u001b[0m\n\u001b[0;32m--> 881\u001b[0;31m         \u001b[0mjson\u001b[0m \u001b[0;34m=\u001b[0m \u001b[0mH2OJob\u001b[0m\u001b[0;34m(\u001b[0m\u001b[0mh2o\u001b[0m\u001b[0;34m.\u001b[0m\u001b[0mapi\u001b[0m\u001b[0;34m(\u001b[0m\u001b[0;34m\"POST /3/PartialDependence/\"\u001b[0m\u001b[0;34m,\u001b[0m \u001b[0mdata\u001b[0m\u001b[0;34m=\u001b[0m\u001b[0mkwargs\u001b[0m\u001b[0;34m)\u001b[0m\u001b[0;34m,\u001b[0m  \u001b[0mjob_type\u001b[0m\u001b[0;34m=\u001b[0m\u001b[0;34m\"PartialDependencePlot\"\u001b[0m\u001b[0;34m)\u001b[0m\u001b[0;34m.\u001b[0m\u001b[0mpoll\u001b[0m\u001b[0;34m(\u001b[0m\u001b[0;34m)\u001b[0m\u001b[0;34m\u001b[0m\u001b[0m\n\u001b[0m\u001b[1;32m    882\u001b[0m         \u001b[0mjson\u001b[0m \u001b[0;34m=\u001b[0m \u001b[0mh2o\u001b[0m\u001b[0;34m.\u001b[0m\u001b[0mapi\u001b[0m\u001b[0;34m(\u001b[0m\u001b[0;34m\"GET /3/PartialDependence/%s\"\u001b[0m \u001b[0;34m%\u001b[0m \u001b[0mjson\u001b[0m\u001b[0;34m.\u001b[0m\u001b[0mdest_key\u001b[0m\u001b[0;34m)\u001b[0m\u001b[0;34m\u001b[0m\u001b[0m\n\u001b[1;32m    883\u001b[0m \u001b[0;34m\u001b[0m\u001b[0m\n",
      "\u001b[0;32m/tmp/spark/work/spark-85bb1714-8dd1-4c68-b071-97b54aeb4789/userFiles-51054e50-cecf-497c-a96a-30d9f5197086/h2o_pysparkling_2.2-2.2.2.zip/h2o/job.py\u001b[0m in \u001b[0;36mpoll\u001b[0;34m(self, verbose_model_scoring_history)\u001b[0m\n\u001b[1;32m     71\u001b[0m         \u001b[0;31m# check if failed... and politely print relevant message\u001b[0m\u001b[0;34m\u001b[0m\u001b[0;34m\u001b[0m\u001b[0m\n\u001b[1;32m     72\u001b[0m         \u001b[0;32mif\u001b[0m \u001b[0mself\u001b[0m\u001b[0;34m.\u001b[0m\u001b[0mstatus\u001b[0m \u001b[0;34m==\u001b[0m \u001b[0;34m\"CANCELLED\"\u001b[0m\u001b[0;34m:\u001b[0m\u001b[0;34m\u001b[0m\u001b[0m\n\u001b[0;32m---> 73\u001b[0;31m             \u001b[0;32mraise\u001b[0m \u001b[0mH2OJobCancelled\u001b[0m\u001b[0;34m(\u001b[0m\u001b[0;34m\"Job<%s> was cancelled by the user.\"\u001b[0m \u001b[0;34m%\u001b[0m \u001b[0mself\u001b[0m\u001b[0;34m.\u001b[0m\u001b[0mjob_key\u001b[0m\u001b[0;34m)\u001b[0m\u001b[0;34m\u001b[0m\u001b[0m\n\u001b[0m\u001b[1;32m     74\u001b[0m         \u001b[0;32mif\u001b[0m \u001b[0mself\u001b[0m\u001b[0;34m.\u001b[0m\u001b[0mstatus\u001b[0m \u001b[0;34m==\u001b[0m \u001b[0;34m\"FAILED\"\u001b[0m\u001b[0;34m:\u001b[0m\u001b[0;34m\u001b[0m\u001b[0m\n\u001b[1;32m     75\u001b[0m             \u001b[0;32mif\u001b[0m \u001b[0;34m(\u001b[0m\u001b[0misinstance\u001b[0m\u001b[0;34m(\u001b[0m\u001b[0mself\u001b[0m\u001b[0;34m.\u001b[0m\u001b[0mjob\u001b[0m\u001b[0;34m,\u001b[0m \u001b[0mdict\u001b[0m\u001b[0;34m)\u001b[0m\u001b[0;34m)\u001b[0m \u001b[0;32mand\u001b[0m \u001b[0;34m(\u001b[0m\u001b[0;34m\"stacktrace\"\u001b[0m \u001b[0;32min\u001b[0m \u001b[0mlist\u001b[0m\u001b[0;34m(\u001b[0m\u001b[0mself\u001b[0m\u001b[0;34m.\u001b[0m\u001b[0mjob\u001b[0m\u001b[0;34m)\u001b[0m\u001b[0;34m)\u001b[0m\u001b[0;34m:\u001b[0m\u001b[0;34m\u001b[0m\u001b[0m\n",
      "\u001b[0;31mH2OJobCancelled\u001b[0m: Job<$0301ac11000232d4ffffffff$_9a41b078ff39d64b4ea6060d006490c> was cancelled by the user."
     ]
    },
    {
     "data": {
      "image/png": "[encoded data removed]",
      "text/plain": [
       "<matplotlib.figure.Figure at 0x7f5f9ba4b978>"
      ]
     },
     "metadata": {},
     "output_type": "display_data"
    },
    {
     "name": "stdout",
     "output_type": "stream",
     "text": [
      "H2O session _sid_9336 closed.\n"
     ]
    },
    {
     "name": "stderr",
     "output_type": "stream",
     "text": [
      "Error in atexit._run_exitfuncs:\n",
      "Traceback (most recent call last):\n",
      "  File \"/opt/conda/lib/python3.6/shutil.py\", line 469, in rmtree\n",
      "    orig_st = os.lstat(path)\n",
      "FileNotFoundError: [Errno 2] No such file or directory: '/tmp/tmp99_tz7mh'\n"
     ]
    }
   ],
   "source": [
    "# Run AutoML for 30 seconds\n",
    "# aml = H2OAutoML(max_runtime_secs = 3600)\n",
    "# aml.train(x=features, y=target,\n",
    "#           training_frame = train,\n",
    "#           validation_frame = valid,\n",
    "#           leaderboard_frame = test)\n",
    "\n",
    "# # View the AutoML Leaderboard\n",
    "# lb = aml.leaderboard\n",
    "# lb\n",
    "# # # aml.leader    \n",
    "\n",
    "# aml.leader\n",
    "\n",
    "# important_features\n",
    "\n",
    "# hf[important_features]\n",
    "\n",
    "%time\n",
    "\n",
    "imp_threshold = 0.01\n",
    "\n",
    "print(\"############### Modelling: \" + target + \" ################\")\n",
    "# model = aml.leader\n",
    "model = gbm\n",
    "print(model.confusion_matrix(valid=True))    \n",
    "model.varimp_plot()   \n",
    "important_features = [i[0] for i in model.varimp() if i[3]  > imp_threshold]\n",
    "for f in important_features:        \n",
    "    if f in ['price',\n",
    "#              'leg1_carrierSummary_airlineName',\n",
    "             'depWeekOfYear',\n",
    "             'leadTime',\n",
    "#              'leg2_carrierSummary_airlineName',\n",
    "             'depDayOfWeek',\n",
    "             'leg1_departureTime_hour',\n",
    "             'toCity',\n",
    "             'leg2_departureTime_hour',\n",
    "             'searchDayOfWeek',\n",
    "             'leg1_noOfTicketsLeft',\n",
    "             'leg2_noOfTicketsLeft',\n",
    "             'fromCity',\n",
    "             'leg1_stops',\n",
    "             'trip']:\n",
    "#             model.partial_plot(data=valid,cols=[f],server=True, plot=True, nbins=272) \n",
    "#         else:\n",
    "        #model.partial_plot(data=test,cols=[f],server=True, plot=True, nbins=21)     #21    \n",
    "        model.partial_plot(data=hf2,cols=[f],server=True, plot=True, nbins=21)     #21    "
   ]
  },
  {
   "cell_type": "code",
   "execution_count": 78,
   "metadata": {},
   "outputs": [
    {
     "data": {
      "image/png": "[encoded data removed]",
      "text/plain": [
       "<matplotlib.figure.Figure at 0x7f5f9bc7bf60>"
      ]
     },
     "metadata": {},
     "output_type": "display_data"
    }
   ],
   "source": [
    "model.plot()\n",
    "\n",
    "# model.download_mojo(path='D:\\\\flight.pq.11\\\\', get_genmodel_jar=True)"
   ]
  }
 ],
 "metadata": {
  "kernelspec": {
   "display_name": "Python 3",
   "language": "python",
   "name": "python3"
  },
  "language_info": {
   "codemirror_mode": {
    "name": "ipython",
    "version": 3
   },
   "file_extension": ".py",
   "mimetype": "text/x-python",
   "name": "python",
   "nbconvert_exporter": "python",
   "pygments_lexer": "ipython3",
   "version": "3.6.3"
  }
 },
 "nbformat": 4,
 "nbformat_minor": 2
}
