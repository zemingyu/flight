{
 "cells": [
  {
   "cell_type": "code",
   "execution_count": 1,
   "metadata": {},
   "outputs": [
    {
     "data": {
      "text/html": [
       "\n",
       "            <div>\n",
       "                <p><b>SparkSession - hive</b></p>\n",
       "                \n",
       "        <div>\n",
       "            <p><b>SparkContext</b></p>\n",
       "\n",
       "            <p><a href=\"http://172.17.0.2:4040\">Spark UI</a></p>\n",
       "\n",
       "            <dl>\n",
       "              <dt>Version</dt>\n",
       "                <dd><code>v2.2.0</code></dd>\n",
       "              <dt>Master</dt>\n",
       "                <dd><code>local[*]</code></dd>\n",
       "              <dt>AppName</dt>\n",
       "                <dd><code>PySparkShell</code></dd>\n",
       "            </dl>\n",
       "        </div>\n",
       "        \n",
       "            </div>\n",
       "        "
      ],
      "text/plain": [
       "<pyspark.sql.session.SparkSession at 0x7fb02f420fd0>"
      ]
     },
     "execution_count": 1,
     "metadata": {},
     "output_type": "execute_result"
    }
   ],
   "source": [
    "spark"
   ]
  },
  {
   "cell_type": "code",
   "execution_count": 2,
   "metadata": {},
   "outputs": [],
   "source": [
    "from pyspark import SparkConf"
   ]
  },
  {
   "cell_type": "code",
   "execution_count": 3,
   "metadata": {},
   "outputs": [],
   "source": [
    "spark.conf.set('spark.executor.cores', 34)\n",
    "spark.conf.set('spark.driver.cores', 2)\n",
    "spark.conf.set('spark.driver.memory', '5g')\n",
    "spark.conf.set('spark.executor.memory', '55g')\n",
    "spark.conf.set('spark.cores.max', 34)\n",
    "spark.conf.set('spark.default.parallelism', 34)"
   ]
  },
  {
   "cell_type": "code",
   "execution_count": 4,
   "metadata": {},
   "outputs": [],
   "source": [
    "# SparkConf()\n",
    "# conf = SparkConf()\n",
    "# # conf.set(\"spark.storage.memoryFraction\", \"0.5\")\n",
    "# sc = SparkContext(conf=conf)"
   ]
  },
  {
   "cell_type": "code",
   "execution_count": 5,
   "metadata": {},
   "outputs": [
    {
     "name": "stderr",
     "output_type": "stream",
     "text": [
      "/opt/conda/lib/python3.6/site-packages/sklearn/cross_validation.py:44: DeprecationWarning: This module was deprecated in version 0.18 in favor of the model_selection module into which all the refactored classes and functions are moved. Also note that the interface of the new CV iterators are different from that of this module. This module will be removed in 0.20.\n",
      "  \"This module will be removed in 0.20.\", DeprecationWarning)\n",
      "/opt/conda/lib/python3.6/site-packages/sklearn/grid_search.py:43: DeprecationWarning: This module was deprecated in version 0.18 in favor of the model_selection module into which all the refactored classes and functions are moved. This module will be removed in 0.20.\n",
      "  DeprecationWarning)\n",
      "/opt/conda/lib/python3.6/site-packages/sklearn/lda.py:6: DeprecationWarning: lda.LDA has been moved to discriminant_analysis.LinearDiscriminantAnalysis in 0.17 and will be removed in 0.19\n",
      "  \"in 0.17 and will be removed in 0.19\", DeprecationWarning)\n",
      "/opt/conda/lib/python3.6/site-packages/sklearn/learning_curve.py:23: DeprecationWarning: This module was deprecated in version 0.18 in favor of the model_selection module into which all the functions are moved. This module will be removed in 0.20\n",
      "  DeprecationWarning)\n",
      "/opt/conda/lib/python3.6/site-packages/sklearn/qda.py:6: DeprecationWarning: qda.QDA has been moved to discriminant_analysis.QuadraticDiscriminantAnalysis in 0.17 and will be removed in 0.19.\n",
      "  \"in 0.17 and will be removed in 0.19.\", DeprecationWarning)\n"
     ]
    }
   ],
   "source": [
    "import pyspark\n",
    "from pyspark import SQLContext\n",
    "import pyspark.sql.functions as F\n",
    "from pyspark.sql.window import Window\n",
    "from pyspark.sql.types import TimestampType\n",
    "\n",
    "import warnings\n",
    "warnings.filterwarnings(action='ignore')\n",
    "\n",
    "import pandas as pd\n",
    "import numpy as np\n",
    "import pandas as pd\n",
    "from sklearn import *\n",
    "from sklearn import preprocessing\n",
    "# import lightgbm as lgb\n",
    "from multiprocessing import *\n",
    "from sklearn.model_selection import StratifiedKFold\n",
    "\n",
    "pd.set_option('display.max_columns', None)\n",
    "\n",
    "# sc = pyspark.SparkContext('local[*]')\n",
    "sc=spark\n",
    "sqlContext = SQLContext(sparkContext=sc)\n",
    "\n",
    "#sc._conf.getAll()"
   ]
  },
  {
   "cell_type": "code",
   "execution_count": 6,
   "metadata": {},
   "outputs": [],
   "source": [
    "s3_path = \"/home/jovyan/work/sparkling-water-2.2.2/uwork/s3/flight.pq.11\"\n",
    "out_path = \"/home/jovyan/work/sparkling-water-2.2.2/work/s3.flight.pq.11.comb\""
   ]
  },
  {
   "cell_type": "code",
   "execution_count": 7,
   "metadata": {},
   "outputs": [
    {
     "name": "stdout",
     "output_type": "stream",
     "text": [
      "/home/jovyan/work/sparkling-water-2.2.2/work/flight/prod\r\n"
     ]
    }
   ],
   "source": [
    "!pwd"
   ]
  },
  {
   "cell_type": "code",
   "execution_count": 8,
   "metadata": {},
   "outputs": [
    {
     "name": "stdout",
     "output_type": "stream",
     "text": [
      "flight_10_1   flight_13_35  flight_22_11  flight_33_6\tflight_6_18\r\n",
      "flight_10_14  flight_13_36  flight_22_12  flight_33_7\tflight_6_19\r\n",
      "flight_10_15  flight_13_37  flight_22_13  flight_33_8\tflight_6_2\r\n",
      "flight_10_16  flight_13_38  flight_22_14  flight_33_9\tflight_6_20\r\n",
      "flight_10_17  flight_13_39  flight_22_5   flight_34_10\tflight_6_21\r\n",
      "flight_10_18  flight_13_4   flight_22_6   flight_34_11\tflight_6_22\r\n",
      "flight_10_19  flight_13_40  flight_22_7   flight_34_12\tflight_6_23\r\n",
      "flight_10_2   flight_13_9   flight_22_8   flight_34_13\tflight_6_24\r\n",
      "flight_10_20  flight_14_1   flight_22_9   flight_34_14\tflight_6_25\r\n",
      "flight_10_21  flight_14_10  flight_23_10  flight_34_5\tflight_6_26\r\n",
      "flight_10_22  flight_14_11  flight_23_11  flight_34_6\tflight_6_27\r\n",
      "flight_10_23  flight_14_12  flight_23_12  flight_34_7\tflight_6_28\r\n",
      "flight_10_24  flight_14_13  flight_23_13  flight_34_8\tflight_6_29\r\n",
      "flight_10_25  flight_14_15  flight_23_14  flight_34_9\tflight_6_3\r\n",
      "flight_10_26  flight_14_16  flight_23_5   flight_3_5\tflight_6_30\r\n",
      "flight_10_27  flight_14_17  flight_23_6   flight_35_10\tflight_6_31\r\n",
      "flight_10_28  flight_14_18  flight_23_7   flight_35_11\tflight_6_32\r\n",
      "flight_10_29  flight_14_19  flight_23_8   flight_35_12\tflight_6_33\r\n",
      "flight_10_3   flight_14_2   flight_23_9   flight_35_13\tflight_6_34\r\n",
      "flight_10_30  flight_14_20  flight_24_10  flight_35_14\tflight_6_35\r\n",
      "flight_10_31  flight_14_21  flight_24_11  flight_35_5\tflight_6_36\r\n",
      "flight_10_32  flight_14_22  flight_24_12  flight_35_6\tflight_6_37\r\n",
      "flight_10_33  flight_14_23  flight_24_13  flight_35_7\tflight_6_38\r\n",
      "flight_10_34  flight_14_24  flight_24_14  flight_35_8\tflight_6_39\r\n",
      "flight_10_35  flight_14_25  flight_24_5   flight_35_9\tflight_6_4\r\n",
      "flight_10_36  flight_14_26  flight_24_6   flight_3_6\tflight_6_40\r\n",
      "flight_10_37  flight_14_27  flight_24_7   flight_36_10\tflight_6_9\r\n",
      "flight_10_38  flight_14_28  flight_24_8   flight_36_11\tflight_7_1\r\n",
      "flight_10_39  flight_14_29  flight_24_9   flight_36_12\tflight_7_14\r\n",
      "flight_10_4   flight_14_3   flight_2_5\t  flight_36_13\tflight_7_15\r\n",
      "flight_10_40  flight_14_30  flight_25_10  flight_36_14\tflight_7_16\r\n",
      "flight_10_9   flight_14_31  flight_25_11  flight_36_5\tflight_7_17\r\n",
      "flight_1_10   flight_14_32  flight_25_12  flight_36_6\tflight_7_18\r\n",
      "flight_1_11   flight_14_33  flight_25_13  flight_36_7\tflight_7_19\r\n",
      "flight_11_1   flight_14_34  flight_25_14  flight_36_8\tflight_7_2\r\n",
      "flight_11_14  flight_14_35  flight_25_5   flight_36_9\tflight_7_20\r\n",
      "flight_11_15  flight_14_36  flight_25_6   flight_3_7\tflight_7_21\r\n",
      "flight_11_16  flight_14_37  flight_25_7   flight_37_10\tflight_7_22\r\n",
      "flight_11_17  flight_14_4   flight_25_8   flight_37_11\tflight_7_23\r\n",
      "flight_11_18  flight_14_5   flight_25_9   flight_37_12\tflight_7_24\r\n",
      "flight_11_19  flight_14_6   flight_2_6\t  flight_37_13\tflight_7_25\r\n",
      "flight_1_12   flight_14_7   flight_26_10  flight_37_14\tflight_7_26\r\n",
      "flight_11_2   flight_14_8   flight_26_11  flight_37_5\tflight_7_27\r\n",
      "flight_11_20  flight_14_9   flight_26_12  flight_37_6\tflight_7_28\r\n",
      "flight_11_21  flight_1_5    flight_26_13  flight_37_7\tflight_7_29\r\n",
      "flight_11_22  flight_15_10  flight_26_14  flight_37_8\tflight_7_3\r\n",
      "flight_11_23  flight_15_11  flight_26_5   flight_37_9\tflight_7_30\r\n",
      "flight_11_24  flight_15_12  flight_26_6   flight_3_8\tflight_7_31\r\n",
      "flight_11_25  flight_15_13  flight_26_7   flight_38_10\tflight_7_32\r\n",
      "flight_11_26  flight_15_14  flight_26_8   flight_38_11\tflight_7_33\r\n",
      "flight_11_27  flight_15_5   flight_26_9   flight_38_12\tflight_7_34\r\n",
      "flight_11_28  flight_15_6   flight_2_7\t  flight_38_13\tflight_7_35\r\n",
      "flight_11_29  flight_15_7   flight_27_10  flight_38_14\tflight_7_36\r\n",
      "flight_1_13   flight_15_8   flight_27_11  flight_38_5\tflight_7_37\r\n",
      "flight_11_3   flight_15_9   flight_27_12  flight_38_6\tflight_7_38\r\n",
      "flight_11_30  flight_1_6    flight_27_13  flight_38_7\tflight_7_39\r\n",
      "flight_11_31  flight_16_10  flight_27_14  flight_38_8\tflight_7_4\r\n",
      "flight_11_32  flight_16_11  flight_27_5   flight_38_9\tflight_7_40\r\n",
      "flight_11_33  flight_16_12  flight_27_6   flight_3_9\tflight_7_9\r\n",
      "flight_11_34  flight_16_13  flight_27_7   flight_39_10\tflight_8_1\r\n",
      "flight_11_35  flight_16_14  flight_27_8   flight_39_11\tflight_8_14\r\n",
      "flight_11_36  flight_16_5   flight_27_9   flight_39_12\tflight_8_15\r\n",
      "flight_11_37  flight_16_6   flight_2_8\t  flight_39_13\tflight_8_16\r\n",
      "flight_11_38  flight_16_7   flight_28_10  flight_39_14\tflight_8_17\r\n",
      "flight_11_39  flight_16_8   flight_28_11  flight_39_5\tflight_8_18\r\n",
      "flight_1_14   flight_16_9   flight_28_12  flight_39_6\tflight_8_19\r\n",
      "flight_11_4   flight_1_7    flight_28_13  flight_39_7\tflight_8_2\r\n",
      "flight_11_40  flight_17_10  flight_28_14  flight_39_8\tflight_8_20\r\n",
      "flight_11_9   flight_17_11  flight_28_5   flight_39_9\tflight_8_21\r\n",
      "flight_12_1   flight_17_12  flight_28_6   flight_40_10\tflight_8_22\r\n",
      "flight_12_14  flight_17_13  flight_28_7   flight_40_11\tflight_8_23\r\n",
      "flight_12_15  flight_17_14  flight_28_8   flight_40_12\tflight_8_24\r\n",
      "flight_12_16  flight_17_5   flight_28_9   flight_40_13\tflight_8_25\r\n",
      "flight_12_17  flight_17_6   flight_2_9\t  flight_40_5\tflight_8_26\r\n",
      "flight_12_18  flight_17_7   flight_29_10  flight_40_6\tflight_8_27\r\n",
      "flight_12_19  flight_17_8   flight_29_11  flight_40_7\tflight_8_28\r\n",
      "flight_12_2   flight_17_9   flight_29_12  flight_40_8\tflight_8_29\r\n",
      "flight_12_20  flight_1_8    flight_29_13  flight_40_9\tflight_8_3\r\n",
      "flight_12_21  flight_18_10  flight_29_14  flight_4_10\tflight_8_30\r\n",
      "flight_12_22  flight_18_11  flight_29_5   flight_4_11\tflight_8_31\r\n",
      "flight_12_23  flight_18_12  flight_29_6   flight_4_12\tflight_8_32\r\n",
      "flight_12_24  flight_18_13  flight_29_7   flight_4_13\tflight_8_33\r\n",
      "flight_12_25  flight_18_14  flight_29_8   flight_4_14\tflight_8_34\r\n",
      "flight_12_26  flight_18_5   flight_29_9   flight_4_5\tflight_8_35\r\n",
      "flight_12_27  flight_18_6   flight_30_10  flight_4_6\tflight_8_36\r\n",
      "flight_12_28  flight_18_7   flight_30_11  flight_4_7\tflight_8_37\r\n",
      "flight_12_29  flight_18_8   flight_30_12  flight_4_8\tflight_8_38\r\n",
      "flight_12_3   flight_18_9   flight_30_13  flight_4_9\tflight_8_39\r\n",
      "flight_12_30  flight_1_9    flight_30_14  flight_5_1\tflight_8_4\r\n",
      "flight_12_31  flight_19_10  flight_30_5   flight_5_14\tflight_8_40\r\n",
      "flight_12_32  flight_19_11  flight_30_6   flight_5_15\tflight_8_9\r\n",
      "flight_12_33  flight_19_12  flight_30_7   flight_5_16\tflight_9_1\r\n",
      "flight_12_34  flight_19_13  flight_30_8   flight_5_17\tflight_9_14\r\n",
      "flight_12_35  flight_19_14  flight_30_9   flight_5_18\tflight_9_15\r\n",
      "flight_12_36  flight_19_5   flight_3_10   flight_5_19\tflight_9_16\r\n",
      "flight_12_37  flight_19_6   flight_3_11   flight_5_2\tflight_9_17\r\n",
      "flight_12_38  flight_19_7   flight_31_10  flight_5_20\tflight_9_18\r\n",
      "flight_12_39  flight_19_8   flight_31_11  flight_5_21\tflight_9_19\r\n",
      "flight_12_4   flight_19_9   flight_31_12  flight_5_22\tflight_9_2\r\n",
      "flight_12_40  flight_20_10  flight_31_13  flight_5_23\tflight_9_20\r\n",
      "flight_12_9   flight_20_11  flight_31_14  flight_5_24\tflight_9_21\r\n",
      "flight_13_1   flight_20_12  flight_3_12   flight_5_25\tflight_9_22\r\n",
      "flight_13_14  flight_20_13  flight_3_13   flight_5_26\tflight_9_23\r\n",
      "flight_13_15  flight_20_14  flight_3_14   flight_5_27\tflight_9_24\r\n",
      "flight_13_16  flight_20_5   flight_31_5   flight_5_28\tflight_9_25\r\n",
      "flight_13_17  flight_20_6   flight_31_6   flight_5_29\tflight_9_26\r\n",
      "flight_13_18  flight_20_7   flight_31_7   flight_5_3\tflight_9_27\r\n",
      "flight_13_19  flight_20_8   flight_31_8   flight_5_30\tflight_9_28\r\n",
      "flight_13_2   flight_20_9   flight_31_9   flight_5_31\tflight_9_29\r\n",
      "flight_13_20  flight_2_10   flight_32_10  flight_5_32\tflight_9_3\r\n",
      "flight_13_21  flight_2_11   flight_32_11  flight_5_33\tflight_9_30\r\n",
      "flight_13_22  flight_21_10  flight_32_12  flight_5_34\tflight_9_31\r\n",
      "flight_13_23  flight_21_11  flight_32_13  flight_5_35\tflight_9_32\r\n",
      "flight_13_24  flight_21_12  flight_32_14  flight_5_36\tflight_9_33\r\n",
      "flight_13_25  flight_21_13  flight_32_5   flight_5_37\tflight_9_34\r\n",
      "flight_13_26  flight_21_14  flight_32_6   flight_5_38\tflight_9_35\r\n",
      "flight_13_27  flight_2_12   flight_32_7   flight_5_39\tflight_9_36\r\n",
      "flight_13_28  flight_2_13   flight_32_8   flight_5_4\tflight_9_37\r\n",
      "flight_13_29  flight_2_14   flight_32_9   flight_5_40\tflight_9_38\r\n",
      "flight_13_3   flight_21_5   flight_33_10  flight_5_9\tflight_9_39\r\n",
      "flight_13_30  flight_21_6   flight_33_11  flight_6_1\tflight_9_4\r\n",
      "flight_13_31  flight_21_7   flight_33_12  flight_6_14\tflight_9_40\r\n",
      "flight_13_32  flight_21_8   flight_33_13  flight_6_15\tpq\r\n",
      "flight_13_33  flight_21_9   flight_33_14  flight_6_16\r\n",
      "flight_13_34  flight_22_10  flight_33_5   flight_6_17\r\n"
     ]
    }
   ],
   "source": [
    "! ls /home/jovyan/work/sparkling-water-2.2.2/uwork/s3/flight.pq.11"
   ]
  },
  {
   "cell_type": "code",
   "execution_count": 9,
   "metadata": {},
   "outputs": [
    {
     "name": "stdout",
     "output_type": "stream",
     "text": [
      "ls: cannot access '/home/jovyan/work/sparkling-water-2.2.2/work/s3.flight.pq.11.comb': No such file or directory\r\n"
     ]
    }
   ],
   "source": [
    "! ls /home/jovyan/work/sparkling-water-2.2.2/work/s3.flight.pq.11.comb"
   ]
  },
  {
   "cell_type": "code",
   "execution_count": 10,
   "metadata": {},
   "outputs": [],
   "source": [
    "from glob import glob\n",
    "\n",
    "folders = glob(s3_path+\"/*/\")\n",
    "\n",
    "try:\n",
    "    folders.remove(s3_path+\"/pq/\") #pq/flight_10_31 Is this duplicate?\n",
    "except ValueError:\n",
    "    print(\"error\")"
   ]
  },
  {
   "cell_type": "code",
   "execution_count": 12,
   "metadata": {},
   "outputs": [
    {
     "data": {
      "text/plain": [
       "622"
      ]
     },
     "execution_count": 12,
     "metadata": {},
     "output_type": "execute_result"
    }
   ],
   "source": [
    "len(folders)"
   ]
  },
  {
   "cell_type": "code",
   "execution_count": null,
   "metadata": {},
   "outputs": [
    {
     "name": "stdout",
     "output_type": "stream",
     "text": [
      "Processing: 0/622  flight_13_16 Elapsed time: 0.0 minutes\n",
      "Processing: 1/622  flight_23_14 Elapsed time: 1.0 minutes\n"
     ]
    }
   ],
   "source": [
    "%%time\n",
    "\n",
    "sample_prop = 1\n",
    "\n",
    "import time\n",
    "\n",
    "start = time.time()\n",
    "\n",
    "for i, f in enumerate(folders):\n",
    "    end = time.time()\n",
    "    elapsed_min = (end - start)/60\n",
    "    print(\"Processing: \" + str(i) + \"/\" + str(len(folders)) + \"  \" + \n",
    "          f.replace(s3_path, \"\").replace(\"/\", \"\") + \" Elapsed time: \" + str(round(elapsed_min, 0)) + \" minutes\")\n",
    "    \n",
    "    if (sample_prop == 1): #no sample\n",
    "        df = (sqlContext.read.parquet(f)          \n",
    "                .withColumn('searchMonth', F.date_format(F.last_day(F.col('searchDate')), \"YYYYMM\")))    \n",
    "    else:    \n",
    "        df = (sqlContext.read.parquet(f)\n",
    "                .sample(False, sample_prop, seed=0)\n",
    "                .withColumn('searchMonth', F.date_format(F.last_day(F.col('searchDate')), \"YYYYMM\")))    \n",
    "        \n",
    "    if (i == 0):        \n",
    "        df.coalesce(2).write.partitionBy(\"fromCity\", \"toCity\", \"searchMonth\").mode(\"overwrite\").save(out_path)\n",
    "    else:        \n",
    "        df.coalesce(2).write.partitionBy(\"fromCity\", \"toCity\", \"searchMonth\").mode(\"append\").save(out_path)            "
   ]
  },
  {
   "cell_type": "code",
   "execution_count": null,
   "metadata": {},
   "outputs": [],
   "source": [
    "df = sqlContext.read.parquet(out_path)"
   ]
  },
  {
   "cell_type": "code",
   "execution_count": null,
   "metadata": {},
   "outputs": [],
   "source": [
    "df.count()"
   ]
  },
  {
   "cell_type": "code",
   "execution_count": null,
   "metadata": {},
   "outputs": [],
   "source": [
    "lookforwardDays = 19\n",
    "ndays = lambda i: i * 86400 # number of seconds in a day\n",
    "byVar = ['toCity', 'depDate', 'stayDays', 'timeline1_departureTime_time', 'timeline2_departureTime_time',\n",
    "         'timeline1_carrier_airlineCode', 'timeline2_carrier_airlineCode']\n",
    "\n",
    "w = (Window.partitionBy('routeCombKey')\n",
    "     .orderBy(F.col('searchDate').cast('timestamp').cast('long'))\n",
    "     .rowsBetween(0, ndays(lookforwardDays)))\n",
    "\n",
    "threshold = 20\n",
    "\n",
    "udfGetWeekNumer = lambda dt: F.udf(dt.isocalendar()[1], IntegerType())\n",
    "# udfGetAvg = lambda x: F.udf(sum(x)/float(len(x)))\\n\\n\n",
    "\n",
    "df2 = (df.filter(df.price > 0)\n",
    "       .withColumn('routeCombKey', F.concat_ws('-', F.col('fromCity'),\n",
    "                                   F.col('toCity'),\n",
    "                                   F.col('stayDays'), F.col('depDate'),\n",
    "                                   F.col('timeline1_departureTime_time'),\n",
    "                                   F.col('timeline2_departureTime_time'),\n",
    "                                   F.col('timeline1_carrier_airlineCode'),\n",
    "                                   F.col('timeline2_carrier_airlineCode')))\n",
    "                                   # join_udf(F.col('timeline1_departureTime_time')),\n",
    "                                   # join_udf(F.col('timeline2_departureTime_time')),\n",
    "                                   # join_udf(F.col('timeline1_carrier_airlineCode')),\n",
    "                                   # join_udf(F.col('timeline2_carrier_airlineCode'))))\n",
    "       .withColumn('futureMinPrice', F.min(F.col('price')).over(w))\n",
    "       .withColumn('priceWillDrop', (F.col('price') - F.col('futureMinPrice') > threshold).cast('int'))\n",
    "       .withColumn('saving0', F.col('price') - F.col('futureMinPrice'))\n",
    "       .withColumn('temp0', F.lit(0))\n",
    "       .withColumn('saving', F.greatest('saving0', 'temp0'))\n",
    "       .drop('saving0', 'temp0')\n",
    "       .withColumn('leadTime', F.datediff(F.col('depDate'), F.col('searchDate')))\n",
    "       .withColumn('depWeekOfYear', F.weekofyear(F.col('depDate')))\n",
    "       .withColumn('retWeekOfYear', F.weekofyear(F.col('leg2_departureTime_date')))\n",
    "       .withColumn('depMonth', F.month(F.col('depDate')))\n",
    "       .withColumn('depDayOfMonth', F.dayofmonth(F.col('depDate')))\n",
    "       .withColumn('depDayOfYear', F.dayofyear(F.col('depDate')))\n",
    "       .withColumn('depDayOfWeek', F.date_format(F.col('depDate'), 'EEEE'))\n",
    "       .withColumn('retDayOfWeek', F.date_format(F.col('leg2_departureTime_date'), 'EEEE'))\n",
    "       .withColumn('searchDayOfWeek', F.date_format(F.col('searchDate'), 'EEEE'))\n",
    "       .withColumn('leg1_noOfTicketsLeft', \n",
    "                   F.when(F.col('leg1_carrierSummary_noOfTicketsLeft') > 0, \n",
    "                          F.col('leg1_carrierSummary_noOfTicketsLeft')).otherwise(99))\n",
    "        .withColumn('leg2_noOfTicketsLeft', \n",
    "                    F.when(F.col('leg2_carrierSummary_noOfTicketsLeft') > 0, \n",
    "                           F.col('leg2_carrierSummary_noOfTicketsLeft')).otherwise(99))\n",
    "       .withColumn('leg1_cabinClass_0', F.col('timeline1_carrier_cabinClass').getItem(0))\n",
    "       .withColumn('leg1_cabinClass_1', F.col('timeline1_carrier_cabinClass').getItem(1))\n",
    "       .withColumn('leg1_cabinClass_2', F.col('timeline1_carrier_cabinClass').getItem(2))\n",
    "       .withColumn('leg2_cabinClass_0', F.col('timeline2_carrier_cabinClass').getItem(0))\n",
    "       .withColumn('leg2_cabinClass_1', F.col('timeline2_carrier_cabinClass').getItem(1))\n",
    "       .withColumn('leg2_cabinClass_2', F.col('timeline2_carrier_cabinClass').getItem(2))\n",
    "       .select('price', 'priceWillDrop', 'futureMinPrice', 'saving',\n",
    "               'fromCity', 'toCity',\n",
    "               'searchDate',\n",
    "               'routeCombKey',\n",
    "               'leadTime', \n",
    "               'leg1_stops', 'leg2_stops',\n",
    "               'leg1_noOfTicketsLeft', 'leg2_noOfTicketsLeft',\n",
    "               'leg1_carrierSummary_airlineName', 'leg2_carrierSummary_airlineName',\n",
    "               'leg1_departureTime_hour', 'leg2_departureTime_hour',\n",
    "               'depWeekOfYear', 'depDayOfWeek','retWeekOfYear', 'retDayOfWeek',\n",
    "               'searchDayOfWeek',\n",
    "               'leg1_cabinClass_0', 'leg1_cabinClass_1', 'leg1_cabinClass_2',\n",
    "               'leg2_cabinClass_0', 'leg2_cabinClass_1', 'leg2_cabinClass_2',\n",
    "               'trip')\n",
    "      )\n",
    "\n",
    "# df2.cache()"
   ]
  },
  {
   "cell_type": "code",
   "execution_count": null,
   "metadata": {},
   "outputs": [],
   "source": [
    "%%time\n",
    "# Slow!\n",
    "\n",
    "df3 = df2.filter(F.col('searchDate') <= F.lit('2017-06-23').cast(TimestampType()))\n",
    "df3 = df3.withColumn('randVar', F.round(F.rand()*200, 0))\n",
    "# df3.filter(F.col('searchDate') >= F.lit('2017-06-16').cast(TimestampType())).toPandas().to_pickle(\"D:\\flight.pq.11\\df3_test.pkl\")\n",
    "# df3.groupby('randVar').agg(F.count('randVar').alias('count')).show(100)\n",
    "\n",
    "# listRand = [x['randVar'] for x in df3.select('randVar').distinct().collect()]\n",
    "\n",
    "# dfArray = [df3.where(F.col('randVar') == x) for x in listRand]\n",
    "\n",
    "# # spark.conf.set(\"spark.driver.maxResultSize\", \"10g\")\n",
    "\n",
    "# i = 0\n",
    "\n",
    "# for df_temp in dfArray:\n",
    "#     df_temp.toPandas().to_pickle('../out_data/flight.pq.11_v2_pickle/df3_test_' + str(listRand[i]) + '.pkl')\n",
    "#     i += 1"
   ]
  },
  {
   "cell_type": "code",
   "execution_count": null,
   "metadata": {},
   "outputs": [],
   "source": [
    "%%time\n",
    "\n",
    "out_path2 = \"/home/jovyan/work/sparkling-water-2.2.2/work/s3.flight.pq.11.modeldata01\"\n",
    "\n",
    "df3.write.partitionBy(\"fromCity\", \"toCity\").mode(\"overwrite\").save(out_path2)"
   ]
  }
 ],
 "metadata": {
  "kernelspec": {
   "display_name": "Python 3",
   "language": "python",
   "name": "python3"
  },
  "language_info": {
   "codemirror_mode": {
    "name": "ipython",
    "version": 3
   },
   "file_extension": ".py",
   "mimetype": "text/x-python",
   "name": "python",
   "nbconvert_exporter": "python",
   "pygments_lexer": "ipython3",
   "version": "3.6.3"
  }
 },
 "nbformat": 4,
 "nbformat_minor": 2
}
